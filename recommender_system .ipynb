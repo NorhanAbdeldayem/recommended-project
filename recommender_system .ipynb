{
 "cells": [
  {
   "cell_type": "markdown",
   "metadata": {
    "id": "Tz8KW9g1_ys8"
   },
   "source": [
    "# Import Libraries"
   ]
  },
  {
   "cell_type": "code",
   "execution_count": 1,
   "metadata": {
    "_cell_guid": "b1076dfc-b9ad-4769-8c92-a6c4dae69d19",
    "_uuid": "8f2839f25d086af736a60e9eeb907d3b93b6e0e5",
    "id": "3Lfcg_hy_ys8"
   },
   "outputs": [],
   "source": [
    "import numpy as np # linear algebra\n",
    "import pandas as pd # data processing, CSV file I/O (e.g. pd.read_csv)\n",
    "import os\n",
    "from IPython.core.interactiveshell import InteractiveShell\n",
    "InteractiveShell.ast_node_interactivity = \"all\"\n",
    "import math\n",
    "import json\n",
    "import time\n",
    "import matplotlib.pyplot as plt\n",
    "import seaborn as sns\n",
    "from sklearn.metrics.pairwise import cosine_similarity\n",
    "from sklearn.model_selection import train_test_split\n",
    "from sklearn.neighbors import NearestNeighbors\n",
    "import joblib\n",
    "from scipy.sparse import csr_matrix\n",
    "from scipy.sparse.linalg import svds\n",
    "import warnings; warnings.simplefilter('ignore')\n",
    "%matplotlib inline\n"
   ]
  },
  {
   "cell_type": "markdown",
   "metadata": {
    "id": "EUigQq6Q_ys9"
   },
   "source": [
    "# Load the Dataset and Add headers"
   ]
  },
  {
   "cell_type": "code",
   "execution_count": 2,
   "metadata": {
    "id": "H4ogAGck_ys9"
   },
   "outputs": [],
   "source": [
    "# Read the CSV file\n",
    "data = pd.read_csv(\"DATA1.csv\", usecols=['UserId', 'ProductId', 'Rating'])"
   ]
  },
  {
   "cell_type": "code",
   "execution_count": 3,
   "metadata": {
    "colab": {
     "base_uri": "https://localhost:8080/",
     "height": 206
    },
    "id": "JaoX7Tmd_ys9",
    "outputId": "fb9ffa5a-b414-4474-a843-c71070a52ad3"
   },
   "outputs": [
    {
     "data": {
      "text/html": [
       "<div>\n",
       "<style scoped>\n",
       "    .dataframe tbody tr th:only-of-type {\n",
       "        vertical-align: middle;\n",
       "    }\n",
       "\n",
       "    .dataframe tbody tr th {\n",
       "        vertical-align: top;\n",
       "    }\n",
       "\n",
       "    .dataframe thead th {\n",
       "        text-align: right;\n",
       "    }\n",
       "</style>\n",
       "<table border=\"1\" class=\"dataframe\">\n",
       "  <thead>\n",
       "    <tr style=\"text-align: right;\">\n",
       "      <th></th>\n",
       "      <th>UserId</th>\n",
       "      <th>ProductId</th>\n",
       "      <th>Rating</th>\n",
       "    </tr>\n",
       "  </thead>\n",
       "  <tbody>\n",
       "    <tr>\n",
       "      <th>0</th>\n",
       "      <td>3596</td>\n",
       "      <td>2</td>\n",
       "      <td>3</td>\n",
       "    </tr>\n",
       "    <tr>\n",
       "      <th>1</th>\n",
       "      <td>3389</td>\n",
       "      <td>3</td>\n",
       "      <td>3</td>\n",
       "    </tr>\n",
       "    <tr>\n",
       "      <th>2</th>\n",
       "      <td>1279</td>\n",
       "      <td>6</td>\n",
       "      <td>5</td>\n",
       "    </tr>\n",
       "    <tr>\n",
       "      <th>3</th>\n",
       "      <td>3878</td>\n",
       "      <td>6</td>\n",
       "      <td>3</td>\n",
       "    </tr>\n",
       "    <tr>\n",
       "      <th>4</th>\n",
       "      <td>4614</td>\n",
       "      <td>3</td>\n",
       "      <td>5</td>\n",
       "    </tr>\n",
       "  </tbody>\n",
       "</table>\n",
       "</div>"
      ],
      "text/plain": [
       "   UserId  ProductId  Rating\n",
       "0    3596          2       3\n",
       "1    3389          3       3\n",
       "2    1279          6       5\n",
       "3    3878          6       3\n",
       "4    4614          3       5"
      ]
     },
     "execution_count": 3,
     "metadata": {},
     "output_type": "execute_result"
    }
   ],
   "source": [
    "# Display the data\n",
    "\n",
    "data.head()\n"
   ]
  },
  {
   "cell_type": "code",
   "execution_count": 4,
   "metadata": {
    "colab": {
     "base_uri": "https://localhost:8080/"
    },
    "id": "M-38xVbW_ys-",
    "outputId": "6799b7ca-c46a-47ef-8f69-2d4d7c51f66d"
   },
   "outputs": [
    {
     "data": {
      "text/plain": [
       "(4999, 3)"
      ]
     },
     "execution_count": 4,
     "metadata": {},
     "output_type": "execute_result"
    }
   ],
   "source": [
    "\n",
    "#Shape of the data\n",
    "data.shape"
   ]
  },
  {
   "cell_type": "code",
   "execution_count": 5,
   "metadata": {
    "id": "iDtfgXSv_ys-"
   },
   "outputs": [],
   "source": [
    "# #Taking subset of the dataset\n",
    "data=data.iloc[:3461,0:]"
   ]
  },
  {
   "cell_type": "code",
   "execution_count": 6,
   "metadata": {
    "colab": {
     "base_uri": "https://localhost:8080/"
    },
    "id": "EcyruokE_ys-",
    "outputId": "bfa42856-b79a-4d83-cee0-6adc8e131019"
   },
   "outputs": [
    {
     "data": {
      "text/plain": [
       "UserId       int64\n",
       "ProductId    int64\n",
       "Rating       int64\n",
       "dtype: object"
      ]
     },
     "execution_count": 6,
     "metadata": {},
     "output_type": "execute_result"
    }
   ],
   "source": [
    "#Check the datatypes\n",
    "data.dtypes"
   ]
  },
  {
   "cell_type": "code",
   "execution_count": 7,
   "metadata": {
    "colab": {
     "base_uri": "https://localhost:8080/"
    },
    "id": "6ZouMxJq_ys-",
    "outputId": "9aac3316-a34c-4927-b496-01d9197148ae"
   },
   "outputs": [
    {
     "name": "stdout",
     "output_type": "stream",
     "text": [
      "<class 'pandas.core.frame.DataFrame'>\n",
      "RangeIndex: 3461 entries, 0 to 3460\n",
      "Data columns (total 3 columns):\n",
      " #   Column     Non-Null Count  Dtype\n",
      "---  ------     --------------  -----\n",
      " 0   UserId     3461 non-null   int64\n",
      " 1   ProductId  3461 non-null   int64\n",
      " 2   Rating     3461 non-null   int64\n",
      "dtypes: int64(3)\n",
      "memory usage: 81.2 KB\n"
     ]
    }
   ],
   "source": [
    "data.info()\n"
   ]
  },
  {
   "cell_type": "code",
   "execution_count": 8,
   "metadata": {
    "colab": {
     "base_uri": "https://localhost:8080/"
    },
    "id": "D_n8D9RG_ys-",
    "outputId": "edfd57b8-9058-476d-c563-15a0390a6b7b"
   },
   "outputs": [
    {
     "data": {
      "text/plain": [
       "count    3461.000000\n",
       "mean        3.000000\n",
       "std         1.407659\n",
       "min         1.000000\n",
       "25%         2.000000\n",
       "50%         3.000000\n",
       "75%         4.000000\n",
       "max         5.000000\n",
       "Name: Rating, dtype: float64"
      ]
     },
     "execution_count": 8,
     "metadata": {},
     "output_type": "execute_result"
    }
   ],
   "source": [
    "#Five point summary\n",
    "\n",
    "data.describe()['Rating'].T\n"
   ]
  },
  {
   "cell_type": "code",
   "execution_count": 9,
   "metadata": {
    "colab": {
     "base_uri": "https://localhost:8080/"
    },
    "id": "3IC4YS4oCA2N",
    "outputId": "75893aae-6000-44f2-b781-a82e9b03a6cb"
   },
   "outputs": [
    {
     "data": {
      "text/plain": [
       "dtype('int64')"
      ]
     },
     "execution_count": 9,
     "metadata": {},
     "output_type": "execute_result"
    }
   ],
   "source": [
    "# Selects the **\"Rating\"** column\n",
    "data['Rating'].dtypes"
   ]
  },
  {
   "cell_type": "code",
   "execution_count": 10,
   "metadata": {
    "id": "tJ6XW4zNCK5d"
   },
   "outputs": [],
   "source": [
    "# Find the row containing the string value 'price'\n",
    "row_with_price = data[data['Rating'] == 'price'].index\n",
    "\n",
    "# Remove the row\n",
    "data = data.drop(row_with_price)\n",
    "\n",
    "# Alternatively, you can replace the string value with a valid float\n",
    "# data.loc[row_with_price, 'Rating'] = 0.0\n",
    "\n",
    "# Convert the 'Rating' column to float\n",
    "data['Rating'] = data['Rating'].astype(float)"
   ]
  },
  {
   "cell_type": "code",
   "execution_count": 11,
   "metadata": {
    "id": "_ns2WIWJBsrs"
   },
   "outputs": [],
   "source": [
    "#  remove empty cells from rating coulm\n",
    "data = data[data['Rating'].notnull()]"
   ]
  },
  {
   "cell_type": "code",
   "execution_count": 12,
   "metadata": {
    "colab": {
     "base_uri": "https://localhost:8080/"
    },
    "id": "HksIidcY_ys_",
    "outputId": "43a94658-2208-4583-80d7-4bd58d6ed799"
   },
   "outputs": [
    {
     "name": "stdout",
     "output_type": "stream",
     "text": [
      "Minimum rating is: 1\n",
      "Maximum rating is: 5\n"
     ]
    }
   ],
   "source": [
    "print('Minimum rating is: %d' %(data.Rating.min()))\n",
    "print('Maximum rating is: %d' %(data.Rating.max()))"
   ]
  },
  {
   "cell_type": "markdown",
   "metadata": {
    "id": "P6rh0FsG_ys_"
   },
   "source": [
    "The rating of the product range from 0 to 1"
   ]
  },
  {
   "cell_type": "markdown",
   "metadata": {
    "id": "-e4HK4zV_ys_"
   },
   "source": [
    "## Handling Missing values\n"
   ]
  },
  {
   "cell_type": "code",
   "execution_count": 13,
   "metadata": {
    "colab": {
     "base_uri": "https://localhost:8080/"
    },
    "id": "Fw2h02yA_ys_",
    "outputId": "6350c23b-b3cf-4365-c471-89c3a17bc093"
   },
   "outputs": [
    {
     "name": "stdout",
     "output_type": "stream",
     "text": [
      "Number of missing values across columns: \n",
      " UserId       0\n",
      "ProductId    0\n",
      "Rating       0\n",
      "dtype: int64\n"
     ]
    }
   ],
   "source": [
    "#Check for missing values\n",
    "print('Number of missing values across columns: \\n',data.isnull().sum())"
   ]
  },
  {
   "cell_type": "markdown",
   "metadata": {
    "id": "wCD8-yOw_ys_"
   },
   "source": [
    "## Ratings"
   ]
  },
  {
   "cell_type": "code",
   "execution_count": 14,
   "metadata": {
    "colab": {
     "base_uri": "https://localhost:8080/",
     "height": 524
    },
    "id": "hQn31gN4_ys_",
    "outputId": "8f9837f6-d347-4628-d9a4-42d774e6710f"
   },
   "outputs": [
    {
     "data": {
      "text/plain": [
       "<seaborn.axisgrid.FacetGrid at 0x203ca7d5a10>"
      ]
     },
     "execution_count": 14,
     "metadata": {},
     "output_type": "execute_result"
    },
    {
     "data": {
      "image/png": "[encoded data removed]",
      "text/plain": [
       "<Figure size 1011.11x500 with 1 Axes>"
      ]
     },
     "metadata": {},
     "output_type": "display_data"
    }
   ],
   "source": [
    "# Set the style for the plot\n",
    "with sns.axes_style('white'):\n",
    "    # Create the catplot\n",
    "    # aspect --->  Sets the aspect ratio\n",
    "    #  kind ---> Specifies that the plot type is a count plot\n",
    "    g = sns.catplot(x=\"Rating\", data=data, aspect=2.0, kind='count')\n",
    "\n",
    "# Set the y-axis label\n",
    "g.set_ylabels(\"Total number of ratings\")"
   ]
  },
  {
   "cell_type": "markdown",
   "metadata": {
    "id": "VxrGaSF4_ys_"
   },
   "source": [
    "Most of the people has given the rating of 5"
   ]
  },
  {
   "cell_type": "markdown",
   "metadata": {
    "id": "h7XoqkMr_ys_"
   },
   "source": [
    "## Unique Users and products\n"
   ]
  },
  {
   "cell_type": "code",
   "execution_count": 15,
   "metadata": {
    "colab": {
     "base_uri": "https://localhost:8080/"
    },
    "id": "YQPnVW_V_ys_",
    "outputId": "55ae61d9-cdb5-4972-c108-69c1abc5c0da"
   },
   "outputs": [
    {
     "name": "stdout",
     "output_type": "stream",
     "text": [
      "Total data \n",
      "--------------------------------------------------\n",
      "\n",
      "Total no of ratings : 3461\n",
      "Total No of Users   : 2492\n",
      "Total No of products  : 6\n"
     ]
    }
   ],
   "source": [
    "print(\"Total data \")\n",
    "print(\"-\"*50)\n",
    "print(\"\\nTotal no of ratings :\",data.shape[0])\n",
    "print(\"Total No of Users   :\", len(np.unique(data.UserId)))\n",
    "print(\"Total No of products  :\", len(np.unique(data.ProductId)))"
   ]
  },
  {
   "cell_type": "markdown",
   "metadata": {
    "id": "SzMo4UhB_ytA"
   },
   "source": [
    "## Dropping the TimeStamp Column"
   ]
  },
  {
   "cell_type": "code",
   "execution_count": 16,
   "metadata": {
    "id": "ouKtWRyp_ytA"
   },
   "outputs": [],
   "source": [
    "# #Dropping the Timestamp column\n",
    "\n",
    "# data.drop(['time'], axis=1,inplace=True)"
   ]
  },
  {
   "cell_type": "markdown",
   "metadata": {
    "id": "J5jRs4Ry_ytA"
   },
   "source": [
    "# Analyzing the rating"
   ]
  },
  {
   "cell_type": "code",
   "execution_count": 17,
   "metadata": {
    "colab": {
     "base_uri": "https://localhost:8080/"
    },
    "id": "NZCc1IxE_ytA",
    "outputId": "a8350006-df70-4f7d-873f-307ba3e1dfeb"
   },
   "outputs": [
    {
     "data": {
      "text/plain": [
       "UserId\n",
       "4647    6\n",
       "508     5\n",
       "3094    5\n",
       "1324    4\n",
       "1967    4\n",
       "Name: Rating, dtype: int64"
      ]
     },
     "execution_count": 17,
     "metadata": {},
     "output_type": "execute_result"
    }
   ],
   "source": [
    "#Analysis of rating given by the user\n",
    "#no_of_rated_products_per_user --> stores the result of the analysis. It represents the number of rated products per user\n",
    "#data.groupb --> groups \"uerid\" & It calculates the number of ratings given by each user.\n",
    "# sort_values(ascending=False) --> sorts the resulting counts in descending order.\n",
    "no_of_rated_products_per_user = data.groupby(by='UserId')['Rating'].count().sort_values(ascending=False)\n",
    "\n",
    "no_of_rated_products_per_user.head()"
   ]
  },
  {
   "cell_type": "code",
   "execution_count": 18,
   "metadata": {
    "colab": {
     "base_uri": "https://localhost:8080/"
    },
    "id": "MyuejoHA_ytA",
    "outputId": "2be39cec-ba1d-4832-c92f-7a6c68b7e97b"
   },
   "outputs": [
    {
     "data": {
      "text/plain": [
       "count    2492.000000\n",
       "mean        1.388844\n",
       "std         0.653622\n",
       "min         1.000000\n",
       "25%         1.000000\n",
       "50%         1.000000\n",
       "75%         2.000000\n",
       "max         6.000000\n",
       "Name: Rating, dtype: float64"
      ]
     },
     "execution_count": 18,
     "metadata": {},
     "output_type": "execute_result"
    }
   ],
   "source": [
    "no_of_rated_products_per_user.describe()\n"
   ]
  },
  {
   "cell_type": "code",
   "execution_count": 19,
   "metadata": {
    "id": "HvupF57z_ytA"
   },
   "outputs": [],
   "source": [
    "quantiles = no_of_rated_products_per_user.quantile(np.arange(0,1.01,0.01), interpolation='higher')\n"
   ]
  },
  {
   "cell_type": "code",
   "execution_count": 20,
   "metadata": {
    "colab": {
     "base_uri": "https://localhost:8080/",
     "height": 1000
    },
    "id": "T4UIfkxN_ytA",
    "outputId": "47edb7d3-f221-460f-d1f6-206c1114f193"
   },
   "outputs": [
    {
     "data": {
      "text/plain": [
       "<Figure size 1000x1000 with 0 Axes>"
      ]
     },
     "execution_count": 20,
     "metadata": {},
     "output_type": "execute_result"
    },
    {
     "data": {
      "text/plain": [
       "Text(0.5, 1.0, 'Quantiles and their Values')"
      ]
     },
     "execution_count": 20,
     "metadata": {},
     "output_type": "execute_result"
    },
    {
     "data": {
      "text/plain": [
       "<Axes: title={'center': 'Quantiles and their Values'}>"
      ]
     },
     "execution_count": 20,
     "metadata": {},
     "output_type": "execute_result"
    },
    {
     "data": {
      "text/plain": [
       "<matplotlib.collections.PathCollection at 0x203cd52f590>"
      ]
     },
     "execution_count": 20,
     "metadata": {},
     "output_type": "execute_result"
    },
    {
     "data": {
      "text/plain": [
       "<matplotlib.collections.PathCollection at 0x203cd533590>"
      ]
     },
     "execution_count": 20,
     "metadata": {},
     "output_type": "execute_result"
    },
    {
     "data": {
      "text/plain": [
       "Text(0, 0.5, 'No of ratings by user')"
      ]
     },
     "execution_count": 20,
     "metadata": {},
     "output_type": "execute_result"
    },
    {
     "data": {
      "text/plain": [
       "Text(0.5, 0, 'Value at the quantile')"
      ]
     },
     "execution_count": 20,
     "metadata": {},
     "output_type": "execute_result"
    },
    {
     "data": {
      "text/plain": [
       "<matplotlib.legend.Legend at 0x203ca3233d0>"
      ]
     },
     "execution_count": 20,
     "metadata": {},
     "output_type": "execute_result"
    },
    {
     "data": {
      "image/png": "[encoded data removed]",
      "text/plain": [
       "<Figure size 1000x1000 with 1 Axes>"
      ]
     },
     "metadata": {},
     "output_type": "display_data"
    }
   ],
   "source": [
    "plt.figure(figsize=(10,10))\n",
    "plt.title(\"Quantiles and their Values\")\n",
    "quantiles.plot()\n",
    "# quantiles with 0.05 difference\n",
    "plt.scatter(x=quantiles.index[::5], y=quantiles.values[::5], c='orange', label=\"quantiles with 0.05 intervals\")\n",
    "# quantiles with 0.25 difference\n",
    "plt.scatter(x=quantiles.index[::25], y=quantiles.values[::25], c='m', label = \"quantiles with 0.25 intervals\")\n",
    "plt.ylabel('No of ratings by user')\n",
    "plt.xlabel('Value at the quantile')\n",
    "plt.legend(loc='best')\n",
    "plt.show()"
   ]
  },
  {
   "cell_type": "code",
   "execution_count": 21,
   "metadata": {
    "colab": {
     "base_uri": "https://localhost:8080/"
    },
    "id": "k8otIQtR_ytB",
    "outputId": "87621342-04a1-45ab-9f9f-c962eb05c0be"
   },
   "outputs": [
    {
     "name": "stdout",
     "output_type": "stream",
     "text": [
      "\n",
      " No of rated product more than 50 per user : 0\n",
      "\n"
     ]
    }
   ],
   "source": [
    "# number of users who have rated more than 50 products\n",
    "print('\\n No of rated product more than 50 per user : {}\\n'.format(sum(no_of_rated_products_per_user >= 50)) )\n"
   ]
  },
  {
   "cell_type": "markdown",
   "metadata": {
    "id": "VOi_C7K1_ytB"
   },
   "source": [
    "# Popularity Based Recommendation\n",
    "\n"
   ]
  },
  {
   "cell_type": "code",
   "execution_count": 22,
   "metadata": {
    "id": "ux2rh1ej_ytB"
   },
   "outputs": [],
   "source": [
    "#Getting the new dataframe which contains users who has given 50 or more ratings\n",
    "# بيجيب المنتج اللي تقيم اكتر من 50 مره\n",
    "# groupby -->  creates separate groups for each unique product.\n",
    "\n",
    "new_df=data.groupby(\"ProductId\").filter(lambda x:x['Rating'].count() >=50)"
   ]
  },
  {
   "cell_type": "code",
   "execution_count": 23,
   "metadata": {},
   "outputs": [
    {
     "data": {
      "text/html": [
       "<div>\n",
       "<style scoped>\n",
       "    .dataframe tbody tr th:only-of-type {\n",
       "        vertical-align: middle;\n",
       "    }\n",
       "\n",
       "    .dataframe tbody tr th {\n",
       "        vertical-align: top;\n",
       "    }\n",
       "\n",
       "    .dataframe thead th {\n",
       "        text-align: right;\n",
       "    }\n",
       "</style>\n",
       "<table border=\"1\" class=\"dataframe\">\n",
       "  <thead>\n",
       "    <tr style=\"text-align: right;\">\n",
       "      <th></th>\n",
       "      <th>UserId</th>\n",
       "      <th>ProductId</th>\n",
       "      <th>Rating</th>\n",
       "    </tr>\n",
       "  </thead>\n",
       "  <tbody>\n",
       "    <tr>\n",
       "      <th>0</th>\n",
       "      <td>3596</td>\n",
       "      <td>2</td>\n",
       "      <td>3.0</td>\n",
       "    </tr>\n",
       "    <tr>\n",
       "      <th>1</th>\n",
       "      <td>3389</td>\n",
       "      <td>3</td>\n",
       "      <td>3.0</td>\n",
       "    </tr>\n",
       "    <tr>\n",
       "      <th>2</th>\n",
       "      <td>1279</td>\n",
       "      <td>6</td>\n",
       "      <td>5.0</td>\n",
       "    </tr>\n",
       "    <tr>\n",
       "      <th>3</th>\n",
       "      <td>3878</td>\n",
       "      <td>6</td>\n",
       "      <td>3.0</td>\n",
       "    </tr>\n",
       "    <tr>\n",
       "      <th>4</th>\n",
       "      <td>4614</td>\n",
       "      <td>3</td>\n",
       "      <td>5.0</td>\n",
       "    </tr>\n",
       "    <tr>\n",
       "      <th>...</th>\n",
       "      <td>...</td>\n",
       "      <td>...</td>\n",
       "      <td>...</td>\n",
       "    </tr>\n",
       "    <tr>\n",
       "      <th>3456</th>\n",
       "      <td>4975</td>\n",
       "      <td>6</td>\n",
       "      <td>4.0</td>\n",
       "    </tr>\n",
       "    <tr>\n",
       "      <th>3457</th>\n",
       "      <td>2628</td>\n",
       "      <td>1</td>\n",
       "      <td>2.0</td>\n",
       "    </tr>\n",
       "    <tr>\n",
       "      <th>3458</th>\n",
       "      <td>2445</td>\n",
       "      <td>6</td>\n",
       "      <td>3.0</td>\n",
       "    </tr>\n",
       "    <tr>\n",
       "      <th>3459</th>\n",
       "      <td>1915</td>\n",
       "      <td>3</td>\n",
       "      <td>1.0</td>\n",
       "    </tr>\n",
       "    <tr>\n",
       "      <th>3460</th>\n",
       "      <td>1486</td>\n",
       "      <td>2</td>\n",
       "      <td>3.0</td>\n",
       "    </tr>\n",
       "  </tbody>\n",
       "</table>\n",
       "<p>3461 rows × 3 columns</p>\n",
       "</div>"
      ],
      "text/plain": [
       "      UserId  ProductId  Rating\n",
       "0       3596          2     3.0\n",
       "1       3389          3     3.0\n",
       "2       1279          6     5.0\n",
       "3       3878          6     3.0\n",
       "4       4614          3     5.0\n",
       "...      ...        ...     ...\n",
       "3456    4975          6     4.0\n",
       "3457    2628          1     2.0\n",
       "3458    2445          6     3.0\n",
       "3459    1915          3     1.0\n",
       "3460    1486          2     3.0\n",
       "\n",
       "[3461 rows x 3 columns]"
      ]
     },
     "execution_count": 23,
     "metadata": {},
     "output_type": "execute_result"
    }
   ],
   "source": [
    "new_df"
   ]
  },
  {
   "cell_type": "code",
   "execution_count": 24,
   "metadata": {
    "colab": {
     "base_uri": "https://localhost:8080/",
     "height": 730
    },
    "id": "abBibsEq_ytB",
    "outputId": "a3c6c663-72a1-449b-cf6d-e6ae19978796"
   },
   "outputs": [
    {
     "data": {
      "text/plain": [
       "[<matplotlib.lines.Line2D at 0x203cd57d710>]"
      ]
     },
     "execution_count": 24,
     "metadata": {},
     "output_type": "execute_result"
    },
    {
     "data": {
      "text/plain": [
       "Text(0.5, 1.0, '# RATINGS per Product')"
      ]
     },
     "execution_count": 24,
     "metadata": {},
     "output_type": "execute_result"
    },
    {
     "data": {
      "text/plain": [
       "Text(0.5, 0, 'Product')"
      ]
     },
     "execution_count": 24,
     "metadata": {},
     "output_type": "execute_result"
    },
    {
     "data": {
      "text/plain": [
       "Text(0, 0.5, 'No of ratings per product')"
      ]
     },
     "execution_count": 24,
     "metadata": {},
     "output_type": "execute_result"
    },
    {
     "data": {
      "text/plain": [
       "[Text(-1.0, 0, ''),\n",
       " Text(0.0, 0, ''),\n",
       " Text(1.0, 0, ''),\n",
       " Text(2.0, 0, ''),\n",
       " Text(3.0, 0, ''),\n",
       " Text(4.0, 0, ''),\n",
       " Text(5.0, 0, ''),\n",
       " Text(6.0, 0, '')]"
      ]
     },
     "execution_count": 24,
     "metadata": {},
     "output_type": "execute_result"
    },
    {
     "data": {
      "image/png": "[encoded data removed]",
      "text/plain": [
       "<Figure size 960x480 with 1 Axes>"
      ]
     },
     "metadata": {},
     "output_type": "display_data"
    }
   ],
   "source": [
    "# بيحسب الريت ل كل مشروب وبعدين يرتبهم بترتيب تنازلي\n",
    "no_of_ratings_per_product = new_df.groupby(by='ProductId')['Rating'].count().sort_values(ascending=False)\n",
    "\n",
    "fig = plt.figure(figsize=plt.figaspect(.5))\n",
    "ax = plt.gca()\n",
    "plt.plot(no_of_ratings_per_product.values)\n",
    "plt.title('# RATINGS per Product')\n",
    "plt.xlabel('Product')\n",
    "plt.ylabel('No of ratings per product')\n",
    "ax.set_xticklabels([])\n",
    "\n",
    "plt.show()"
   ]
  },
  {
   "cell_type": "code",
   "execution_count": 25,
   "metadata": {
    "colab": {
     "base_uri": "https://localhost:8080/"
    },
    "id": "GnKzCRX1_ytB",
    "outputId": "85cf7227-28b3-4679-ca04-5fa9c345d507"
   },
   "outputs": [
    {
     "data": {
      "text/plain": [
       "ProductId\n",
       "1    2.870912\n",
       "2    3.059701\n",
       "3    2.973022\n",
       "4    3.051327\n",
       "5    3.010545\n",
       "Name: Rating, dtype: float64"
      ]
     },
     "execution_count": 25,
     "metadata": {},
     "output_type": "execute_result"
    }
   ],
   "source": [
    "#Average rating of the product\n",
    "#بجيب متوسط التقيم لكل منتج\n",
    "new_df.groupby('ProductId')['Rating'].mean().head()"
   ]
  },
  {
   "cell_type": "code",
   "execution_count": 26,
   "metadata": {
    "colab": {
     "base_uri": "https://localhost:8080/"
    },
    "id": "oip4Zyac_ytB",
    "outputId": "6a22ae13-0a66-44d3-8855-3bbef005cbe9"
   },
   "outputs": [
    {
     "data": {
      "text/plain": [
       "ProductId\n",
       "2    3.059701\n",
       "4    3.051327\n",
       "6    3.032368\n",
       "5    3.010545\n",
       "3    2.973022\n",
       "Name: Rating, dtype: float64"
      ]
     },
     "execution_count": 26,
     "metadata": {},
     "output_type": "execute_result"
    }
   ],
   "source": [
    "\n",
    "new_df.groupby('ProductId')['Rating'].mean().sort_values(ascending=False).head()\n"
   ]
  },
  {
   "cell_type": "code",
   "execution_count": 27,
   "metadata": {
    "colab": {
     "base_uri": "https://localhost:8080/"
    },
    "id": "76XnHoki_ytB",
    "outputId": "e3dceae0-59ad-4679-fe23-6227ef1d556d"
   },
   "outputs": [
    {
     "data": {
      "text/plain": [
       "ProductId\n",
       "2    603\n",
       "6    587\n",
       "1    581\n",
       "5    569\n",
       "4    565\n",
       "Name: Rating, dtype: int64"
      ]
     },
     "execution_count": 27,
     "metadata": {},
     "output_type": "execute_result"
    }
   ],
   "source": [
    "#Total no of rating for product\n",
    "#يقوم بحساب العدد الإجمالي للتقييمات لكل منتج\n",
    "new_df.groupby('ProductId')['Rating'].count().sort_values(ascending=False).head()"
   ]
  },
  {
   "cell_type": "code",
   "execution_count": 28,
   "metadata": {
    "id": "TNubTLC0_ytB"
   },
   "outputs": [],
   "source": [
    "\n",
    "# So, `ratings_mean_count` will be a DataFrame where each row represents a product,\n",
    "# and it will have two columns: 'productId' and 'Rating'.\n",
    "# The 'Rating' column will contain the mean rating for each product,\n",
    "# calculated from the ratings in the original DataFrame `new_df`.\n",
    "# This DataFrame can then be used for further analysis or visualizatio\n",
    "\n",
    "\n",
    "ratings_mean_count = pd.DataFrame(new_df.groupby('ProductId')['Rating'].mean())\n"
   ]
  },
  {
   "cell_type": "code",
   "execution_count": 29,
   "metadata": {
    "id": "Z60HUHu5_ytB"
   },
   "outputs": [],
   "source": [
    "# So, after executing this line of code, the DataFrame\n",
    "# `ratings_mean_count` will have a new column 'rating_counts' containing the count of ratings for each product.\n",
    "# Each row in this DataFrame still represents a unique product,\n",
    "# and it now has two columns: 'Rating' (representing the mean rating for each product)\n",
    "# and 'rating_counts' (representing the count of ratings for each product).\n",
    "# This combined information provides a more comprehensive view of the ratings data for each product.\n",
    "\n",
    "\n",
    "ratings_mean_count['rating_counts'] = pd.DataFrame(new_df.groupby('ProductId')['Rating'].count())\n"
   ]
  },
  {
   "cell_type": "code",
   "execution_count": 30,
   "metadata": {},
   "outputs": [
    {
     "data": {
      "text/html": [
       "<div>\n",
       "<style scoped>\n",
       "    .dataframe tbody tr th:only-of-type {\n",
       "        vertical-align: middle;\n",
       "    }\n",
       "\n",
       "    .dataframe tbody tr th {\n",
       "        vertical-align: top;\n",
       "    }\n",
       "\n",
       "    .dataframe thead th {\n",
       "        text-align: right;\n",
       "    }\n",
       "</style>\n",
       "<table border=\"1\" class=\"dataframe\">\n",
       "  <thead>\n",
       "    <tr style=\"text-align: right;\">\n",
       "      <th></th>\n",
       "      <th>Rating</th>\n",
       "      <th>rating_counts</th>\n",
       "    </tr>\n",
       "    <tr>\n",
       "      <th>ProductId</th>\n",
       "      <th></th>\n",
       "      <th></th>\n",
       "    </tr>\n",
       "  </thead>\n",
       "  <tbody>\n",
       "    <tr>\n",
       "      <th>1</th>\n",
       "      <td>2.870912</td>\n",
       "      <td>581</td>\n",
       "    </tr>\n",
       "    <tr>\n",
       "      <th>2</th>\n",
       "      <td>3.059701</td>\n",
       "      <td>603</td>\n",
       "    </tr>\n",
       "    <tr>\n",
       "      <th>3</th>\n",
       "      <td>2.973022</td>\n",
       "      <td>556</td>\n",
       "    </tr>\n",
       "    <tr>\n",
       "      <th>4</th>\n",
       "      <td>3.051327</td>\n",
       "      <td>565</td>\n",
       "    </tr>\n",
       "    <tr>\n",
       "      <th>5</th>\n",
       "      <td>3.010545</td>\n",
       "      <td>569</td>\n",
       "    </tr>\n",
       "  </tbody>\n",
       "</table>\n",
       "</div>"
      ],
      "text/plain": [
       "             Rating  rating_counts\n",
       "ProductId                         \n",
       "1          2.870912            581\n",
       "2          3.059701            603\n",
       "3          2.973022            556\n",
       "4          3.051327            565\n",
       "5          3.010545            569"
      ]
     },
     "execution_count": 30,
     "metadata": {},
     "output_type": "execute_result"
    }
   ],
   "source": [
    "ratings_mean_count.head()\n"
   ]
  },
  {
   "cell_type": "code",
   "execution_count": 31,
   "metadata": {},
   "outputs": [
    {
     "data": {
      "text/plain": [
       "(6, 2)"
      ]
     },
     "execution_count": 31,
     "metadata": {},
     "output_type": "execute_result"
    }
   ],
   "source": [
    "ratings_mean_count.shape"
   ]
  },
  {
   "cell_type": "code",
   "execution_count": 32,
   "metadata": {
    "colab": {
     "base_uri": "https://localhost:8080/"
    },
    "id": "6zY325Yn_ytC",
    "outputId": "f5d3f1bb-b42e-43d6-d6c9-aca22e11e063"
   },
   "outputs": [
    {
     "data": {
      "text/plain": [
       "603"
      ]
     },
     "execution_count": 32,
     "metadata": {},
     "output_type": "execute_result"
    }
   ],
   "source": [
    "ratings_mean_count['rating_counts'].max()\n"
   ]
  },
  {
   "cell_type": "code",
   "execution_count": 33,
   "metadata": {
    "colab": {
     "base_uri": "https://localhost:8080/",
     "height": 558
    },
    "id": "UCOswxD3_ytC",
    "outputId": "51da85a6-1c9d-4394-ca71-e87eb516f27f"
   },
   "outputs": [
    {
     "data": {
      "text/plain": [
       "<Figure size 800x600 with 0 Axes>"
      ]
     },
     "execution_count": 33,
     "metadata": {},
     "output_type": "execute_result"
    },
    {
     "data": {
      "text/plain": [
       "<Axes: >"
      ]
     },
     "execution_count": 33,
     "metadata": {},
     "output_type": "execute_result"
    },
    {
     "data": {
      "image/png": "[encoded data removed]",
      "text/plain": [
       "<Figure size 800x600 with 1 Axes>"
      ]
     },
     "metadata": {},
     "output_type": "display_data"
    }
   ],
   "source": [
    "# create a histogram of the count of ratings per product\n",
    "plt.figure(figsize=(8,6))\n",
    "plt.rcParams['patch.force_edgecolor'] = True\n",
    "ratings_mean_count['rating_counts'].hist(bins=50)"
   ]
  },
  {
   "cell_type": "code",
   "execution_count": 34,
   "metadata": {
    "colab": {
     "base_uri": "https://localhost:8080/",
     "height": 558
    },
    "id": "P-0KYEDK_ytD",
    "outputId": "be6c2e69-a4a0-41c6-c9cf-ed0c247634f1"
   },
   "outputs": [
    {
     "data": {
      "text/plain": [
       "<Figure size 800x600 with 0 Axes>"
      ]
     },
     "execution_count": 34,
     "metadata": {},
     "output_type": "execute_result"
    },
    {
     "data": {
      "text/plain": [
       "<Axes: >"
      ]
     },
     "execution_count": 34,
     "metadata": {},
     "output_type": "execute_result"
    },
    {
     "data": {
      "image/png": "[encoded data removed]",
      "text/plain": [
       "<Figure size 800x600 with 1 Axes>"
      ]
     },
     "metadata": {},
     "output_type": "display_data"
    }
   ],
   "source": [
    "plt.figure(figsize=(8,6))\n",
    "plt.rcParams['patch.force_edgecolor'] = True\n",
    "ratings_mean_count['Rating'].hist(bins=50)"
   ]
  },
  {
   "cell_type": "code",
   "execution_count": 35,
   "metadata": {
    "colab": {
     "base_uri": "https://localhost:8080/",
     "height": 661
    },
    "id": "aRBr88_d_ytD",
    "outputId": "d5ee4022-7b97-4a69-9acc-bce9593e98ef"
   },
   "outputs": [
    {
     "data": {
      "text/plain": [
       "<Figure size 800x600 with 0 Axes>"
      ]
     },
     "execution_count": 35,
     "metadata": {},
     "output_type": "execute_result"
    },
    {
     "data": {
      "text/plain": [
       "<seaborn.axisgrid.JointGrid at 0x203ccfb15d0>"
      ]
     },
     "execution_count": 35,
     "metadata": {},
     "output_type": "execute_result"
    },
    {
     "data": {
      "text/plain": [
       "<Figure size 800x600 with 0 Axes>"
      ]
     },
     "metadata": {},
     "output_type": "display_data"
    },
    {
     "data": {
      "image/png": "[encoded data removed]",
      "text/plain": [
       "<Figure size 600x600 with 3 Axes>"
      ]
     },
     "metadata": {},
     "output_type": "display_data"
    }
   ],
   "source": [
    "plt.figure(figsize=(8,6))\n",
    "plt.rcParams['patch.force_edgecolor'] = True\n",
    "sns.jointplot(x='Rating', y='rating_counts', data=ratings_mean_count, alpha=0.4)"
   ]
  },
  {
   "cell_type": "code",
   "execution_count": 36,
   "metadata": {
    "colab": {
     "base_uri": "https://localhost:8080/",
     "height": 475
    },
    "id": "NjtO3g1o_ytD",
    "outputId": "8e3c7b98-9598-43d7-d225-bc7ba54ee5fd"
   },
   "outputs": [
    {
     "data": {
      "text/plain": [
       "<Axes: xlabel='ProductId'>"
      ]
     },
     "execution_count": 36,
     "metadata": {},
     "output_type": "execute_result"
    },
    {
     "data": {
      "image/png": "[encoded data removed]",
      "text/plain": [
       "<Figure size 640x480 with 1 Axes>"
      ]
     },
     "metadata": {},
     "output_type": "display_data"
    }
   ],
   "source": [
    "popular_products = pd.DataFrame(new_df.groupby('ProductId')['Rating'].count())\n",
    "most_popular = popular_products.sort_values('Rating', ascending=False)\n",
    "most_popular.head(30).plot(kind = \"bar\")"
   ]
  },
  {
   "cell_type": "markdown",
   "metadata": {
    "id": "7U0dxeFJ_ytD"
   },
   "source": [
    "# Collaberative filtering (Item-Item recommedation)\n",
    "\n",
    "\n",
    "\n"
   ]
  },
  {
   "cell_type": "code",
   "execution_count": 37,
   "metadata": {
    "colab": {
     "base_uri": "https://localhost:8080/"
    },
    "id": "9ttGisqIPEbY",
    "outputId": "bd5f9290-803d-42c9-8b2e-0c6de0e262a3"
   },
   "outputs": [
    {
     "name": "stdout",
     "output_type": "stream",
     "text": [
      "Requirement already satisfied: scikit-surprise in c:\\users\\hp\\appdata\\local\\programs\\python\\python311\\lib\\site-packages (1.1.3)\n",
      "Requirement already satisfied: joblib>=1.0.0 in c:\\users\\hp\\appdata\\local\\programs\\python\\python311\\lib\\site-packages (from scikit-surprise) (1.3.2)\n",
      "Requirement already satisfied: numpy>=1.17.3 in c:\\users\\hp\\appdata\\local\\programs\\python\\python311\\lib\\site-packages (from scikit-surprise) (1.26.0)\n",
      "Requirement already satisfied: scipy>=1.3.2 in c:\\users\\hp\\appdata\\local\\programs\\python\\python311\\lib\\site-packages (from scikit-surprise) (1.11.4)\n"
     ]
    }
   ],
   "source": [
    "!pip install scikit-surprise"
   ]
  },
  {
   "cell_type": "code",
   "execution_count": 38,
   "metadata": {
    "id": "1SYkVLHu_ytD"
   },
   "outputs": [],
   "source": [
    "from surprise import KNNWithMeans\n",
    "from surprise import Dataset\n",
    "from surprise import accuracy\n",
    "from surprise import Reader\n",
    "import os\n",
    "from surprise.model_selection import train_test_split"
   ]
  },
  {
   "cell_type": "code",
   "execution_count": 39,
   "metadata": {},
   "outputs": [
    {
     "name": "stdout",
     "output_type": "stream",
     "text": [
      "Requirement already satisfied: pyspark in c:\\users\\hp\\appdata\\local\\programs\\python\\python311\\lib\\site-packages (3.5.1)\n",
      "Requirement already satisfied: py4j==0.10.9.7 in c:\\users\\hp\\appdata\\local\\programs\\python\\python311\\lib\\site-packages (from pyspark) (0.10.9.7)\n",
      "Note: you may need to restart the kernel to use updated packages.\n"
     ]
    }
   ],
   "source": [
    "pip install pyspark"
   ]
  },
  {
   "cell_type": "code",
   "execution_count": 40,
   "metadata": {},
   "outputs": [],
   "source": [
    "word_to_int_mapping = {word: idx for idx, word in enumerate(set(new_df['ProductId'].unique()))}\n",
    "new_df['ProductId'] = new_df['ProductId'].map(word_to_int_mapping)"
   ]
  },
  {
   "cell_type": "code",
   "execution_count": 41,
   "metadata": {
    "id": "1Lnzcmsd_ytD"
   },
   "outputs": [],
   "source": [
    "#Reading the dataset\n",
    "# Reader --> used to parse the file & argument to provide the necessary information about the rating scale.\n",
    "# rating_scale -->  parameter specifies the minimum and maximum ratings in the dataset\n",
    "reader = Reader(rating_scale=(1, 5))\n",
    "# data -->  used to train and evaluate recommendation models.\n",
    "data = Dataset.load_from_df(new_df,reader)\n",
    "\n"
   ]
  },
  {
   "cell_type": "code",
   "execution_count": 42,
   "metadata": {
    "id": "m3fKy7y3_ytD"
   },
   "outputs": [],
   "source": [
    "#Splitting the dataset\n",
    "trainset, testset = train_test_split(data, test_size=0.5,random_state=5)"
   ]
  },
  {
   "cell_type": "code",
   "execution_count": 43,
   "metadata": {
    "colab": {
     "base_uri": "https://localhost:8080/"
    },
    "id": "TFwqPSBY_ytD",
    "outputId": "b8a2e02e-e521-41b1-bc57-5a615f5cf53c"
   },
   "outputs": [
    {
     "name": "stdout",
     "output_type": "stream",
     "text": [
      "Estimating biases using als...\n",
      "Computing the pearson_baseline similarity matrix...\n",
      "Done computing similarity matrix.\n"
     ]
    },
    {
     "data": {
      "text/plain": [
       "<surprise.prediction_algorithms.knns.KNNWithMeans at 0x203ce3d1810>"
      ]
     },
     "execution_count": 43,
     "metadata": {},
     "output_type": "execute_result"
    }
   ],
   "source": [
    "# Use user_based true/false to switch between user-based or item-based collaborative filtering\n",
    "# This model can then be used to make recommendations based on item similarities.\n",
    "#  k --> which determines the number of nearest neighbors to consider when making predictions.\n",
    "#  sim_options -->   dictionary specifying the options for computing similarities between users or items\n",
    "algo = KNNWithMeans(k=3, sim_options={'name': 'pearson_baseline', 'user_based': False})\n",
    "algo.fit(trainset)"
   ]
  },
  {
   "cell_type": "code",
   "execution_count": 44,
   "metadata": {
    "id": "779_AFT6_ytE"
   },
   "outputs": [],
   "source": [
    "# run the trained model against the testset\n",
    "test_pred = algo.test(testset)\n"
   ]
  },
  {
   "cell_type": "code",
   "execution_count": 45,
   "metadata": {
    "_kg_hide-output": true,
    "colab": {
     "base_uri": "https://localhost:8080/"
    },
    "id": "Ql67A-Az_ytE",
    "outputId": "3b2c7955-aa14-4c45-8007-940dc58c599b"
   },
   "outputs": [
    {
     "data": {
      "text/plain": [
       "[Prediction(uid=1945, iid=5, r_ui=5.0, est=2.994219653179191, details={'was_impossible': True, 'reason': 'User and/or item is unknown.'}),\n",
       " Prediction(uid=1429, iid=5, r_ui=2.0, est=2.994219653179191, details={'was_impossible': True, 'reason': 'User and/or item is unknown.'}),\n",
       " Prediction(uid=2759, iid=0, r_ui=5.0, est=2.994219653179191, details={'was_impossible': True, 'reason': 'User and/or item is unknown.'}),\n",
       " Prediction(uid=4038, iid=2, r_ui=4.0, est=2.5707247029675093, details={'actual_k': 2, 'was_impossible': False}),\n",
       " Prediction(uid=1352, iid=5, r_ui=5.0, est=2.994219653179191, details={'was_impossible': True, 'reason': 'User and/or item is unknown.'}),\n",
       " Prediction(uid=2324, iid=4, r_ui=4.0, est=2.994219653179191, details={'was_impossible': True, 'reason': 'User and/or item is unknown.'}),\n",
       " Prediction(uid=2400, iid=1, r_ui=1.0, est=2.994219653179191, details={'was_impossible': True, 'reason': 'User and/or item is unknown.'}),\n",
       " Prediction(uid=2556, iid=0, r_ui=1.0, est=2.994219653179191, details={'was_impossible': True, 'reason': 'User and/or item is unknown.'}),\n",
       " Prediction(uid=1148, iid=5, r_ui=1.0, est=2.994219653179191, details={'was_impossible': True, 'reason': 'User and/or item is unknown.'}),\n",
       " Prediction(uid=1456, iid=1, r_ui=4.0, est=2.994219653179191, details={'was_impossible': True, 'reason': 'User and/or item is unknown.'}),\n",
       " Prediction(uid=680, iid=5, r_ui=4.0, est=2.994219653179191, details={'was_impossible': True, 'reason': 'User and/or item is unknown.'}),\n",
       " Prediction(uid=2177, iid=2, r_ui=2.0, est=4.0, details={'actual_k': 1, 'was_impossible': False}),\n",
       " Prediction(uid=589, iid=1, r_ui=4.0, est=3.026058631921824, details={'actual_k': 0, 'was_impossible': False}),\n",
       " Prediction(uid=346, iid=3, r_ui=1.0, est=2.994219653179191, details={'was_impossible': True, 'reason': 'User and/or item is unknown.'}),\n",
       " Prediction(uid=1453, iid=3, r_ui=5.0, est=2.994219653179191, details={'was_impossible': True, 'reason': 'User and/or item is unknown.'}),\n",
       " Prediction(uid=970, iid=3, r_ui=5.0, est=2.994219653179191, details={'was_impossible': True, 'reason': 'User and/or item is unknown.'}),\n",
       " Prediction(uid=4665, iid=3, r_ui=4.0, est=2.994219653179191, details={'was_impossible': True, 'reason': 'User and/or item is unknown.'}),\n",
       " Prediction(uid=4207, iid=1, r_ui=2.0, est=2.994219653179191, details={'was_impossible': True, 'reason': 'User and/or item is unknown.'}),\n",
       " Prediction(uid=4842, iid=1, r_ui=5.0, est=2.994219653179191, details={'was_impossible': True, 'reason': 'User and/or item is unknown.'}),\n",
       " Prediction(uid=3991, iid=4, r_ui=3.0, est=2.994219653179191, details={'was_impossible': True, 'reason': 'User and/or item is unknown.'}),\n",
       " Prediction(uid=3700, iid=3, r_ui=3.0, est=3.125, details={'actual_k': 0, 'was_impossible': False}),\n",
       " Prediction(uid=662, iid=3, r_ui=1.0, est=4.243644067796611, details={'actual_k': 1, 'was_impossible': False}),\n",
       " Prediction(uid=471, iid=2, r_ui=5.0, est=2.994219653179191, details={'was_impossible': True, 'reason': 'User and/or item is unknown.'}),\n",
       " Prediction(uid=992, iid=1, r_ui=5.0, est=3.026058631921824, details={'actual_k': 0, 'was_impossible': False}),\n",
       " Prediction(uid=1628, iid=2, r_ui=1.0, est=2.994219653179191, details={'was_impossible': True, 'reason': 'User and/or item is unknown.'}),\n",
       " Prediction(uid=1957, iid=4, r_ui=3.0, est=2.994219653179191, details={'was_impossible': True, 'reason': 'User and/or item is unknown.'}),\n",
       " Prediction(uid=4552, iid=1, r_ui=2.0, est=2.994219653179191, details={'was_impossible': True, 'reason': 'User and/or item is unknown.'}),\n",
       " Prediction(uid=3797, iid=1, r_ui=4.0, est=2.994219653179191, details={'was_impossible': True, 'reason': 'User and/or item is unknown.'}),\n",
       " Prediction(uid=3434, iid=3, r_ui=5.0, est=2.994219653179191, details={'was_impossible': True, 'reason': 'User and/or item is unknown.'}),\n",
       " Prediction(uid=2140, iid=5, r_ui=4.0, est=2.994219653179191, details={'was_impossible': True, 'reason': 'User and/or item is unknown.'}),\n",
       " Prediction(uid=936, iid=4, r_ui=1.0, est=2.994219653179191, details={'was_impossible': True, 'reason': 'User and/or item is unknown.'}),\n",
       " Prediction(uid=360, iid=1, r_ui=5.0, est=2.994219653179191, details={'was_impossible': True, 'reason': 'User and/or item is unknown.'}),\n",
       " Prediction(uid=3540, iid=4, r_ui=4.0, est=2.994219653179191, details={'was_impossible': True, 'reason': 'User and/or item is unknown.'}),\n",
       " Prediction(uid=1202, iid=2, r_ui=4.0, est=3.0, details={'actual_k': 1, 'was_impossible': False}),\n",
       " Prediction(uid=4348, iid=0, r_ui=3.0, est=2.994219653179191, details={'was_impossible': True, 'reason': 'User and/or item is unknown.'}),\n",
       " Prediction(uid=4178, iid=4, r_ui=5.0, est=2.994219653179191, details={'was_impossible': True, 'reason': 'User and/or item is unknown.'}),\n",
       " Prediction(uid=4197, iid=2, r_ui=1.0, est=4.855297300281565, details={'actual_k': 1, 'was_impossible': False}),\n",
       " Prediction(uid=1162, iid=1, r_ui=4.0, est=2.994219653179191, details={'was_impossible': True, 'reason': 'User and/or item is unknown.'}),\n",
       " Prediction(uid=4957, iid=0, r_ui=4.0, est=2.994219653179191, details={'was_impossible': True, 'reason': 'User and/or item is unknown.'}),\n",
       " Prediction(uid=2033, iid=1, r_ui=3.0, est=3.026058631921824, details={'actual_k': 0, 'was_impossible': False}),\n",
       " Prediction(uid=1408, iid=5, r_ui=1.0, est=2.994219653179191, details={'was_impossible': True, 'reason': 'User and/or item is unknown.'}),\n",
       " Prediction(uid=442, iid=2, r_ui=3.0, est=2.8813559322033897, details={'actual_k': 0, 'was_impossible': False}),\n",
       " Prediction(uid=3534, iid=1, r_ui=2.0, est=3.026058631921824, details={'actual_k': 0, 'was_impossible': False}),\n",
       " Prediction(uid=4707, iid=3, r_ui=5.0, est=2.994219653179191, details={'was_impossible': True, 'reason': 'User and/or item is unknown.'}),\n",
       " Prediction(uid=4315, iid=1, r_ui=1.0, est=2.994219653179191, details={'was_impossible': True, 'reason': 'User and/or item is unknown.'}),\n",
       " Prediction(uid=3839, iid=1, r_ui=5.0, est=1.1447026997184344, details={'actual_k': 1, 'was_impossible': False}),\n",
       " Prediction(uid=577, iid=3, r_ui=1.0, est=2.994219653179191, details={'was_impossible': True, 'reason': 'User and/or item is unknown.'}),\n",
       " Prediction(uid=1365, iid=1, r_ui=5.0, est=2.994219653179191, details={'was_impossible': True, 'reason': 'User and/or item is unknown.'}),\n",
       " Prediction(uid=3073, iid=5, r_ui=5.0, est=3.056338028169014, details={'actual_k': 0, 'was_impossible': False}),\n",
       " Prediction(uid=4257, iid=4, r_ui=3.0, est=2.277929656372976, details={'actual_k': 1, 'was_impossible': False}),\n",
       " Prediction(uid=4711, iid=3, r_ui=4.0, est=1.068661971830986, details={'actual_k': 1, 'was_impossible': False}),\n",
       " Prediction(uid=4745, iid=2, r_ui=3.0, est=2.994219653179191, details={'was_impossible': True, 'reason': 'User and/or item is unknown.'}),\n",
       " Prediction(uid=1597, iid=4, r_ui=1.0, est=3.088560885608856, details={'actual_k': 0, 'was_impossible': False}),\n",
       " Prediction(uid=1411, iid=1, r_ui=5.0, est=2.994219653179191, details={'was_impossible': True, 'reason': 'User and/or item is unknown.'}),\n",
       " Prediction(uid=1580, iid=3, r_ui=3.0, est=2.994219653179191, details={'was_impossible': True, 'reason': 'User and/or item is unknown.'}),\n",
       " Prediction(uid=1635, iid=0, r_ui=3.0, est=2.994219653179191, details={'was_impossible': True, 'reason': 'User and/or item is unknown.'}),\n",
       " Prediction(uid=2959, iid=3, r_ui=3.0, est=2.994219653179191, details={'was_impossible': True, 'reason': 'User and/or item is unknown.'}),\n",
       " Prediction(uid=3601, iid=4, r_ui=3.0, est=2.994219653179191, details={'was_impossible': True, 'reason': 'User and/or item is unknown.'}),\n",
       " Prediction(uid=1792, iid=4, r_ui=3.0, est=2.994219653179191, details={'was_impossible': True, 'reason': 'User and/or item is unknown.'}),\n",
       " Prediction(uid=1421, iid=2, r_ui=5.0, est=2.994219653179191, details={'was_impossible': True, 'reason': 'User and/or item is unknown.'}),\n",
       " Prediction(uid=2772, iid=1, r_ui=2.0, est=3.1447026997184344, details={'actual_k': 1, 'was_impossible': False}),\n",
       " Prediction(uid=4529, iid=1, r_ui=2.0, est=3.1447026997184344, details={'actual_k': 1, 'was_impossible': False}),\n",
       " Prediction(uid=2687, iid=3, r_ui=2.0, est=2.994219653179191, details={'was_impossible': True, 'reason': 'User and/or item is unknown.'}),\n",
       " Prediction(uid=2045, iid=0, r_ui=4.0, est=3.0, details={'actual_k': 2, 'was_impossible': False}),\n",
       " Prediction(uid=2807, iid=1, r_ui=5.0, est=4.144702699718435, details={'actual_k': 1, 'was_impossible': False}),\n",
       " Prediction(uid=2838, iid=0, r_ui=1.0, est=2.994219653179191, details={'was_impossible': True, 'reason': 'User and/or item is unknown.'}),\n",
       " Prediction(uid=2855, iid=3, r_ui=5.0, est=2.994219653179191, details={'was_impossible': True, 'reason': 'User and/or item is unknown.'}),\n",
       " Prediction(uid=151, iid=2, r_ui=5.0, est=2.994219653179191, details={'was_impossible': True, 'reason': 'User and/or item is unknown.'}),\n",
       " Prediction(uid=258, iid=5, r_ui=5.0, est=3.931338028169014, details={'actual_k': 1, 'was_impossible': False}),\n",
       " Prediction(uid=1247, iid=4, r_ui=3.0, est=2.994219653179191, details={'was_impossible': True, 'reason': 'User and/or item is unknown.'}),\n",
       " Prediction(uid=1967, iid=0, r_ui=2.0, est=2.994219653179191, details={'was_impossible': True, 'reason': 'User and/or item is unknown.'}),\n",
       " Prediction(uid=3441, iid=1, r_ui=2.0, est=2.994219653179191, details={'was_impossible': True, 'reason': 'User and/or item is unknown.'}),\n",
       " Prediction(uid=1510, iid=5, r_ui=4.0, est=2.994219653179191, details={'was_impossible': True, 'reason': 'User and/or item is unknown.'}),\n",
       " Prediction(uid=4305, iid=0, r_ui=1.0, est=2.994219653179191, details={'was_impossible': True, 'reason': 'User and/or item is unknown.'}),\n",
       " Prediction(uid=4902, iid=5, r_ui=5.0, est=3.056338028169014, details={'actual_k': 0, 'was_impossible': False}),\n",
       " Prediction(uid=3748, iid=3, r_ui=5.0, est=2.994219653179191, details={'was_impossible': True, 'reason': 'User and/or item is unknown.'}),\n",
       " Prediction(uid=4784, iid=0, r_ui=4.0, est=2.994219653179191, details={'was_impossible': True, 'reason': 'User and/or item is unknown.'}),\n",
       " Prediction(uid=3430, iid=1, r_ui=4.0, est=3.026058631921824, details={'actual_k': 0, 'was_impossible': False}),\n",
       " Prediction(uid=743, iid=1, r_ui=1.0, est=2.994219653179191, details={'was_impossible': True, 'reason': 'User and/or item is unknown.'}),\n",
       " Prediction(uid=299, iid=2, r_ui=5.0, est=2.994219653179191, details={'was_impossible': True, 'reason': 'User and/or item is unknown.'}),\n",
       " Prediction(uid=2537, iid=1, r_ui=5.0, est=2.994219653179191, details={'was_impossible': True, 'reason': 'User and/or item is unknown.'}),\n",
       " Prediction(uid=1890, iid=4, r_ui=5.0, est=3.088560885608856, details={'actual_k': 0, 'was_impossible': False}),\n",
       " Prediction(uid=3112, iid=0, r_ui=4.0, est=1, details={'actual_k': 1, 'was_impossible': False}),\n",
       " Prediction(uid=206, iid=3, r_ui=2.0, est=2.994219653179191, details={'was_impossible': True, 'reason': 'User and/or item is unknown.'}),\n",
       " Prediction(uid=1864, iid=1, r_ui=1.0, est=2.994219653179191, details={'was_impossible': True, 'reason': 'User and/or item is unknown.'}),\n",
       " Prediction(uid=3094, iid=0, r_ui=2.0, est=4.754293201066867, details={'actual_k': 1, 'was_impossible': False}),\n",
       " Prediction(uid=3616, iid=4, r_ui=1.0, est=3.088560885608856, details={'actual_k': 0, 'was_impossible': False}),\n",
       " Prediction(uid=4128, iid=1, r_ui=5.0, est=2.994219653179191, details={'was_impossible': True, 'reason': 'User and/or item is unknown.'}),\n",
       " Prediction(uid=911, iid=1, r_ui=3.0, est=2.994219653179191, details={'was_impossible': True, 'reason': 'User and/or item is unknown.'}),\n",
       " Prediction(uid=413, iid=4, r_ui=4.0, est=2.994219653179191, details={'was_impossible': True, 'reason': 'User and/or item is unknown.'}),\n",
       " Prediction(uid=2479, iid=4, r_ui=1.0, est=2.994219653179191, details={'was_impossible': True, 'reason': 'User and/or item is unknown.'}),\n",
       " Prediction(uid=1156, iid=1, r_ui=4.0, est=2.994219653179191, details={'was_impossible': True, 'reason': 'User and/or item is unknown.'}),\n",
       " Prediction(uid=3960, iid=3, r_ui=5.0, est=2.994219653179191, details={'was_impossible': True, 'reason': 'User and/or item is unknown.'}),\n",
       " Prediction(uid=2403, iid=2, r_ui=3.0, est=2.8813559322033897, details={'actual_k': 0, 'was_impossible': False}),\n",
       " Prediction(uid=598, iid=0, r_ui=4.0, est=2.994219653179191, details={'was_impossible': True, 'reason': 'User and/or item is unknown.'}),\n",
       " Prediction(uid=2950, iid=0, r_ui=4.0, est=2.994219653179191, details={'was_impossible': True, 'reason': 'User and/or item is unknown.'}),\n",
       " Prediction(uid=3013, iid=0, r_ui=5.0, est=2.994219653179191, details={'was_impossible': True, 'reason': 'User and/or item is unknown.'}),\n",
       " Prediction(uid=296, iid=2, r_ui=3.0, est=2.994219653179191, details={'was_impossible': True, 'reason': 'User and/or item is unknown.'}),\n",
       " Prediction(uid=2868, iid=1, r_ui=5.0, est=2.994219653179191, details={'was_impossible': True, 'reason': 'User and/or item is unknown.'}),\n",
       " Prediction(uid=71, iid=5, r_ui=1.0, est=2.994219653179191, details={'was_impossible': True, 'reason': 'User and/or item is unknown.'}),\n",
       " Prediction(uid=1645, iid=5, r_ui=4.0, est=3.056338028169014, details={'actual_k': 0, 'was_impossible': False}),\n",
       " Prediction(uid=4647, iid=3, r_ui=5.0, est=4.243644067796611, details={'actual_k': 1, 'was_impossible': False}),\n",
       " Prediction(uid=425, iid=3, r_ui=1.0, est=2.994219653179191, details={'was_impossible': True, 'reason': 'User and/or item is unknown.'}),\n",
       " Prediction(uid=4552, iid=5, r_ui=1.0, est=2.994219653179191, details={'was_impossible': True, 'reason': 'User and/or item is unknown.'}),\n",
       " Prediction(uid=983, iid=1, r_ui=5.0, est=3.026058631921824, details={'actual_k': 0, 'was_impossible': False}),\n",
       " Prediction(uid=3914, iid=0, r_ui=2.0, est=2.994219653179191, details={'was_impossible': True, 'reason': 'User and/or item is unknown.'}),\n",
       " Prediction(uid=4227, iid=4, r_ui=1.0, est=3.088560885608856, details={'actual_k': 0, 'was_impossible': False}),\n",
       " Prediction(uid=1794, iid=5, r_ui=5.0, est=1, details={'actual_k': 1, 'was_impossible': False}),\n",
       " Prediction(uid=1486, iid=0, r_ui=4.0, est=2.8106312292358804, details={'actual_k': 0, 'was_impossible': False}),\n",
       " Prediction(uid=856, iid=2, r_ui=1.0, est=2.8813559322033897, details={'actual_k': 0, 'was_impossible': False}),\n",
       " Prediction(uid=2228, iid=1, r_ui=2.0, est=3.026058631921824, details={'actual_k': 0, 'was_impossible': False}),\n",
       " Prediction(uid=3621, iid=2, r_ui=4.0, est=3.7563559322033897, details={'actual_k': 1, 'was_impossible': False}),\n",
       " Prediction(uid=1762, iid=2, r_ui=1.0, est=2.994219653179191, details={'was_impossible': True, 'reason': 'User and/or item is unknown.'}),\n",
       " Prediction(uid=2532, iid=5, r_ui=4.0, est=2.994219653179191, details={'was_impossible': True, 'reason': 'User and/or item is unknown.'}),\n",
       " Prediction(uid=4484, iid=0, r_ui=2.0, est=2.8106312292358804, details={'actual_k': 0, 'was_impossible': False}),\n",
       " Prediction(uid=3769, iid=4, r_ui=3.0, est=2.994219653179191, details={'was_impossible': True, 'reason': 'User and/or item is unknown.'}),\n",
       " Prediction(uid=722, iid=1, r_ui=2.0, est=3.026058631921824, details={'actual_k': 0, 'was_impossible': False}),\n",
       " Prediction(uid=4271, iid=5, r_ui=1.0, est=2.2457067989331336, details={'actual_k': 1, 'was_impossible': False}),\n",
       " Prediction(uid=4769, iid=3, r_ui=3.0, est=4.243644067796611, details={'actual_k': 1, 'was_impossible': False}),\n",
       " Prediction(uid=375, iid=2, r_ui=2.0, est=2.8813559322033897, details={'actual_k': 0, 'was_impossible': False}),\n",
       " Prediction(uid=3319, iid=0, r_ui=3.0, est=2.994219653179191, details={'was_impossible': True, 'reason': 'User and/or item is unknown.'}),\n",
       " Prediction(uid=2518, iid=2, r_ui=1.0, est=2.8813559322033897, details={'actual_k': 0, 'was_impossible': False}),\n",
       " Prediction(uid=521, iid=2, r_ui=2.0, est=3.0707247029675093, details={'actual_k': 1, 'was_impossible': False}),\n",
       " Prediction(uid=1482, iid=1, r_ui=1.0, est=2.994219653179191, details={'was_impossible': True, 'reason': 'User and/or item is unknown.'}),\n",
       " Prediction(uid=2046, iid=0, r_ui=2.0, est=2.994219653179191, details={'was_impossible': True, 'reason': 'User and/or item is unknown.'}),\n",
       " Prediction(uid=2211, iid=0, r_ui=1.0, est=2.994219653179191, details={'was_impossible': True, 'reason': 'User and/or item is unknown.'}),\n",
       " Prediction(uid=1496, iid=0, r_ui=2.0, est=2.994219653179191, details={'was_impossible': True, 'reason': 'User and/or item is unknown.'}),\n",
       " Prediction(uid=2273, iid=1, r_ui=2.0, est=3.026058631921824, details={'actual_k': 0, 'was_impossible': False}),\n",
       " Prediction(uid=2223, iid=5, r_ui=5.0, est=2.994219653179191, details={'was_impossible': True, 'reason': 'User and/or item is unknown.'}),\n",
       " Prediction(uid=2544, iid=4, r_ui=3.0, est=2.994219653179191, details={'was_impossible': True, 'reason': 'User and/or item is unknown.'}),\n",
       " Prediction(uid=2659, iid=1, r_ui=1.0, est=2.994219653179191, details={'was_impossible': True, 'reason': 'User and/or item is unknown.'}),\n",
       " Prediction(uid=851, iid=5, r_ui=4.0, est=2.994219653179191, details={'was_impossible': True, 'reason': 'User and/or item is unknown.'}),\n",
       " Prediction(uid=123, iid=4, r_ui=5.0, est=3.088560885608856, details={'actual_k': 0, 'was_impossible': False}),\n",
       " Prediction(uid=2325, iid=2, r_ui=3.0, est=4.855297300281565, details={'actual_k': 1, 'was_impossible': False}),\n",
       " Prediction(uid=3526, iid=0, r_ui=5.0, est=2.994219653179191, details={'was_impossible': True, 'reason': 'User and/or item is unknown.'}),\n",
       " Prediction(uid=4784, iid=0, r_ui=5.0, est=2.994219653179191, details={'was_impossible': True, 'reason': 'User and/or item is unknown.'}),\n",
       " Prediction(uid=3031, iid=0, r_ui=3.0, est=2.994219653179191, details={'was_impossible': True, 'reason': 'User and/or item is unknown.'}),\n",
       " Prediction(uid=1697, iid=0, r_ui=2.0, est=2.994219653179191, details={'was_impossible': True, 'reason': 'User and/or item is unknown.'}),\n",
       " Prediction(uid=3169, iid=4, r_ui=4.0, est=2.994219653179191, details={'was_impossible': True, 'reason': 'User and/or item is unknown.'}),\n",
       " Prediction(uid=283, iid=2, r_ui=1.0, est=2.994219653179191, details={'was_impossible': True, 'reason': 'User and/or item is unknown.'}),\n",
       " Prediction(uid=4882, iid=4, r_ui=4.0, est=2.994219653179191, details={'was_impossible': True, 'reason': 'User and/or item is unknown.'}),\n",
       " Prediction(uid=4964, iid=5, r_ui=4.0, est=2.994219653179191, details={'was_impossible': True, 'reason': 'User and/or item is unknown.'}),\n",
       " Prediction(uid=2216, iid=5, r_ui=5.0, est=2.994219653179191, details={'was_impossible': True, 'reason': 'User and/or item is unknown.'}),\n",
       " Prediction(uid=2247, iid=2, r_ui=4.0, est=2.994219653179191, details={'was_impossible': True, 'reason': 'User and/or item is unknown.'}),\n",
       " Prediction(uid=1244, iid=2, r_ui=2.0, est=2.8813559322033897, details={'actual_k': 0, 'was_impossible': False}),\n",
       " Prediction(uid=3608, iid=0, r_ui=3.0, est=2.994219653179191, details={'was_impossible': True, 'reason': 'User and/or item is unknown.'}),\n",
       " Prediction(uid=4607, iid=2, r_ui=2.0, est=2.994219653179191, details={'was_impossible': True, 'reason': 'User and/or item is unknown.'}),\n",
       " Prediction(uid=1368, iid=1, r_ui=3.0, est=2.994219653179191, details={'was_impossible': True, 'reason': 'User and/or item is unknown.'}),\n",
       " Prediction(uid=388, iid=1, r_ui=4.0, est=2.994219653179191, details={'was_impossible': True, 'reason': 'User and/or item is unknown.'}),\n",
       " Prediction(uid=261, iid=4, r_ui=2.0, est=3.088560885608856, details={'actual_k': 0, 'was_impossible': False}),\n",
       " Prediction(uid=3402, iid=3, r_ui=1.0, est=2.994219653179191, details={'was_impossible': True, 'reason': 'User and/or item is unknown.'}),\n",
       " Prediction(uid=2233, iid=0, r_ui=3.0, est=2.994219653179191, details={'was_impossible': True, 'reason': 'User and/or item is unknown.'}),\n",
       " Prediction(uid=3198, iid=0, r_ui=4.0, est=2.994219653179191, details={'was_impossible': True, 'reason': 'User and/or item is unknown.'}),\n",
       " Prediction(uid=3924, iid=0, r_ui=5.0, est=2.994219653179191, details={'was_impossible': True, 'reason': 'User and/or item is unknown.'}),\n",
       " Prediction(uid=3570, iid=4, r_ui=3.0, est=3.088560885608856, details={'actual_k': 0, 'was_impossible': False}),\n",
       " Prediction(uid=1995, iid=1, r_ui=3.0, est=2.994219653179191, details={'was_impossible': True, 'reason': 'User and/or item is unknown.'}),\n",
       " Prediction(uid=1807, iid=2, r_ui=2.0, est=5, details={'actual_k': 1, 'was_impossible': False}),\n",
       " Prediction(uid=3594, iid=0, r_ui=5.0, est=2.994219653179191, details={'was_impossible': True, 'reason': 'User and/or item is unknown.'}),\n",
       " Prediction(uid=1718, iid=0, r_ui=2.0, est=2.994219653179191, details={'was_impossible': True, 'reason': 'User and/or item is unknown.'}),\n",
       " Prediction(uid=3728, iid=2, r_ui=2.0, est=2.994219653179191, details={'was_impossible': True, 'reason': 'User and/or item is unknown.'}),\n",
       " Prediction(uid=4518, iid=4, r_ui=2.0, est=2.994219653179191, details={'was_impossible': True, 'reason': 'User and/or item is unknown.'}),\n",
       " Prediction(uid=4376, iid=5, r_ui=5.0, est=2.994219653179191, details={'was_impossible': True, 'reason': 'User and/or item is unknown.'}),\n",
       " Prediction(uid=3746, iid=2, r_ui=3.0, est=2.8813559322033897, details={'actual_k': 0, 'was_impossible': False}),\n",
       " Prediction(uid=490, iid=4, r_ui=1.0, est=2.994219653179191, details={'was_impossible': True, 'reason': 'User and/or item is unknown.'}),\n",
       " Prediction(uid=591, iid=0, r_ui=4.0, est=2.994219653179191, details={'was_impossible': True, 'reason': 'User and/or item is unknown.'}),\n",
       " Prediction(uid=2530, iid=1, r_ui=3.0, est=2.994219653179191, details={'was_impossible': True, 'reason': 'User and/or item is unknown.'}),\n",
       " Prediction(uid=4062, iid=1, r_ui=2.0, est=2.994219653179191, details={'was_impossible': True, 'reason': 'User and/or item is unknown.'}),\n",
       " Prediction(uid=3749, iid=3, r_ui=5.0, est=2.994219653179191, details={'was_impossible': True, 'reason': 'User and/or item is unknown.'}),\n",
       " Prediction(uid=3949, iid=0, r_ui=1.0, est=2.994219653179191, details={'was_impossible': True, 'reason': 'User and/or item is unknown.'}),\n",
       " Prediction(uid=3651, iid=1, r_ui=2.0, est=2.994219653179191, details={'was_impossible': True, 'reason': 'User and/or item is unknown.'}),\n",
       " Prediction(uid=1869, iid=5, r_ui=2.0, est=2.994219653179191, details={'was_impossible': True, 'reason': 'User and/or item is unknown.'}),\n",
       " Prediction(uid=2345, iid=0, r_ui=5.0, est=2.994219653179191, details={'was_impossible': True, 'reason': 'User and/or item is unknown.'}),\n",
       " Prediction(uid=4622, iid=5, r_ui=4.0, est=3.056338028169014, details={'actual_k': 0, 'was_impossible': False}),\n",
       " Prediction(uid=1666, iid=0, r_ui=2.0, est=2.8106312292358804, details={'actual_k': 0, 'was_impossible': False}),\n",
       " Prediction(uid=718, iid=2, r_ui=3.0, est=2.994219653179191, details={'was_impossible': True, 'reason': 'User and/or item is unknown.'}),\n",
       " Prediction(uid=4781, iid=2, r_ui=5.0, est=2.994219653179191, details={'was_impossible': True, 'reason': 'User and/or item is unknown.'}),\n",
       " Prediction(uid=1491, iid=3, r_ui=4.0, est=2.994219653179191, details={'was_impossible': True, 'reason': 'User and/or item is unknown.'}),\n",
       " Prediction(uid=2283, iid=0, r_ui=5.0, est=2.994219653179191, details={'was_impossible': True, 'reason': 'User and/or item is unknown.'}),\n",
       " Prediction(uid=375, iid=2, r_ui=3.0, est=2.8813559322033897, details={'actual_k': 0, 'was_impossible': False}),\n",
       " Prediction(uid=1933, iid=0, r_ui=3.0, est=2.994219653179191, details={'was_impossible': True, 'reason': 'User and/or item is unknown.'}),\n",
       " Prediction(uid=4696, iid=4, r_ui=5.0, est=2.994219653179191, details={'was_impossible': True, 'reason': 'User and/or item is unknown.'}),\n",
       " Prediction(uid=4624, iid=4, r_ui=2.0, est=2.994219653179191, details={'was_impossible': True, 'reason': 'User and/or item is unknown.'}),\n",
       " Prediction(uid=3516, iid=2, r_ui=4.0, est=2.994219653179191, details={'was_impossible': True, 'reason': 'User and/or item is unknown.'}),\n",
       " Prediction(uid=422, iid=4, r_ui=3.0, est=5, details={'actual_k': 1, 'was_impossible': False}),\n",
       " Prediction(uid=1448, iid=1, r_ui=1.0, est=3.026058631921824, details={'actual_k': 0, 'was_impossible': False}),\n",
       " Prediction(uid=1801, iid=4, r_ui=5.0, est=1.2779296563729758, details={'actual_k': 1, 'was_impossible': False}),\n",
       " Prediction(uid=2065, iid=4, r_ui=5.0, est=2.994219653179191, details={'was_impossible': True, 'reason': 'User and/or item is unknown.'}),\n",
       " Prediction(uid=4460, iid=2, r_ui=4.0, est=2.994219653179191, details={'was_impossible': True, 'reason': 'User and/or item is unknown.'}),\n",
       " Prediction(uid=4496, iid=0, r_ui=3.0, est=2.994219653179191, details={'was_impossible': True, 'reason': 'User and/or item is unknown.'}),\n",
       " Prediction(uid=87, iid=3, r_ui=1.0, est=2.994219653179191, details={'was_impossible': True, 'reason': 'User and/or item is unknown.'}),\n",
       " Prediction(uid=1430, iid=0, r_ui=1.0, est=2.994219653179191, details={'was_impossible': True, 'reason': 'User and/or item is unknown.'}),\n",
       " Prediction(uid=528, iid=2, r_ui=4.0, est=2.994219653179191, details={'was_impossible': True, 'reason': 'User and/or item is unknown.'}),\n",
       " Prediction(uid=4301, iid=0, r_ui=5.0, est=2.994219653179191, details={'was_impossible': True, 'reason': 'User and/or item is unknown.'}),\n",
       " Prediction(uid=2937, iid=1, r_ui=5.0, est=5, details={'actual_k': 1, 'was_impossible': False}),\n",
       " Prediction(uid=2480, iid=3, r_ui=2.0, est=2.994219653179191, details={'was_impossible': True, 'reason': 'User and/or item is unknown.'}),\n",
       " Prediction(uid=3263, iid=4, r_ui=1.0, est=2.994219653179191, details={'was_impossible': True, 'reason': 'User and/or item is unknown.'}),\n",
       " Prediction(uid=2674, iid=3, r_ui=2.0, est=2.994219653179191, details={'was_impossible': True, 'reason': 'User and/or item is unknown.'}),\n",
       " Prediction(uid=4851, iid=1, r_ui=2.0, est=2.994219653179191, details={'was_impossible': True, 'reason': 'User and/or item is unknown.'}),\n",
       " Prediction(uid=3425, iid=3, r_ui=3.0, est=3.125, details={'actual_k': 0, 'was_impossible': False}),\n",
       " Prediction(uid=4010, iid=0, r_ui=3.0, est=2.994219653179191, details={'was_impossible': True, 'reason': 'User and/or item is unknown.'}),\n",
       " Prediction(uid=3650, iid=3, r_ui=3.0, est=2.994219653179191, details={'was_impossible': True, 'reason': 'User and/or item is unknown.'}),\n",
       " Prediction(uid=3702, iid=4, r_ui=2.0, est=5, details={'actual_k': 1, 'was_impossible': False}),\n",
       " Prediction(uid=3514, iid=4, r_ui=2.0, est=2.994219653179191, details={'was_impossible': True, 'reason': 'User and/or item is unknown.'}),\n",
       " Prediction(uid=893, iid=2, r_ui=4.0, est=2.994219653179191, details={'was_impossible': True, 'reason': 'User and/or item is unknown.'}),\n",
       " Prediction(uid=2036, iid=3, r_ui=1.0, est=2.994219653179191, details={'was_impossible': True, 'reason': 'User and/or item is unknown.'}),\n",
       " Prediction(uid=4795, iid=5, r_ui=4.0, est=3.056338028169014, details={'actual_k': 0, 'was_impossible': False}),\n",
       " Prediction(uid=3932, iid=0, r_ui=3.0, est=2.994219653179191, details={'was_impossible': True, 'reason': 'User and/or item is unknown.'}),\n",
       " Prediction(uid=3906, iid=5, r_ui=3.0, est=2.931338028169014, details={'actual_k': 1, 'was_impossible': False}),\n",
       " Prediction(uid=3197, iid=4, r_ui=3.0, est=2.994219653179191, details={'was_impossible': True, 'reason': 'User and/or item is unknown.'}),\n",
       " Prediction(uid=299, iid=3, r_ui=3.0, est=2.994219653179191, details={'was_impossible': True, 'reason': 'User and/or item is unknown.'}),\n",
       " Prediction(uid=312, iid=4, r_ui=5.0, est=2.994219653179191, details={'was_impossible': True, 'reason': 'User and/or item is unknown.'}),\n",
       " Prediction(uid=1569, iid=5, r_ui=2.0, est=2.994219653179191, details={'was_impossible': True, 'reason': 'User and/or item is unknown.'}),\n",
       " Prediction(uid=480, iid=3, r_ui=1.0, est=2.994219653179191, details={'was_impossible': True, 'reason': 'User and/or item is unknown.'}),\n",
       " Prediction(uid=1537, iid=1, r_ui=4.0, est=2.994219653179191, details={'was_impossible': True, 'reason': 'User and/or item is unknown.'}),\n",
       " Prediction(uid=2654, iid=4, r_ui=5.0, est=2.994219653179191, details={'was_impossible': True, 'reason': 'User and/or item is unknown.'}),\n",
       " Prediction(uid=3971, iid=5, r_ui=2.0, est=2.994219653179191, details={'was_impossible': True, 'reason': 'User and/or item is unknown.'}),\n",
       " Prediction(uid=2338, iid=0, r_ui=2.0, est=2.994219653179191, details={'was_impossible': True, 'reason': 'User and/or item is unknown.'}),\n",
       " Prediction(uid=406, iid=2, r_ui=2.0, est=2.994219653179191, details={'was_impossible': True, 'reason': 'User and/or item is unknown.'}),\n",
       " Prediction(uid=3084, iid=4, r_ui=1.0, est=3.088560885608856, details={'actual_k': 0, 'was_impossible': False}),\n",
       " Prediction(uid=133, iid=5, r_ui=3.0, est=2.994219653179191, details={'was_impossible': True, 'reason': 'User and/or item is unknown.'}),\n",
       " Prediction(uid=1935, iid=0, r_ui=4.0, est=2.994219653179191, details={'was_impossible': True, 'reason': 'User and/or item is unknown.'}),\n",
       " Prediction(uid=3830, iid=2, r_ui=4.0, est=2.994219653179191, details={'was_impossible': True, 'reason': 'User and/or item is unknown.'}),\n",
       " Prediction(uid=3886, iid=2, r_ui=1.0, est=4.855297300281565, details={'actual_k': 1, 'was_impossible': False}),\n",
       " Prediction(uid=501, iid=2, r_ui=4.0, est=2.994219653179191, details={'was_impossible': True, 'reason': 'User and/or item is unknown.'}),\n",
       " Prediction(uid=4735, iid=4, r_ui=1.0, est=3.088560885608856, details={'actual_k': 0, 'was_impossible': False}),\n",
       " Prediction(uid=4441, iid=5, r_ui=3.0, est=2.994219653179191, details={'was_impossible': True, 'reason': 'User and/or item is unknown.'}),\n",
       " Prediction(uid=2542, iid=5, r_ui=1.0, est=2.994219653179191, details={'was_impossible': True, 'reason': 'User and/or item is unknown.'}),\n",
       " Prediction(uid=75, iid=4, r_ui=3.0, est=2.994219653179191, details={'was_impossible': True, 'reason': 'User and/or item is unknown.'}),\n",
       " Prediction(uid=985, iid=0, r_ui=3.0, est=2.994219653179191, details={'was_impossible': True, 'reason': 'User and/or item is unknown.'}),\n",
       " Prediction(uid=2769, iid=4, r_ui=4.0, est=3.088560885608856, details={'actual_k': 0, 'was_impossible': False}),\n",
       " Prediction(uid=1076, iid=0, r_ui=2.0, est=2.994219653179191, details={'was_impossible': True, 'reason': 'User and/or item is unknown.'}),\n",
       " Prediction(uid=2599, iid=2, r_ui=3.0, est=2.994219653179191, details={'was_impossible': True, 'reason': 'User and/or item is unknown.'}),\n",
       " Prediction(uid=58, iid=1, r_ui=2.0, est=2.994219653179191, details={'was_impossible': True, 'reason': 'User and/or item is unknown.'}),\n",
       " Prediction(uid=4590, iid=1, r_ui=2.0, est=2.994219653179191, details={'was_impossible': True, 'reason': 'User and/or item is unknown.'}),\n",
       " Prediction(uid=3424, iid=5, r_ui=4.0, est=3.2457067989331336, details={'actual_k': 1, 'was_impossible': False}),\n",
       " Prediction(uid=1900, iid=3, r_ui=4.0, est=2.994219653179191, details={'was_impossible': True, 'reason': 'User and/or item is unknown.'}),\n",
       " Prediction(uid=3120, iid=5, r_ui=5.0, est=2.994219653179191, details={'was_impossible': True, 'reason': 'User and/or item is unknown.'}),\n",
       " Prediction(uid=2385, iid=5, r_ui=1.0, est=2.994219653179191, details={'was_impossible': True, 'reason': 'User and/or item is unknown.'}),\n",
       " Prediction(uid=2969, iid=4, r_ui=1.0, est=2.994219653179191, details={'was_impossible': True, 'reason': 'User and/or item is unknown.'}),\n",
       " Prediction(uid=111, iid=2, r_ui=2.0, est=2.994219653179191, details={'was_impossible': True, 'reason': 'User and/or item is unknown.'}),\n",
       " Prediction(uid=4315, iid=5, r_ui=2.0, est=2.994219653179191, details={'was_impossible': True, 'reason': 'User and/or item is unknown.'}),\n",
       " Prediction(uid=331, iid=4, r_ui=4.0, est=2.994219653179191, details={'was_impossible': True, 'reason': 'User and/or item is unknown.'}),\n",
       " Prediction(uid=2556, iid=3, r_ui=2.0, est=2.994219653179191, details={'was_impossible': True, 'reason': 'User and/or item is unknown.'}),\n",
       " Prediction(uid=1967, iid=1, r_ui=3.0, est=2.994219653179191, details={'was_impossible': True, 'reason': 'User and/or item is unknown.'}),\n",
       " Prediction(uid=2813, iid=3, r_ui=2.0, est=2.994219653179191, details={'was_impossible': True, 'reason': 'User and/or item is unknown.'}),\n",
       " Prediction(uid=4645, iid=0, r_ui=1.0, est=2.994219653179191, details={'was_impossible': True, 'reason': 'User and/or item is unknown.'}),\n",
       " Prediction(uid=48, iid=1, r_ui=2.0, est=2.994219653179191, details={'was_impossible': True, 'reason': 'User and/or item is unknown.'}),\n",
       " Prediction(uid=663, iid=2, r_ui=4.0, est=4.855297300281565, details={'actual_k': 1, 'was_impossible': False}),\n",
       " Prediction(uid=3239, iid=3, r_ui=1.0, est=2.994219653179191, details={'was_impossible': True, 'reason': 'User and/or item is unknown.'}),\n",
       " Prediction(uid=3377, iid=3, r_ui=4.0, est=2.994219653179191, details={'was_impossible': True, 'reason': 'User and/or item is unknown.'}),\n",
       " Prediction(uid=469, iid=0, r_ui=5.0, est=2.994219653179191, details={'was_impossible': True, 'reason': 'User and/or item is unknown.'}),\n",
       " Prediction(uid=3143, iid=0, r_ui=2.0, est=2.994219653179191, details={'was_impossible': True, 'reason': 'User and/or item is unknown.'}),\n",
       " Prediction(uid=4967, iid=1, r_ui=1.0, est=2.994219653179191, details={'was_impossible': True, 'reason': 'User and/or item is unknown.'}),\n",
       " Prediction(uid=1852, iid=5, r_ui=3.0, est=2.994219653179191, details={'was_impossible': True, 'reason': 'User and/or item is unknown.'}),\n",
       " Prediction(uid=3939, iid=3, r_ui=2.0, est=2.994219653179191, details={'was_impossible': True, 'reason': 'User and/or item is unknown.'}),\n",
       " Prediction(uid=1719, iid=2, r_ui=3.0, est=2.994219653179191, details={'was_impossible': True, 'reason': 'User and/or item is unknown.'}),\n",
       " Prediction(uid=4767, iid=2, r_ui=2.0, est=2.994219653179191, details={'was_impossible': True, 'reason': 'User and/or item is unknown.'}),\n",
       " Prediction(uid=4583, iid=2, r_ui=5.0, est=2.994219653179191, details={'was_impossible': True, 'reason': 'User and/or item is unknown.'}),\n",
       " Prediction(uid=3178, iid=3, r_ui=4.0, est=2.994219653179191, details={'was_impossible': True, 'reason': 'User and/or item is unknown.'}),\n",
       " Prediction(uid=1609, iid=4, r_ui=2.0, est=2.994219653179191, details={'was_impossible': True, 'reason': 'User and/or item is unknown.'}),\n",
       " Prediction(uid=3253, iid=3, r_ui=2.0, est=2.994219653179191, details={'was_impossible': True, 'reason': 'User and/or item is unknown.'}),\n",
       " Prediction(uid=3100, iid=2, r_ui=3.0, est=2.994219653179191, details={'was_impossible': True, 'reason': 'User and/or item is unknown.'}),\n",
       " Prediction(uid=804, iid=0, r_ui=3.0, est=2.8106312292358804, details={'actual_k': 0, 'was_impossible': False}),\n",
       " Prediction(uid=1977, iid=4, r_ui=4.0, est=2.0, details={'actual_k': 1, 'was_impossible': False}),\n",
       " Prediction(uid=1930, iid=2, r_ui=3.0, est=2.8813559322033897, details={'actual_k': 0, 'was_impossible': False}),\n",
       " Prediction(uid=2121, iid=4, r_ui=2.0, est=2.994219653179191, details={'was_impossible': True, 'reason': 'User and/or item is unknown.'}),\n",
       " Prediction(uid=111, iid=4, r_ui=3.0, est=2.994219653179191, details={'was_impossible': True, 'reason': 'User and/or item is unknown.'}),\n",
       " Prediction(uid=3921, iid=2, r_ui=3.0, est=2.994219653179191, details={'was_impossible': True, 'reason': 'User and/or item is unknown.'}),\n",
       " Prediction(uid=4475, iid=3, r_ui=2.0, est=2.994219653179191, details={'was_impossible': True, 'reason': 'User and/or item is unknown.'}),\n",
       " Prediction(uid=1794, iid=0, r_ui=2.0, est=2.8106312292358804, details={'actual_k': 0, 'was_impossible': False}),\n",
       " Prediction(uid=2361, iid=5, r_ui=5.0, est=2.994219653179191, details={'was_impossible': True, 'reason': 'User and/or item is unknown.'}),\n",
       " Prediction(uid=3077, iid=5, r_ui=5.0, est=2.994219653179191, details={'was_impossible': True, 'reason': 'User and/or item is unknown.'}),\n",
       " Prediction(uid=389, iid=3, r_ui=3.0, est=2.994219653179191, details={'was_impossible': True, 'reason': 'User and/or item is unknown.'}),\n",
       " Prediction(uid=2049, iid=4, r_ui=2.0, est=2.994219653179191, details={'was_impossible': True, 'reason': 'User and/or item is unknown.'}),\n",
       " Prediction(uid=3483, iid=5, r_ui=1.0, est=4.931338028169014, details={'actual_k': 1, 'was_impossible': False}),\n",
       " Prediction(uid=1456, iid=3, r_ui=1.0, est=2.994219653179191, details={'was_impossible': True, 'reason': 'User and/or item is unknown.'}),\n",
       " Prediction(uid=2383, iid=2, r_ui=3.0, est=2.994219653179191, details={'was_impossible': True, 'reason': 'User and/or item is unknown.'}),\n",
       " Prediction(uid=404, iid=4, r_ui=3.0, est=3.088560885608856, details={'actual_k': 0, 'was_impossible': False}),\n",
       " Prediction(uid=2991, iid=1, r_ui=2.0, est=2.994219653179191, details={'was_impossible': True, 'reason': 'User and/or item is unknown.'}),\n",
       " Prediction(uid=1054, iid=1, r_ui=5.0, est=5, details={'actual_k': 1, 'was_impossible': False}),\n",
       " Prediction(uid=4914, iid=4, r_ui=5.0, est=3.277929656372976, details={'actual_k': 1, 'was_impossible': False}),\n",
       " Prediction(uid=1226, iid=2, r_ui=4.0, est=4.070724702967509, details={'actual_k': 1, 'was_impossible': False}),\n",
       " Prediction(uid=1624, iid=0, r_ui=1.0, est=2.994219653179191, details={'was_impossible': True, 'reason': 'User and/or item is unknown.'}),\n",
       " Prediction(uid=4664, iid=0, r_ui=2.0, est=1.7220703436270242, details={'actual_k': 1, 'was_impossible': False}),\n",
       " Prediction(uid=2486, iid=1, r_ui=4.0, est=2.994219653179191, details={'was_impossible': True, 'reason': 'User and/or item is unknown.'}),\n",
       " Prediction(uid=3665, iid=0, r_ui=3.0, est=2.994219653179191, details={'was_impossible': True, 'reason': 'User and/or item is unknown.'}),\n",
       " Prediction(uid=589, iid=4, r_ui=1.0, est=3.088560885608856, details={'actual_k': 0, 'was_impossible': False}),\n",
       " Prediction(uid=2717, iid=2, r_ui=3.0, est=2.994219653179191, details={'was_impossible': True, 'reason': 'User and/or item is unknown.'}),\n",
       " Prediction(uid=2624, iid=5, r_ui=4.0, est=2.994219653179191, details={'was_impossible': True, 'reason': 'User and/or item is unknown.'}),\n",
       " Prediction(uid=3555, iid=4, r_ui=1.0, est=2.994219653179191, details={'was_impossible': True, 'reason': 'User and/or item is unknown.'}),\n",
       " Prediction(uid=2754, iid=5, r_ui=5.0, est=2.931338028169014, details={'actual_k': 1, 'was_impossible': False}),\n",
       " Prediction(uid=329, iid=0, r_ui=4.0, est=2.994219653179191, details={'was_impossible': True, 'reason': 'User and/or item is unknown.'}),\n",
       " Prediction(uid=1115, iid=2, r_ui=5.0, est=3.0707247029675093, details={'actual_k': 1, 'was_impossible': False}),\n",
       " Prediction(uid=2539, iid=0, r_ui=4.0, est=2.994219653179191, details={'was_impossible': True, 'reason': 'User and/or item is unknown.'}),\n",
       " Prediction(uid=4156, iid=1, r_ui=5.0, est=2.994219653179191, details={'was_impossible': True, 'reason': 'User and/or item is unknown.'}),\n",
       " Prediction(uid=199, iid=4, r_ui=1.0, est=3.088560885608856, details={'actual_k': 0, 'was_impossible': False}),\n",
       " Prediction(uid=370, iid=1, r_ui=4.0, est=3.026058631921824, details={'actual_k': 0, 'was_impossible': False}),\n",
       " Prediction(uid=4362, iid=2, r_ui=5.0, est=2.994219653179191, details={'was_impossible': True, 'reason': 'User and/or item is unknown.'}),\n",
       " Prediction(uid=431, iid=1, r_ui=4.0, est=2.994219653179191, details={'was_impossible': True, 'reason': 'User and/or item is unknown.'}),\n",
       " Prediction(uid=1066, iid=5, r_ui=3.0, est=2.994219653179191, details={'was_impossible': True, 'reason': 'User and/or item is unknown.'}),\n",
       " Prediction(uid=2568, iid=0, r_ui=5.0, est=2.994219653179191, details={'was_impossible': True, 'reason': 'User and/or item is unknown.'}),\n",
       " Prediction(uid=191, iid=3, r_ui=4.0, est=2.994219653179191, details={'was_impossible': True, 'reason': 'User and/or item is unknown.'}),\n",
       " Prediction(uid=3674, iid=1, r_ui=5.0, est=2.994219653179191, details={'was_impossible': True, 'reason': 'User and/or item is unknown.'}),\n",
       " Prediction(uid=3149, iid=1, r_ui=5.0, est=2.994219653179191, details={'was_impossible': True, 'reason': 'User and/or item is unknown.'}),\n",
       " Prediction(uid=2115, iid=5, r_ui=4.0, est=2.994219653179191, details={'was_impossible': True, 'reason': 'User and/or item is unknown.'}),\n",
       " Prediction(uid=3101, iid=5, r_ui=4.0, est=2.994219653179191, details={'was_impossible': True, 'reason': 'User and/or item is unknown.'}),\n",
       " Prediction(uid=3205, iid=3, r_ui=1.0, est=2.994219653179191, details={'was_impossible': True, 'reason': 'User and/or item is unknown.'}),\n",
       " Prediction(uid=4360, iid=3, r_ui=4.0, est=2.994219653179191, details={'was_impossible': True, 'reason': 'User and/or item is unknown.'}),\n",
       " Prediction(uid=3417, iid=3, r_ui=3.0, est=2.994219653179191, details={'was_impossible': True, 'reason': 'User and/or item is unknown.'}),\n",
       " Prediction(uid=3264, iid=5, r_ui=4.0, est=2.994219653179191, details={'was_impossible': True, 'reason': 'User and/or item is unknown.'}),\n",
       " Prediction(uid=3122, iid=1, r_ui=5.0, est=3.026058631921824, details={'actual_k': 0, 'was_impossible': False}),\n",
       " Prediction(uid=3103, iid=1, r_ui=4.0, est=3.026058631921824, details={'actual_k': 0, 'was_impossible': False}),\n",
       " Prediction(uid=3716, iid=5, r_ui=3.0, est=2.994219653179191, details={'was_impossible': True, 'reason': 'User and/or item is unknown.'}),\n",
       " Prediction(uid=4658, iid=5, r_ui=1.0, est=2.994219653179191, details={'was_impossible': True, 'reason': 'User and/or item is unknown.'}),\n",
       " Prediction(uid=4274, iid=1, r_ui=5.0, est=2.1447026997184344, details={'actual_k': 1, 'was_impossible': False}),\n",
       " Prediction(uid=130, iid=3, r_ui=2.0, est=3.125, details={'actual_k': 0, 'was_impossible': False}),\n",
       " Prediction(uid=397, iid=3, r_ui=5.0, est=2.994219653179191, details={'was_impossible': True, 'reason': 'User and/or item is unknown.'}),\n",
       " Prediction(uid=3402, iid=5, r_ui=1.0, est=2.994219653179191, details={'was_impossible': True, 'reason': 'User and/or item is unknown.'}),\n",
       " Prediction(uid=158, iid=0, r_ui=1.0, est=2.994219653179191, details={'was_impossible': True, 'reason': 'User and/or item is unknown.'}),\n",
       " Prediction(uid=888, iid=2, r_ui=2.0, est=4.822126932240507, details={'actual_k': 2, 'was_impossible': False}),\n",
       " Prediction(uid=1655, iid=3, r_ui=1.0, est=3.125, details={'actual_k': 0, 'was_impossible': False}),\n",
       " Prediction(uid=4302, iid=3, r_ui=2.0, est=3.068661971830986, details={'actual_k': 1, 'was_impossible': False}),\n",
       " Prediction(uid=2884, iid=0, r_ui=1.0, est=2.994219653179191, details={'was_impossible': True, 'reason': 'User and/or item is unknown.'}),\n",
       " Prediction(uid=948, iid=1, r_ui=3.0, est=3.026058631921824, details={'actual_k': 0, 'was_impossible': False}),\n",
       " Prediction(uid=3571, iid=4, r_ui=2.0, est=2.994219653179191, details={'was_impossible': True, 'reason': 'User and/or item is unknown.'}),\n",
       " Prediction(uid=1252, iid=1, r_ui=4.0, est=3.026058631921824, details={'actual_k': 0, 'was_impossible': False}),\n",
       " Prediction(uid=3068, iid=4, r_ui=2.0, est=2.994219653179191, details={'was_impossible': True, 'reason': 'User and/or item is unknown.'}),\n",
       " Prediction(uid=3436, iid=1, r_ui=3.0, est=2.994219653179191, details={'was_impossible': True, 'reason': 'User and/or item is unknown.'}),\n",
       " Prediction(uid=1995, iid=0, r_ui=2.0, est=2.994219653179191, details={'was_impossible': True, 'reason': 'User and/or item is unknown.'}),\n",
       " Prediction(uid=656, iid=1, r_ui=2.0, est=2.994219653179191, details={'was_impossible': True, 'reason': 'User and/or item is unknown.'}),\n",
       " Prediction(uid=1584, iid=3, r_ui=2.0, est=2.994219653179191, details={'was_impossible': True, 'reason': 'User and/or item is unknown.'}),\n",
       " Prediction(uid=1328, iid=3, r_ui=3.0, est=2.994219653179191, details={'was_impossible': True, 'reason': 'User and/or item is unknown.'}),\n",
       " Prediction(uid=4843, iid=3, r_ui=1.0, est=5, details={'actual_k': 1, 'was_impossible': False}),\n",
       " Prediction(uid=2439, iid=3, r_ui=5.0, est=2.994219653179191, details={'was_impossible': True, 'reason': 'User and/or item is unknown.'}),\n",
       " Prediction(uid=3861, iid=1, r_ui=1.0, est=2.994219653179191, details={'was_impossible': True, 'reason': 'User and/or item is unknown.'}),\n",
       " Prediction(uid=2820, iid=5, r_ui=3.0, est=2.994219653179191, details={'was_impossible': True, 'reason': 'User and/or item is unknown.'}),\n",
       " Prediction(uid=1562, iid=2, r_ui=4.0, est=1, details={'actual_k': 1, 'was_impossible': False}),\n",
       " Prediction(uid=1308, iid=4, r_ui=4.0, est=3.088560885608856, details={'actual_k': 0, 'was_impossible': False}),\n",
       " Prediction(uid=2120, iid=4, r_ui=2.0, est=2.994219653179191, details={'was_impossible': True, 'reason': 'User and/or item is unknown.'}),\n",
       " Prediction(uid=3045, iid=4, r_ui=2.0, est=2.994219653179191, details={'was_impossible': True, 'reason': 'User and/or item is unknown.'}),\n",
       " Prediction(uid=2832, iid=1, r_ui=5.0, est=2.994219653179191, details={'was_impossible': True, 'reason': 'User and/or item is unknown.'}),\n",
       " Prediction(uid=4145, iid=0, r_ui=1.0, est=2.994219653179191, details={'was_impossible': True, 'reason': 'User and/or item is unknown.'}),\n",
       " Prediction(uid=629, iid=0, r_ui=3.0, est=2.994219653179191, details={'was_impossible': True, 'reason': 'User and/or item is unknown.'}),\n",
       " Prediction(uid=1087, iid=5, r_ui=5.0, est=2.994219653179191, details={'was_impossible': True, 'reason': 'User and/or item is unknown.'}),\n",
       " Prediction(uid=3599, iid=3, r_ui=1.0, est=2.994219653179191, details={'was_impossible': True, 'reason': 'User and/or item is unknown.'}),\n",
       " Prediction(uid=2867, iid=2, r_ui=2.0, est=2.994219653179191, details={'was_impossible': True, 'reason': 'User and/or item is unknown.'}),\n",
       " Prediction(uid=2764, iid=4, r_ui=3.0, est=2.994219653179191, details={'was_impossible': True, 'reason': 'User and/or item is unknown.'}),\n",
       " Prediction(uid=1158, iid=0, r_ui=1.0, est=2.994219653179191, details={'was_impossible': True, 'reason': 'User and/or item is unknown.'}),\n",
       " Prediction(uid=4959, iid=5, r_ui=2.0, est=2.994219653179191, details={'was_impossible': True, 'reason': 'User and/or item is unknown.'}),\n",
       " Prediction(uid=3928, iid=5, r_ui=4.0, est=2.994219653179191, details={'was_impossible': True, 'reason': 'User and/or item is unknown.'}),\n",
       " Prediction(uid=4556, iid=2, r_ui=1.0, est=2.994219653179191, details={'was_impossible': True, 'reason': 'User and/or item is unknown.'}),\n",
       " Prediction(uid=3457, iid=3, r_ui=5.0, est=2.2436440677966103, details={'actual_k': 1, 'was_impossible': False}),\n",
       " Prediction(uid=4707, iid=0, r_ui=3.0, est=2.994219653179191, details={'was_impossible': True, 'reason': 'User and/or item is unknown.'}),\n",
       " Prediction(uid=3458, iid=4, r_ui=4.0, est=1, details={'actual_k': 1, 'was_impossible': False}),\n",
       " Prediction(uid=1380, iid=1, r_ui=1.0, est=2.994219653179191, details={'was_impossible': True, 'reason': 'User and/or item is unknown.'}),\n",
       " Prediction(uid=444, iid=3, r_ui=4.0, est=2.0, details={'actual_k': 1, 'was_impossible': False}),\n",
       " Prediction(uid=36, iid=1, r_ui=5.0, est=2.994219653179191, details={'was_impossible': True, 'reason': 'User and/or item is unknown.'}),\n",
       " Prediction(uid=2808, iid=3, r_ui=5.0, est=2.994219653179191, details={'was_impossible': True, 'reason': 'User and/or item is unknown.'}),\n",
       " Prediction(uid=4881, iid=3, r_ui=4.0, est=4.0, details={'actual_k': 1, 'was_impossible': False}),\n",
       " Prediction(uid=433, iid=0, r_ui=4.0, est=3.9753100867096514, details={'actual_k': 2, 'was_impossible': False}),\n",
       " Prediction(uid=3064, iid=1, r_ui=1.0, est=2.994219653179191, details={'was_impossible': True, 'reason': 'User and/or item is unknown.'}),\n",
       " Prediction(uid=567, iid=0, r_ui=1.0, est=2.994219653179191, details={'was_impossible': True, 'reason': 'User and/or item is unknown.'}),\n",
       " Prediction(uid=1101, iid=5, r_ui=2.0, est=2.994219653179191, details={'was_impossible': True, 'reason': 'User and/or item is unknown.'}),\n",
       " Prediction(uid=4264, iid=1, r_ui=1.0, est=1.1447026997184344, details={'actual_k': 1, 'was_impossible': False}),\n",
       " Prediction(uid=3823, iid=1, r_ui=3.0, est=2.994219653179191, details={'was_impossible': True, 'reason': 'User and/or item is unknown.'}),\n",
       " Prediction(uid=1552, iid=2, r_ui=5.0, est=2.994219653179191, details={'was_impossible': True, 'reason': 'User and/or item is unknown.'}),\n",
       " Prediction(uid=1658, iid=4, r_ui=3.0, est=3.088560885608856, details={'actual_k': 0, 'was_impossible': False}),\n",
       " Prediction(uid=141, iid=4, r_ui=4.0, est=2.994219653179191, details={'was_impossible': True, 'reason': 'User and/or item is unknown.'}),\n",
       " Prediction(uid=3031, iid=4, r_ui=2.0, est=2.994219653179191, details={'was_impossible': True, 'reason': 'User and/or item is unknown.'}),\n",
       " Prediction(uid=1910, iid=5, r_ui=1.0, est=2.994219653179191, details={'was_impossible': True, 'reason': 'User and/or item is unknown.'}),\n",
       " Prediction(uid=1578, iid=0, r_ui=1.0, est=3.9356700794278514, details={'actual_k': 2, 'was_impossible': False}),\n",
       " Prediction(uid=1328, iid=5, r_ui=2.0, est=2.994219653179191, details={'was_impossible': True, 'reason': 'User and/or item is unknown.'}),\n",
       " Prediction(uid=4003, iid=1, r_ui=3.0, est=2.994219653179191, details={'was_impossible': True, 'reason': 'User and/or item is unknown.'}),\n",
       " Prediction(uid=4217, iid=5, r_ui=3.0, est=2.994219653179191, details={'was_impossible': True, 'reason': 'User and/or item is unknown.'}),\n",
       " Prediction(uid=4701, iid=5, r_ui=3.0, est=2.994219653179191, details={'was_impossible': True, 'reason': 'User and/or item is unknown.'}),\n",
       " Prediction(uid=3735, iid=5, r_ui=1.0, est=2.994219653179191, details={'was_impossible': True, 'reason': 'User and/or item is unknown.'}),\n",
       " Prediction(uid=4276, iid=5, r_ui=3.0, est=2.994219653179191, details={'was_impossible': True, 'reason': 'User and/or item is unknown.'}),\n",
       " Prediction(uid=670, iid=2, r_ui=3.0, est=2.994219653179191, details={'was_impossible': True, 'reason': 'User and/or item is unknown.'}),\n",
       " Prediction(uid=2907, iid=5, r_ui=4.0, est=4.931338028169014, details={'actual_k': 1, 'was_impossible': False}),\n",
       " Prediction(uid=489, iid=0, r_ui=5.0, est=2.994219653179191, details={'was_impossible': True, 'reason': 'User and/or item is unknown.'}),\n",
       " Prediction(uid=4753, iid=4, r_ui=3.0, est=2.994219653179191, details={'was_impossible': True, 'reason': 'User and/or item is unknown.'}),\n",
       " Prediction(uid=3270, iid=1, r_ui=3.0, est=2.994219653179191, details={'was_impossible': True, 'reason': 'User and/or item is unknown.'}),\n",
       " Prediction(uid=413, iid=0, r_ui=1.0, est=2.994219653179191, details={'was_impossible': True, 'reason': 'User and/or item is unknown.'}),\n",
       " Prediction(uid=3726, iid=4, r_ui=1.0, est=3.088560885608856, details={'actual_k': 0, 'was_impossible': False}),\n",
       " Prediction(uid=3550, iid=3, r_ui=5.0, est=2.994219653179191, details={'was_impossible': True, 'reason': 'User and/or item is unknown.'}),\n",
       " Prediction(uid=4547, iid=5, r_ui=3.0, est=2.994219653179191, details={'was_impossible': True, 'reason': 'User and/or item is unknown.'}),\n",
       " Prediction(uid=39, iid=0, r_ui=1.0, est=4.722070343627024, details={'actual_k': 1, 'was_impossible': False}),\n",
       " Prediction(uid=2531, iid=4, r_ui=3.0, est=2.994219653179191, details={'was_impossible': True, 'reason': 'User and/or item is unknown.'}),\n",
       " Prediction(uid=965, iid=5, r_ui=2.0, est=2.994219653179191, details={'was_impossible': True, 'reason': 'User and/or item is unknown.'}),\n",
       " Prediction(uid=2863, iid=1, r_ui=5.0, est=2.994219653179191, details={'was_impossible': True, 'reason': 'User and/or item is unknown.'}),\n",
       " Prediction(uid=1099, iid=3, r_ui=3.0, est=2.994219653179191, details={'was_impossible': True, 'reason': 'User and/or item is unknown.'}),\n",
       " Prediction(uid=4113, iid=5, r_ui=1.0, est=2.994219653179191, details={'was_impossible': True, 'reason': 'User and/or item is unknown.'}),\n",
       " Prediction(uid=3941, iid=4, r_ui=2.0, est=2.994219653179191, details={'was_impossible': True, 'reason': 'User and/or item is unknown.'}),\n",
       " Prediction(uid=705, iid=4, r_ui=4.0, est=2.994219653179191, details={'was_impossible': True, 'reason': 'User and/or item is unknown.'}),\n",
       " Prediction(uid=663, iid=2, r_ui=5.0, est=4.855297300281565, details={'actual_k': 1, 'was_impossible': False}),\n",
       " Prediction(uid=4491, iid=1, r_ui=1.0, est=2.0, details={'actual_k': 1, 'was_impossible': False}),\n",
       " Prediction(uid=1312, iid=1, r_ui=4.0, est=2.994219653179191, details={'was_impossible': True, 'reason': 'User and/or item is unknown.'}),\n",
       " Prediction(uid=2445, iid=5, r_ui=3.0, est=2.994219653179191, details={'was_impossible': True, 'reason': 'User and/or item is unknown.'}),\n",
       " Prediction(uid=1391, iid=0, r_ui=5.0, est=2.8106312292358804, details={'actual_k': 0, 'was_impossible': False}),\n",
       " Prediction(uid=4928, iid=1, r_ui=4.0, est=3.026058631921824, details={'actual_k': 0, 'was_impossible': False}),\n",
       " Prediction(uid=710, iid=4, r_ui=3.0, est=2.994219653179191, details={'was_impossible': True, 'reason': 'User and/or item is unknown.'}),\n",
       " Prediction(uid=897, iid=1, r_ui=1.0, est=2.994219653179191, details={'was_impossible': True, 'reason': 'User and/or item is unknown.'}),\n",
       " Prediction(uid=2430, iid=5, r_ui=1.0, est=2.994219653179191, details={'was_impossible': True, 'reason': 'User and/or item is unknown.'}),\n",
       " Prediction(uid=4259, iid=4, r_ui=4.0, est=2.994219653179191, details={'was_impossible': True, 'reason': 'User and/or item is unknown.'}),\n",
       " Prediction(uid=4206, iid=4, r_ui=4.0, est=2.994219653179191, details={'was_impossible': True, 'reason': 'User and/or item is unknown.'}),\n",
       " Prediction(uid=3839, iid=5, r_ui=2.0, est=3.056338028169014, details={'actual_k': 0, 'was_impossible': False}),\n",
       " Prediction(uid=2038, iid=4, r_ui=3.0, est=2.994219653179191, details={'was_impossible': True, 'reason': 'User and/or item is unknown.'}),\n",
       " Prediction(uid=985, iid=1, r_ui=5.0, est=2.994219653179191, details={'was_impossible': True, 'reason': 'User and/or item is unknown.'}),\n",
       " Prediction(uid=772, iid=1, r_ui=1.0, est=2.994219653179191, details={'was_impossible': True, 'reason': 'User and/or item is unknown.'}),\n",
       " Prediction(uid=1304, iid=3, r_ui=4.0, est=2.994219653179191, details={'was_impossible': True, 'reason': 'User and/or item is unknown.'}),\n",
       " Prediction(uid=1483, iid=5, r_ui=1.0, est=2.994219653179191, details={'was_impossible': True, 'reason': 'User and/or item is unknown.'}),\n",
       " Prediction(uid=2744, iid=3, r_ui=4.0, est=2.994219653179191, details={'was_impossible': True, 'reason': 'User and/or item is unknown.'}),\n",
       " Prediction(uid=3825, iid=4, r_ui=5.0, est=2.994219653179191, details={'was_impossible': True, 'reason': 'User and/or item is unknown.'}),\n",
       " Prediction(uid=1224, iid=0, r_ui=4.0, est=2.994219653179191, details={'was_impossible': True, 'reason': 'User and/or item is unknown.'}),\n",
       " Prediction(uid=3571, iid=1, r_ui=4.0, est=2.994219653179191, details={'was_impossible': True, 'reason': 'User and/or item is unknown.'}),\n",
       " Prediction(uid=3273, iid=2, r_ui=5.0, est=3.0707247029675093, details={'actual_k': 1, 'was_impossible': False}),\n",
       " Prediction(uid=1977, iid=2, r_ui=1.0, est=2.8813559322033897, details={'actual_k': 0, 'was_impossible': False}),\n",
       " Prediction(uid=2692, iid=5, r_ui=3.0, est=2.994219653179191, details={'was_impossible': True, 'reason': 'User and/or item is unknown.'}),\n",
       " Prediction(uid=1594, iid=2, r_ui=1.0, est=2.8552973002815656, details={'actual_k': 1, 'was_impossible': False}),\n",
       " Prediction(uid=4064, iid=0, r_ui=3.0, est=1, details={'actual_k': 1, 'was_impossible': False}),\n",
       " Prediction(uid=2190, iid=4, r_ui=2.0, est=2.994219653179191, details={'was_impossible': True, 'reason': 'User and/or item is unknown.'}),\n",
       " Prediction(uid=2461, iid=4, r_ui=3.0, est=2.994219653179191, details={'was_impossible': True, 'reason': 'User and/or item is unknown.'}),\n",
       " Prediction(uid=3508, iid=5, r_ui=5.0, est=1, details={'actual_k': 1, 'was_impossible': False}),\n",
       " Prediction(uid=3843, iid=5, r_ui=4.0, est=2.994219653179191, details={'was_impossible': True, 'reason': 'User and/or item is unknown.'}),\n",
       " Prediction(uid=3234, iid=4, r_ui=1.0, est=2.994219653179191, details={'was_impossible': True, 'reason': 'User and/or item is unknown.'}),\n",
       " Prediction(uid=1143, iid=3, r_ui=1.0, est=2.994219653179191, details={'was_impossible': True, 'reason': 'User and/or item is unknown.'}),\n",
       " Prediction(uid=1199, iid=0, r_ui=5.0, est=2.994219653179191, details={'was_impossible': True, 'reason': 'User and/or item is unknown.'}),\n",
       " Prediction(uid=3260, iid=1, r_ui=4.0, est=1.1447026997184344, details={'actual_k': 1, 'was_impossible': False}),\n",
       " Prediction(uid=2557, iid=1, r_ui=3.0, est=2.994219653179191, details={'was_impossible': True, 'reason': 'User and/or item is unknown.'}),\n",
       " Prediction(uid=3267, iid=5, r_ui=2.0, est=2.994219653179191, details={'was_impossible': True, 'reason': 'User and/or item is unknown.'}),\n",
       " Prediction(uid=1231, iid=5, r_ui=5.0, est=1, details={'actual_k': 1, 'was_impossible': False}),\n",
       " Prediction(uid=2352, iid=4, r_ui=2.0, est=2.994219653179191, details={'was_impossible': True, 'reason': 'User and/or item is unknown.'}),\n",
       " Prediction(uid=2357, iid=0, r_ui=5.0, est=2.994219653179191, details={'was_impossible': True, 'reason': 'User and/or item is unknown.'}),\n",
       " Prediction(uid=3804, iid=3, r_ui=1.0, est=2.2436440677966103, details={'actual_k': 1, 'was_impossible': False}),\n",
       " Prediction(uid=4328, iid=5, r_ui=5.0, est=2.994219653179191, details={'was_impossible': True, 'reason': 'User and/or item is unknown.'}),\n",
       " Prediction(uid=1780, iid=3, r_ui=1.0, est=2.994219653179191, details={'was_impossible': True, 'reason': 'User and/or item is unknown.'}),\n",
       " Prediction(uid=930, iid=0, r_ui=5.0, est=2.994219653179191, details={'was_impossible': True, 'reason': 'User and/or item is unknown.'}),\n",
       " Prediction(uid=2313, iid=3, r_ui=5.0, est=2.994219653179191, details={'was_impossible': True, 'reason': 'User and/or item is unknown.'}),\n",
       " Prediction(uid=4223, iid=1, r_ui=5.0, est=4.0, details={'actual_k': 1, 'was_impossible': False}),\n",
       " Prediction(uid=476, iid=5, r_ui=1.0, est=2.994219653179191, details={'was_impossible': True, 'reason': 'User and/or item is unknown.'}),\n",
       " Prediction(uid=4039, iid=1, r_ui=2.0, est=5, details={'actual_k': 1, 'was_impossible': False}),\n",
       " Prediction(uid=231, iid=1, r_ui=2.0, est=2.994219653179191, details={'was_impossible': True, 'reason': 'User and/or item is unknown.'}),\n",
       " Prediction(uid=2668, iid=2, r_ui=3.0, est=2.0707247029675093, details={'actual_k': 1, 'was_impossible': False}),\n",
       " Prediction(uid=1150, iid=0, r_ui=3.0, est=2.8106312292358804, details={'actual_k': 0, 'was_impossible': False}),\n",
       " Prediction(uid=3301, iid=3, r_ui=5.0, est=5, details={'actual_k': 1, 'was_impossible': False}),\n",
       " Prediction(uid=2933, iid=2, r_ui=3.0, est=1.0707247029675093, details={'actual_k': 1, 'was_impossible': False}),\n",
       " Prediction(uid=975, iid=0, r_ui=2.0, est=2.994219653179191, details={'was_impossible': True, 'reason': 'User and/or item is unknown.'}),\n",
       " Prediction(uid=2272, iid=1, r_ui=4.0, est=2.994219653179191, details={'was_impossible': True, 'reason': 'User and/or item is unknown.'}),\n",
       " Prediction(uid=3515, iid=1, r_ui=5.0, est=2.994219653179191, details={'was_impossible': True, 'reason': 'User and/or item is unknown.'}),\n",
       " Prediction(uid=1439, iid=2, r_ui=3.0, est=4.070724702967509, details={'actual_k': 1, 'was_impossible': False}),\n",
       " Prediction(uid=1423, iid=4, r_ui=3.0, est=2.994219653179191, details={'was_impossible': True, 'reason': 'User and/or item is unknown.'}),\n",
       " Prediction(uid=2682, iid=4, r_ui=5.0, est=2.994219653179191, details={'was_impossible': True, 'reason': 'User and/or item is unknown.'}),\n",
       " Prediction(uid=489, iid=0, r_ui=3.0, est=2.994219653179191, details={'was_impossible': True, 'reason': 'User and/or item is unknown.'}),\n",
       " Prediction(uid=3343, iid=4, r_ui=4.0, est=3.088560885608856, details={'actual_k': 0, 'was_impossible': False}),\n",
       " Prediction(uid=1022, iid=1, r_ui=3.0, est=2.994219653179191, details={'was_impossible': True, 'reason': 'User and/or item is unknown.'}),\n",
       " Prediction(uid=517, iid=1, r_ui=3.0, est=3.1447026997184344, details={'actual_k': 1, 'was_impossible': False}),\n",
       " Prediction(uid=3785, iid=3, r_ui=4.0, est=2.994219653179191, details={'was_impossible': True, 'reason': 'User and/or item is unknown.'}),\n",
       " Prediction(uid=1346, iid=2, r_ui=3.0, est=2.994219653179191, details={'was_impossible': True, 'reason': 'User and/or item is unknown.'}),\n",
       " Prediction(uid=4337, iid=3, r_ui=5.0, est=2.994219653179191, details={'was_impossible': True, 'reason': 'User and/or item is unknown.'}),\n",
       " Prediction(uid=4041, iid=1, r_ui=3.0, est=3.0, details={'actual_k': 1, 'was_impossible': False}),\n",
       " Prediction(uid=1833, iid=5, r_ui=5.0, est=2.994219653179191, details={'was_impossible': True, 'reason': 'User and/or item is unknown.'}),\n",
       " Prediction(uid=4149, iid=3, r_ui=1.0, est=3.2436440677966103, details={'actual_k': 1, 'was_impossible': False}),\n",
       " Prediction(uid=73, iid=3, r_ui=3.0, est=2.994219653179191, details={'was_impossible': True, 'reason': 'User and/or item is unknown.'}),\n",
       " Prediction(uid=2154, iid=0, r_ui=3.0, est=2.994219653179191, details={'was_impossible': True, 'reason': 'User and/or item is unknown.'}),\n",
       " Prediction(uid=1142, iid=5, r_ui=1.0, est=2.994219653179191, details={'was_impossible': True, 'reason': 'User and/or item is unknown.'}),\n",
       " Prediction(uid=2015, iid=3, r_ui=5.0, est=2.994219653179191, details={'was_impossible': True, 'reason': 'User and/or item is unknown.'}),\n",
       " Prediction(uid=4533, iid=5, r_ui=4.0, est=2.994219653179191, details={'was_impossible': True, 'reason': 'User and/or item is unknown.'}),\n",
       " Prediction(uid=3980, iid=0, r_ui=3.0, est=2.994219653179191, details={'was_impossible': True, 'reason': 'User and/or item is unknown.'}),\n",
       " Prediction(uid=2108, iid=4, r_ui=3.0, est=2.994219653179191, details={'was_impossible': True, 'reason': 'User and/or item is unknown.'}),\n",
       " Prediction(uid=4350, iid=0, r_ui=3.0, est=3.7542932010668664, details={'actual_k': 1, 'was_impossible': False}),\n",
       " Prediction(uid=350, iid=3, r_ui=5.0, est=3.125, details={'actual_k': 0, 'was_impossible': False}),\n",
       " Prediction(uid=3838, iid=3, r_ui=3.0, est=2.994219653179191, details={'was_impossible': True, 'reason': 'User and/or item is unknown.'}),\n",
       " Prediction(uid=2610, iid=5, r_ui=2.0, est=2.994219653179191, details={'was_impossible': True, 'reason': 'User and/or item is unknown.'}),\n",
       " Prediction(uid=624, iid=4, r_ui=5.0, est=2.994219653179191, details={'was_impossible': True, 'reason': 'User and/or item is unknown.'}),\n",
       " Prediction(uid=3337, iid=1, r_ui=2.0, est=3.1447026997184344, details={'actual_k': 1, 'was_impossible': False}),\n",
       " Prediction(uid=3472, iid=1, r_ui=1.0, est=2.994219653179191, details={'was_impossible': True, 'reason': 'User and/or item is unknown.'}),\n",
       " Prediction(uid=3324, iid=3, r_ui=1.0, est=2.994219653179191, details={'was_impossible': True, 'reason': 'User and/or item is unknown.'}),\n",
       " Prediction(uid=2318, iid=3, r_ui=5.0, est=2.994219653179191, details={'was_impossible': True, 'reason': 'User and/or item is unknown.'}),\n",
       " Prediction(uid=481, iid=2, r_ui=3.0, est=2.994219653179191, details={'was_impossible': True, 'reason': 'User and/or item is unknown.'}),\n",
       " Prediction(uid=4999, iid=2, r_ui=5.0, est=5, details={'actual_k': 1, 'was_impossible': False}),\n",
       " Prediction(uid=135, iid=1, r_ui=2.0, est=2.994219653179191, details={'was_impossible': True, 'reason': 'User and/or item is unknown.'}),\n",
       " Prediction(uid=3878, iid=5, r_ui=3.0, est=4.931338028169014, details={'actual_k': 1, 'was_impossible': False}),\n",
       " Prediction(uid=1775, iid=1, r_ui=2.0, est=3.026058631921824, details={'actual_k': 0, 'was_impossible': False}),\n",
       " Prediction(uid=1248, iid=3, r_ui=1.0, est=2.994219653179191, details={'was_impossible': True, 'reason': 'User and/or item is unknown.'}),\n",
       " Prediction(uid=233, iid=2, r_ui=4.0, est=1, details={'actual_k': 1, 'was_impossible': False}),\n",
       " Prediction(uid=3270, iid=3, r_ui=1.0, est=2.994219653179191, details={'was_impossible': True, 'reason': 'User and/or item is unknown.'}),\n",
       " Prediction(uid=1534, iid=1, r_ui=5.0, est=2.994219653179191, details={'was_impossible': True, 'reason': 'User and/or item is unknown.'}),\n",
       " Prediction(uid=4823, iid=2, r_ui=4.0, est=2.994219653179191, details={'was_impossible': True, 'reason': 'User and/or item is unknown.'}),\n",
       " Prediction(uid=2573, iid=1, r_ui=2.0, est=2.994219653179191, details={'was_impossible': True, 'reason': 'User and/or item is unknown.'}),\n",
       " Prediction(uid=1797, iid=2, r_ui=5.0, est=2.994219653179191, details={'was_impossible': True, 'reason': 'User and/or item is unknown.'}),\n",
       " Prediction(uid=2236, iid=5, r_ui=3.0, est=2.994219653179191, details={'was_impossible': True, 'reason': 'User and/or item is unknown.'}),\n",
       " Prediction(uid=1227, iid=4, r_ui=4.0, est=3.088560885608856, details={'actual_k': 0, 'was_impossible': False}),\n",
       " Prediction(uid=4910, iid=5, r_ui=2.0, est=3.056338028169014, details={'actual_k': 0, 'was_impossible': False}),\n",
       " Prediction(uid=2834, iid=1, r_ui=5.0, est=2.994219653179191, details={'was_impossible': True, 'reason': 'User and/or item is unknown.'}),\n",
       " Prediction(uid=244, iid=0, r_ui=1.0, est=2.994219653179191, details={'was_impossible': True, 'reason': 'User and/or item is unknown.'}),\n",
       " Prediction(uid=4715, iid=0, r_ui=4.0, est=2.994219653179191, details={'was_impossible': True, 'reason': 'User and/or item is unknown.'}),\n",
       " Prediction(uid=4300, iid=1, r_ui=1.0, est=2.994219653179191, details={'was_impossible': True, 'reason': 'User and/or item is unknown.'}),\n",
       " Prediction(uid=2974, iid=4, r_ui=4.0, est=2.994219653179191, details={'was_impossible': True, 'reason': 'User and/or item is unknown.'}),\n",
       " Prediction(uid=4754, iid=0, r_ui=4.0, est=4.722070343627024, details={'actual_k': 1, 'was_impossible': False}),\n",
       " Prediction(uid=3156, iid=3, r_ui=1.0, est=2.994219653179191, details={'was_impossible': True, 'reason': 'User and/or item is unknown.'}),\n",
       " Prediction(uid=1882, iid=2, r_ui=1.0, est=5, details={'actual_k': 1, 'was_impossible': False}),\n",
       " Prediction(uid=4043, iid=4, r_ui=3.0, est=2.994219653179191, details={'was_impossible': True, 'reason': 'User and/or item is unknown.'}),\n",
       " Prediction(uid=4425, iid=5, r_ui=4.0, est=5, details={'actual_k': 1, 'was_impossible': False}),\n",
       " Prediction(uid=4344, iid=3, r_ui=3.0, est=2.994219653179191, details={'was_impossible': True, 'reason': 'User and/or item is unknown.'}),\n",
       " Prediction(uid=2320, iid=2, r_ui=5.0, est=2.994219653179191, details={'was_impossible': True, 'reason': 'User and/or item is unknown.'}),\n",
       " Prediction(uid=3120, iid=4, r_ui=4.0, est=2.994219653179191, details={'was_impossible': True, 'reason': 'User and/or item is unknown.'}),\n",
       " Prediction(uid=1727, iid=5, r_ui=2.0, est=2.994219653179191, details={'was_impossible': True, 'reason': 'User and/or item is unknown.'}),\n",
       " Prediction(uid=1778, iid=1, r_ui=1.0, est=2.994219653179191, details={'was_impossible': True, 'reason': 'User and/or item is unknown.'}),\n",
       " Prediction(uid=2145, iid=3, r_ui=4.0, est=2.994219653179191, details={'was_impossible': True, 'reason': 'User and/or item is unknown.'}),\n",
       " Prediction(uid=407, iid=3, r_ui=5.0, est=5, details={'actual_k': 1, 'was_impossible': False}),\n",
       " Prediction(uid=2251, iid=4, r_ui=2.0, est=2.994219653179191, details={'was_impossible': True, 'reason': 'User and/or item is unknown.'}),\n",
       " Prediction(uid=3986, iid=4, r_ui=1.0, est=2.994219653179191, details={'was_impossible': True, 'reason': 'User and/or item is unknown.'}),\n",
       " Prediction(uid=1365, iid=2, r_ui=1.0, est=2.994219653179191, details={'was_impossible': True, 'reason': 'User and/or item is unknown.'}),\n",
       " Prediction(uid=3291, iid=5, r_ui=2.0, est=2.994219653179191, details={'was_impossible': True, 'reason': 'User and/or item is unknown.'}),\n",
       " Prediction(uid=3472, iid=5, r_ui=2.0, est=2.994219653179191, details={'was_impossible': True, 'reason': 'User and/or item is unknown.'}),\n",
       " Prediction(uid=3985, iid=2, r_ui=3.0, est=2.994219653179191, details={'was_impossible': True, 'reason': 'User and/or item is unknown.'}),\n",
       " Prediction(uid=1592, iid=2, r_ui=2.0, est=2.994219653179191, details={'was_impossible': True, 'reason': 'User and/or item is unknown.'}),\n",
       " Prediction(uid=402, iid=1, r_ui=5.0, est=3.0, details={'actual_k': 1, 'was_impossible': False}),\n",
       " Prediction(uid=3534, iid=0, r_ui=1.0, est=2.8106312292358804, details={'actual_k': 0, 'was_impossible': False}),\n",
       " Prediction(uid=4548, iid=2, r_ui=2.0, est=1, details={'actual_k': 1, 'was_impossible': False}),\n",
       " Prediction(uid=1021, iid=0, r_ui=1.0, est=2.994219653179191, details={'was_impossible': True, 'reason': 'User and/or item is unknown.'}),\n",
       " Prediction(uid=1105, iid=4, r_ui=5.0, est=2.994219653179191, details={'was_impossible': True, 'reason': 'User and/or item is unknown.'}),\n",
       " Prediction(uid=2353, iid=2, r_ui=2.0, est=2.994219653179191, details={'was_impossible': True, 'reason': 'User and/or item is unknown.'}),\n",
       " Prediction(uid=2542, iid=0, r_ui=1.0, est=2.994219653179191, details={'was_impossible': True, 'reason': 'User and/or item is unknown.'}),\n",
       " Prediction(uid=2793, iid=4, r_ui=3.0, est=3.088560885608856, details={'actual_k': 0, 'was_impossible': False}),\n",
       " Prediction(uid=1546, iid=0, r_ui=3.0, est=2.994219653179191, details={'was_impossible': True, 'reason': 'User and/or item is unknown.'}),\n",
       " Prediction(uid=3059, iid=5, r_ui=4.0, est=3.056338028169014, details={'actual_k': 0, 'was_impossible': False}),\n",
       " Prediction(uid=1934, iid=3, r_ui=1.0, est=2.994219653179191, details={'was_impossible': True, 'reason': 'User and/or item is unknown.'}),\n",
       " Prediction(uid=4591, iid=0, r_ui=2.0, est=2.8106312292358804, details={'actual_k': 0, 'was_impossible': False}),\n",
       " Prediction(uid=3491, iid=1, r_ui=5.0, est=2.994219653179191, details={'was_impossible': True, 'reason': 'User and/or item is unknown.'}),\n",
       " Prediction(uid=2557, iid=1, r_ui=3.0, est=2.994219653179191, details={'was_impossible': True, 'reason': 'User and/or item is unknown.'}),\n",
       " Prediction(uid=1575, iid=5, r_ui=2.0, est=2.994219653179191, details={'was_impossible': True, 'reason': 'User and/or item is unknown.'}),\n",
       " Prediction(uid=3517, iid=4, r_ui=2.0, est=2.994219653179191, details={'was_impossible': True, 'reason': 'User and/or item is unknown.'}),\n",
       " Prediction(uid=4348, iid=2, r_ui=5.0, est=2.994219653179191, details={'was_impossible': True, 'reason': 'User and/or item is unknown.'}),\n",
       " Prediction(uid=4499, iid=0, r_ui=3.0, est=2.994219653179191, details={'was_impossible': True, 'reason': 'User and/or item is unknown.'}),\n",
       " Prediction(uid=2644, iid=4, r_ui=5.0, est=2.994219653179191, details={'was_impossible': True, 'reason': 'User and/or item is unknown.'}),\n",
       " Prediction(uid=3983, iid=3, r_ui=2.0, est=2.994219653179191, details={'was_impossible': True, 'reason': 'User and/or item is unknown.'}),\n",
       " Prediction(uid=2617, iid=0, r_ui=5.0, est=2.994219653179191, details={'was_impossible': True, 'reason': 'User and/or item is unknown.'}),\n",
       " Prediction(uid=1780, iid=4, r_ui=2.0, est=2.994219653179191, details={'was_impossible': True, 'reason': 'User and/or item is unknown.'}),\n",
       " Prediction(uid=275, iid=0, r_ui=5.0, est=2.7542932010668664, details={'actual_k': 1, 'was_impossible': False}),\n",
       " Prediction(uid=4649, iid=0, r_ui=3.0, est=2.994219653179191, details={'was_impossible': True, 'reason': 'User and/or item is unknown.'}),\n",
       " Prediction(uid=293, iid=1, r_ui=5.0, est=2.994219653179191, details={'was_impossible': True, 'reason': 'User and/or item is unknown.'}),\n",
       " Prediction(uid=4370, iid=2, r_ui=5.0, est=3.7563559322033897, details={'actual_k': 1, 'was_impossible': False}),\n",
       " Prediction(uid=2586, iid=4, r_ui=3.0, est=2.994219653179191, details={'was_impossible': True, 'reason': 'User and/or item is unknown.'}),\n",
       " Prediction(uid=3269, iid=3, r_ui=2.0, est=2.994219653179191, details={'was_impossible': True, 'reason': 'User and/or item is unknown.'}),\n",
       " Prediction(uid=2345, iid=2, r_ui=1.0, est=2.994219653179191, details={'was_impossible': True, 'reason': 'User and/or item is unknown.'}),\n",
       " Prediction(uid=4647, iid=0, r_ui=2.0, est=1.2270833540442305, details={'actual_k': 3, 'was_impossible': False}),\n",
       " Prediction(uid=1571, iid=1, r_ui=3.0, est=2.994219653179191, details={'was_impossible': True, 'reason': 'User and/or item is unknown.'}),\n",
       " Prediction(uid=3503, iid=4, r_ui=3.0, est=2.994219653179191, details={'was_impossible': True, 'reason': 'User and/or item is unknown.'}),\n",
       " Prediction(uid=4033, iid=3, r_ui=4.0, est=2.994219653179191, details={'was_impossible': True, 'reason': 'User and/or item is unknown.'}),\n",
       " Prediction(uid=2261, iid=5, r_ui=3.0, est=2.994219653179191, details={'was_impossible': True, 'reason': 'User and/or item is unknown.'}),\n",
       " Prediction(uid=4597, iid=1, r_ui=5.0, est=3.026058631921824, details={'actual_k': 0, 'was_impossible': False}),\n",
       " Prediction(uid=4080, iid=3, r_ui=4.0, est=2.994219653179191, details={'was_impossible': True, 'reason': 'User and/or item is unknown.'}),\n",
       " Prediction(uid=2486, iid=5, r_ui=1.0, est=2.994219653179191, details={'was_impossible': True, 'reason': 'User and/or item is unknown.'}),\n",
       " Prediction(uid=326, iid=3, r_ui=2.0, est=2.994219653179191, details={'was_impossible': True, 'reason': 'User and/or item is unknown.'}),\n",
       " Prediction(uid=2044, iid=1, r_ui=4.0, est=2.994219653179191, details={'was_impossible': True, 'reason': 'User and/or item is unknown.'}),\n",
       " Prediction(uid=3991, iid=4, r_ui=4.0, est=2.994219653179191, details={'was_impossible': True, 'reason': 'User and/or item is unknown.'}),\n",
       " Prediction(uid=3763, iid=1, r_ui=3.0, est=2.994219653179191, details={'was_impossible': True, 'reason': 'User and/or item is unknown.'}),\n",
       " Prediction(uid=176, iid=1, r_ui=4.0, est=2.994219653179191, details={'was_impossible': True, 'reason': 'User and/or item is unknown.'}),\n",
       " Prediction(uid=4279, iid=5, r_ui=5.0, est=2.994219653179191, details={'was_impossible': True, 'reason': 'User and/or item is unknown.'}),\n",
       " Prediction(uid=2642, iid=1, r_ui=2.0, est=2.994219653179191, details={'was_impossible': True, 'reason': 'User and/or item is unknown.'}),\n",
       " Prediction(uid=1436, iid=4, r_ui=3.0, est=2.994219653179191, details={'was_impossible': True, 'reason': 'User and/or item is unknown.'}),\n",
       " Prediction(uid=1831, iid=3, r_ui=4.0, est=2.994219653179191, details={'was_impossible': True, 'reason': 'User and/or item is unknown.'}),\n",
       " Prediction(uid=3645, iid=0, r_ui=2.0, est=2.994219653179191, details={'was_impossible': True, 'reason': 'User and/or item is unknown.'}),\n",
       " Prediction(uid=1930, iid=1, r_ui=4.0, est=3.026058631921824, details={'actual_k': 0, 'was_impossible': False}),\n",
       " Prediction(uid=3779, iid=2, r_ui=5.0, est=2.994219653179191, details={'was_impossible': True, 'reason': 'User and/or item is unknown.'}),\n",
       " Prediction(uid=4997, iid=3, r_ui=4.0, est=3.125, details={'actual_k': 0, 'was_impossible': False}),\n",
       " Prediction(uid=4013, iid=5, r_ui=4.0, est=3.056338028169014, details={'actual_k': 0, 'was_impossible': False}),\n",
       " Prediction(uid=4588, iid=2, r_ui=4.0, est=4.855297300281565, details={'actual_k': 1, 'was_impossible': False}),\n",
       " Prediction(uid=4096, iid=5, r_ui=4.0, est=2.994219653179191, details={'was_impossible': True, 'reason': 'User and/or item is unknown.'}),\n",
       " Prediction(uid=358, iid=5, r_ui=1.0, est=2.994219653179191, details={'was_impossible': True, 'reason': 'User and/or item is unknown.'}),\n",
       " Prediction(uid=2521, iid=3, r_ui=3.0, est=3.125, details={'actual_k': 0, 'was_impossible': False}),\n",
       " Prediction(uid=3807, iid=3, r_ui=1.0, est=2.994219653179191, details={'was_impossible': True, 'reason': 'User and/or item is unknown.'}),\n",
       " Prediction(uid=4387, iid=3, r_ui=1.0, est=2.994219653179191, details={'was_impossible': True, 'reason': 'User and/or item is unknown.'}),\n",
       " Prediction(uid=3814, iid=3, r_ui=1.0, est=2.994219653179191, details={'was_impossible': True, 'reason': 'User and/or item is unknown.'}),\n",
       " Prediction(uid=2246, iid=0, r_ui=4.0, est=2.994219653179191, details={'was_impossible': True, 'reason': 'User and/or item is unknown.'}),\n",
       " Prediction(uid=2148, iid=1, r_ui=1.0, est=2.994219653179191, details={'was_impossible': True, 'reason': 'User and/or item is unknown.'}),\n",
       " Prediction(uid=2254, iid=1, r_ui=3.0, est=3.026058631921824, details={'actual_k': 0, 'was_impossible': False}),\n",
       " Prediction(uid=2273, iid=3, r_ui=3.0, est=3.125, details={'actual_k': 0, 'was_impossible': False}),\n",
       " Prediction(uid=1268, iid=4, r_ui=2.0, est=2.994219653179191, details={'was_impossible': True, 'reason': 'User and/or item is unknown.'}),\n",
       " Prediction(uid=398, iid=3, r_ui=3.0, est=2.994219653179191, details={'was_impossible': True, 'reason': 'User and/or item is unknown.'}),\n",
       " Prediction(uid=1661, iid=3, r_ui=3.0, est=2.994219653179191, details={'was_impossible': True, 'reason': 'User and/or item is unknown.'}),\n",
       " Prediction(uid=2748, iid=1, r_ui=5.0, est=2.994219653179191, details={'was_impossible': True, 'reason': 'User and/or item is unknown.'}),\n",
       " Prediction(uid=1537, iid=1, r_ui=2.0, est=2.994219653179191, details={'was_impossible': True, 'reason': 'User and/or item is unknown.'}),\n",
       " Prediction(uid=2676, iid=4, r_ui=2.0, est=3.277929656372976, details={'actual_k': 1, 'was_impossible': False}),\n",
       " Prediction(uid=249, iid=5, r_ui=4.0, est=1.931338028169014, details={'actual_k': 1, 'was_impossible': False}),\n",
       " Prediction(uid=4017, iid=1, r_ui=2.0, est=3.1447026997184344, details={'actual_k': 1, 'was_impossible': False}),\n",
       " Prediction(uid=2614, iid=2, r_ui=1.0, est=2.994219653179191, details={'was_impossible': True, 'reason': 'User and/or item is unknown.'}),\n",
       " Prediction(uid=4323, iid=0, r_ui=4.0, est=2.994219653179191, details={'was_impossible': True, 'reason': 'User and/or item is unknown.'}),\n",
       " Prediction(uid=3132, iid=5, r_ui=4.0, est=4.245706798933133, details={'actual_k': 1, 'was_impossible': False}),\n",
       " Prediction(uid=3080, iid=4, r_ui=4.0, est=2.994219653179191, details={'was_impossible': True, 'reason': 'User and/or item is unknown.'}),\n",
       " Prediction(uid=2001, iid=4, r_ui=1.0, est=2.994219653179191, details={'was_impossible': True, 'reason': 'User and/or item is unknown.'}),\n",
       " Prediction(uid=4259, iid=2, r_ui=2.0, est=2.994219653179191, details={'was_impossible': True, 'reason': 'User and/or item is unknown.'}),\n",
       " Prediction(uid=4890, iid=0, r_ui=5.0, est=2.994219653179191, details={'was_impossible': True, 'reason': 'User and/or item is unknown.'}),\n",
       " Prediction(uid=3313, iid=5, r_ui=2.0, est=2.994219653179191, details={'was_impossible': True, 'reason': 'User and/or item is unknown.'}),\n",
       " Prediction(uid=530, iid=3, r_ui=2.0, est=2.994219653179191, details={'was_impossible': True, 'reason': 'User and/or item is unknown.'}),\n",
       " Prediction(uid=1891, iid=2, r_ui=3.0, est=2.994219653179191, details={'was_impossible': True, 'reason': 'User and/or item is unknown.'}),\n",
       " Prediction(uid=3136, iid=2, r_ui=4.0, est=2.8813559322033897, details={'actual_k': 0, 'was_impossible': False}),\n",
       " Prediction(uid=3253, iid=0, r_ui=2.0, est=2.994219653179191, details={'was_impossible': True, 'reason': 'User and/or item is unknown.'}),\n",
       " Prediction(uid=2232, iid=5, r_ui=1.0, est=2.994219653179191, details={'was_impossible': True, 'reason': 'User and/or item is unknown.'}),\n",
       " Prediction(uid=2587, iid=4, r_ui=1.0, est=2.994219653179191, details={'was_impossible': True, 'reason': 'User and/or item is unknown.'}),\n",
       " Prediction(uid=4375, iid=1, r_ui=2.0, est=1.1447026997184344, details={'actual_k': 1, 'was_impossible': False}),\n",
       " Prediction(uid=2211, iid=3, r_ui=3.0, est=2.994219653179191, details={'was_impossible': True, 'reason': 'User and/or item is unknown.'}),\n",
       " Prediction(uid=200, iid=3, r_ui=4.0, est=2.994219653179191, details={'was_impossible': True, 'reason': 'User and/or item is unknown.'}),\n",
       " Prediction(uid=2485, iid=3, r_ui=1.0, est=2.994219653179191, details={'was_impossible': True, 'reason': 'User and/or item is unknown.'}),\n",
       " Prediction(uid=2521, iid=0, r_ui=2.0, est=2.8106312292358804, details={'actual_k': 0, 'was_impossible': False}),\n",
       " Prediction(uid=1685, iid=1, r_ui=3.0, est=2.994219653179191, details={'was_impossible': True, 'reason': 'User and/or item is unknown.'}),\n",
       " Prediction(uid=93, iid=4, r_ui=4.0, est=2.994219653179191, details={'was_impossible': True, 'reason': 'User and/or item is unknown.'}),\n",
       " Prediction(uid=2034, iid=3, r_ui=2.0, est=3.125, details={'actual_k': 0, 'was_impossible': False}),\n",
       " Prediction(uid=4465, iid=1, r_ui=5.0, est=2.1447026997184344, details={'actual_k': 1, 'was_impossible': False}),\n",
       " Prediction(uid=3459, iid=2, r_ui=4.0, est=2.994219653179191, details={'was_impossible': True, 'reason': 'User and/or item is unknown.'}),\n",
       " Prediction(uid=4499, iid=2, r_ui=1.0, est=2.994219653179191, details={'was_impossible': True, 'reason': 'User and/or item is unknown.'}),\n",
       " Prediction(uid=2051, iid=2, r_ui=2.0, est=2.994219653179191, details={'was_impossible': True, 'reason': 'User and/or item is unknown.'}),\n",
       " Prediction(uid=4134, iid=5, r_ui=2.0, est=3.056338028169014, details={'actual_k': 0, 'was_impossible': False}),\n",
       " Prediction(uid=4344, iid=5, r_ui=4.0, est=2.994219653179191, details={'was_impossible': True, 'reason': 'User and/or item is unknown.'}),\n",
       " Prediction(uid=2859, iid=3, r_ui=2.0, est=3.125, details={'actual_k': 0, 'was_impossible': False}),\n",
       " Prediction(uid=3884, iid=4, r_ui=5.0, est=2.994219653179191, details={'was_impossible': True, 'reason': 'User and/or item is unknown.'}),\n",
       " Prediction(uid=4568, iid=0, r_ui=3.0, est=2.994219653179191, details={'was_impossible': True, 'reason': 'User and/or item is unknown.'}),\n",
       " Prediction(uid=2747, iid=4, r_ui=2.0, est=1.2779296563729758, details={'actual_k': 1, 'was_impossible': False}),\n",
       " Prediction(uid=2779, iid=5, r_ui=4.0, est=2.994219653179191, details={'was_impossible': True, 'reason': 'User and/or item is unknown.'}),\n",
       " Prediction(uid=542, iid=2, r_ui=5.0, est=1, details={'actual_k': 1, 'was_impossible': False}),\n",
       " Prediction(uid=4938, iid=0, r_ui=3.0, est=4.722070343627024, details={'actual_k': 1, 'was_impossible': False}),\n",
       " Prediction(uid=41, iid=2, r_ui=1.0, est=2.994219653179191, details={'was_impossible': True, 'reason': 'User and/or item is unknown.'}),\n",
       " Prediction(uid=3111, iid=5, r_ui=3.0, est=2.994219653179191, details={'was_impossible': True, 'reason': 'User and/or item is unknown.'}),\n",
       " Prediction(uid=3564, iid=5, r_ui=5.0, est=2.994219653179191, details={'was_impossible': True, 'reason': 'User and/or item is unknown.'}),\n",
       " Prediction(uid=4204, iid=4, r_ui=1.0, est=2.994219653179191, details={'was_impossible': True, 'reason': 'User and/or item is unknown.'}),\n",
       " Prediction(uid=815, iid=3, r_ui=5.0, est=1, details={'actual_k': 1, 'was_impossible': False}),\n",
       " Prediction(uid=1690, iid=1, r_ui=5.0, est=2.994219653179191, details={'was_impossible': True, 'reason': 'User and/or item is unknown.'}),\n",
       " Prediction(uid=452, iid=0, r_ui=1.0, est=2.994219653179191, details={'was_impossible': True, 'reason': 'User and/or item is unknown.'}),\n",
       " Prediction(uid=963, iid=2, r_ui=1.0, est=2.994219653179191, details={'was_impossible': True, 'reason': 'User and/or item is unknown.'}),\n",
       " Prediction(uid=4332, iid=5, r_ui=3.0, est=2.994219653179191, details={'was_impossible': True, 'reason': 'User and/or item is unknown.'}),\n",
       " Prediction(uid=1580, iid=5, r_ui=3.0, est=2.994219653179191, details={'was_impossible': True, 'reason': 'User and/or item is unknown.'}),\n",
       " Prediction(uid=4671, iid=0, r_ui=2.0, est=2.994219653179191, details={'was_impossible': True, 'reason': 'User and/or item is unknown.'}),\n",
       " Prediction(uid=2158, iid=1, r_ui=5.0, est=2.994219653179191, details={'was_impossible': True, 'reason': 'User and/or item is unknown.'}),\n",
       " Prediction(uid=3124, iid=5, r_ui=1.0, est=2.994219653179191, details={'was_impossible': True, 'reason': 'User and/or item is unknown.'}),\n",
       " Prediction(uid=537, iid=4, r_ui=5.0, est=2.994219653179191, details={'was_impossible': True, 'reason': 'User and/or item is unknown.'}),\n",
       " Prediction(uid=2215, iid=1, r_ui=4.0, est=2.994219653179191, details={'was_impossible': True, 'reason': 'User and/or item is unknown.'}),\n",
       " Prediction(uid=1976, iid=4, r_ui=4.0, est=3.088560885608856, details={'actual_k': 0, 'was_impossible': False}),\n",
       " Prediction(uid=586, iid=2, r_ui=5.0, est=2.994219653179191, details={'was_impossible': True, 'reason': 'User and/or item is unknown.'}),\n",
       " Prediction(uid=885, iid=2, r_ui=5.0, est=2.994219653179191, details={'was_impossible': True, 'reason': 'User and/or item is unknown.'}),\n",
       " Prediction(uid=3081, iid=4, r_ui=2.0, est=2.994219653179191, details={'was_impossible': True, 'reason': 'User and/or item is unknown.'}),\n",
       " Prediction(uid=1133, iid=3, r_ui=5.0, est=2.994219653179191, details={'was_impossible': True, 'reason': 'User and/or item is unknown.'}),\n",
       " Prediction(uid=1579, iid=1, r_ui=5.0, est=2.994219653179191, details={'was_impossible': True, 'reason': 'User and/or item is unknown.'}),\n",
       " Prediction(uid=2451, iid=0, r_ui=1.0, est=2.994219653179191, details={'was_impossible': True, 'reason': 'User and/or item is unknown.'}),\n",
       " Prediction(uid=1111, iid=1, r_ui=1.0, est=2.994219653179191, details={'was_impossible': True, 'reason': 'User and/or item is unknown.'}),\n",
       " Prediction(uid=1501, iid=2, r_ui=5.0, est=2.994219653179191, details={'was_impossible': True, 'reason': 'User and/or item is unknown.'}),\n",
       " Prediction(uid=88, iid=2, r_ui=1.0, est=2.994219653179191, details={'was_impossible': True, 'reason': 'User and/or item is unknown.'}),\n",
       " Prediction(uid=4294, iid=5, r_ui=1.0, est=3.056338028169014, details={'actual_k': 0, 'was_impossible': False}),\n",
       " Prediction(uid=3976, iid=2, r_ui=4.0, est=2.994219653179191, details={'was_impossible': True, 'reason': 'User and/or item is unknown.'}),\n",
       " Prediction(uid=2159, iid=1, r_ui=4.0, est=2.994219653179191, details={'was_impossible': True, 'reason': 'User and/or item is unknown.'}),\n",
       " Prediction(uid=4920, iid=4, r_ui=3.0, est=2.994219653179191, details={'was_impossible': True, 'reason': 'User and/or item is unknown.'}),\n",
       " Prediction(uid=1906, iid=1, r_ui=5.0, est=2.994219653179191, details={'was_impossible': True, 'reason': 'User and/or item is unknown.'}),\n",
       " Prediction(uid=2624, iid=3, r_ui=3.0, est=2.994219653179191, details={'was_impossible': True, 'reason': 'User and/or item is unknown.'}),\n",
       " Prediction(uid=1210, iid=5, r_ui=2.0, est=2.994219653179191, details={'was_impossible': True, 'reason': 'User and/or item is unknown.'}),\n",
       " Prediction(uid=460, iid=2, r_ui=1.0, est=2.994219653179191, details={'was_impossible': True, 'reason': 'User and/or item is unknown.'}),\n",
       " Prediction(uid=4903, iid=3, r_ui=4.0, est=2.994219653179191, details={'was_impossible': True, 'reason': 'User and/or item is unknown.'}),\n",
       " Prediction(uid=2396, iid=4, r_ui=2.0, est=2.994219653179191, details={'was_impossible': True, 'reason': 'User and/or item is unknown.'}),\n",
       " Prediction(uid=1564, iid=2, r_ui=1.0, est=2.994219653179191, details={'was_impossible': True, 'reason': 'User and/or item is unknown.'}),\n",
       " Prediction(uid=357, iid=1, r_ui=5.0, est=2.994219653179191, details={'was_impossible': True, 'reason': 'User and/or item is unknown.'}),\n",
       " Prediction(uid=1573, iid=5, r_ui=5.0, est=2.994219653179191, details={'was_impossible': True, 'reason': 'User and/or item is unknown.'}),\n",
       " Prediction(uid=154, iid=5, r_ui=5.0, est=2.994219653179191, details={'was_impossible': True, 'reason': 'User and/or item is unknown.'}),\n",
       " Prediction(uid=4191, iid=4, r_ui=3.0, est=3.088560885608856, details={'actual_k': 0, 'was_impossible': False}),\n",
       " Prediction(uid=4850, iid=1, r_ui=3.0, est=2.994219653179191, details={'was_impossible': True, 'reason': 'User and/or item is unknown.'}),\n",
       " Prediction(uid=2702, iid=2, r_ui=5.0, est=2.994219653179191, details={'was_impossible': True, 'reason': 'User and/or item is unknown.'}),\n",
       " Prediction(uid=1890, iid=1, r_ui=3.0, est=3.026058631921824, details={'actual_k': 0, 'was_impossible': False}),\n",
       " Prediction(uid=1875, iid=5, r_ui=2.0, est=2.994219653179191, details={'was_impossible': True, 'reason': 'User and/or item is unknown.'}),\n",
       " Prediction(uid=4592, iid=5, r_ui=4.0, est=2.994219653179191, details={'was_impossible': True, 'reason': 'User and/or item is unknown.'}),\n",
       " Prediction(uid=4808, iid=2, r_ui=3.0, est=2.994219653179191, details={'was_impossible': True, 'reason': 'User and/or item is unknown.'}),\n",
       " Prediction(uid=4406, iid=4, r_ui=4.0, est=2.994219653179191, details={'was_impossible': True, 'reason': 'User and/or item is unknown.'}),\n",
       " Prediction(uid=1630, iid=2, r_ui=2.0, est=2.8552973002815656, details={'actual_k': 2, 'was_impossible': False}),\n",
       " Prediction(uid=3838, iid=2, r_ui=1.0, est=2.994219653179191, details={'was_impossible': True, 'reason': 'User and/or item is unknown.'}),\n",
       " Prediction(uid=3832, iid=1, r_ui=4.0, est=2.994219653179191, details={'was_impossible': True, 'reason': 'User and/or item is unknown.'}),\n",
       " Prediction(uid=1340, iid=1, r_ui=5.0, est=2.994219653179191, details={'was_impossible': True, 'reason': 'User and/or item is unknown.'}),\n",
       " Prediction(uid=2197, iid=4, r_ui=2.0, est=3.088560885608856, details={'actual_k': 0, 'was_impossible': False}),\n",
       " Prediction(uid=944, iid=0, r_ui=3.0, est=2.994219653179191, details={'was_impossible': True, 'reason': 'User and/or item is unknown.'}),\n",
       " Prediction(uid=2678, iid=3, r_ui=3.0, est=2.994219653179191, details={'was_impossible': True, 'reason': 'User and/or item is unknown.'}),\n",
       " Prediction(uid=3644, iid=3, r_ui=4.0, est=2.994219653179191, details={'was_impossible': True, 'reason': 'User and/or item is unknown.'}),\n",
       " Prediction(uid=1417, iid=1, r_ui=1.0, est=2.994219653179191, details={'was_impossible': True, 'reason': 'User and/or item is unknown.'}),\n",
       " Prediction(uid=3727, iid=3, r_ui=5.0, est=2.994219653179191, details={'was_impossible': True, 'reason': 'User and/or item is unknown.'}),\n",
       " Prediction(uid=2868, iid=5, r_ui=4.0, est=2.994219653179191, details={'was_impossible': True, 'reason': 'User and/or item is unknown.'}),\n",
       " Prediction(uid=3302, iid=5, r_ui=3.0, est=1.2457067989331336, details={'actual_k': 1, 'was_impossible': False}),\n",
       " Prediction(uid=1983, iid=3, r_ui=3.0, est=2.994219653179191, details={'was_impossible': True, 'reason': 'User and/or item is unknown.'}),\n",
       " Prediction(uid=2290, iid=3, r_ui=3.0, est=2.994219653179191, details={'was_impossible': True, 'reason': 'User and/or item is unknown.'}),\n",
       " Prediction(uid=4724, iid=3, r_ui=2.0, est=2.2436440677966103, details={'actual_k': 1, 'was_impossible': False}),\n",
       " Prediction(uid=3555, iid=5, r_ui=4.0, est=2.994219653179191, details={'was_impossible': True, 'reason': 'User and/or item is unknown.'}),\n",
       " Prediction(uid=2584, iid=1, r_ui=5.0, est=2.994219653179191, details={'was_impossible': True, 'reason': 'User and/or item is unknown.'}),\n",
       " Prediction(uid=1544, iid=2, r_ui=5.0, est=2.994219653179191, details={'was_impossible': True, 'reason': 'User and/or item is unknown.'}),\n",
       " Prediction(uid=1483, iid=3, r_ui=4.0, est=2.994219653179191, details={'was_impossible': True, 'reason': 'User and/or item is unknown.'}),\n",
       " Prediction(uid=4179, iid=1, r_ui=2.0, est=2.0, details={'actual_k': 1, 'was_impossible': False}),\n",
       " Prediction(uid=306, iid=5, r_ui=5.0, est=2.994219653179191, details={'was_impossible': True, 'reason': 'User and/or item is unknown.'}),\n",
       " Prediction(uid=567, iid=3, r_ui=4.0, est=2.994219653179191, details={'was_impossible': True, 'reason': 'User and/or item is unknown.'}),\n",
       " Prediction(uid=994, iid=5, r_ui=4.0, est=2.994219653179191, details={'was_impossible': True, 'reason': 'User and/or item is unknown.'}),\n",
       " Prediction(uid=849, iid=4, r_ui=1.0, est=2.994219653179191, details={'was_impossible': True, 'reason': 'User and/or item is unknown.'}),\n",
       " Prediction(uid=4906, iid=5, r_ui=3.0, est=2.994219653179191, details={'was_impossible': True, 'reason': 'User and/or item is unknown.'}),\n",
       " Prediction(uid=2804, iid=5, r_ui=2.0, est=4.0, details={'actual_k': 1, 'was_impossible': False}),\n",
       " Prediction(uid=197, iid=4, r_ui=1.0, est=2.994219653179191, details={'was_impossible': True, 'reason': 'User and/or item is unknown.'}),\n",
       " Prediction(uid=3425, iid=2, r_ui=5.0, est=1.0707247029675093, details={'actual_k': 1, 'was_impossible': False}),\n",
       " Prediction(uid=4534, iid=0, r_ui=3.0, est=2.994219653179191, details={'was_impossible': True, 'reason': 'User and/or item is unknown.'}),\n",
       " Prediction(uid=2547, iid=4, r_ui=1.0, est=2.994219653179191, details={'was_impossible': True, 'reason': 'User and/or item is unknown.'}),\n",
       " Prediction(uid=4123, iid=2, r_ui=3.0, est=2.994219653179191, details={'was_impossible': True, 'reason': 'User and/or item is unknown.'}),\n",
       " Prediction(uid=4307, iid=3, r_ui=2.0, est=2.994219653179191, details={'was_impossible': True, 'reason': 'User and/or item is unknown.'}),\n",
       " Prediction(uid=954, iid=5, r_ui=5.0, est=2.994219653179191, details={'was_impossible': True, 'reason': 'User and/or item is unknown.'}),\n",
       " Prediction(uid=2798, iid=1, r_ui=3.0, est=2.994219653179191, details={'was_impossible': True, 'reason': 'User and/or item is unknown.'}),\n",
       " Prediction(uid=4668, iid=3, r_ui=3.0, est=2.994219653179191, details={'was_impossible': True, 'reason': 'User and/or item is unknown.'}),\n",
       " Prediction(uid=1410, iid=5, r_ui=3.0, est=3.056338028169014, details={'actual_k': 0, 'was_impossible': False}),\n",
       " Prediction(uid=3633, iid=1, r_ui=3.0, est=3.026058631921824, details={'actual_k': 0, 'was_impossible': False}),\n",
       " Prediction(uid=1537, iid=2, r_ui=3.0, est=2.994219653179191, details={'was_impossible': True, 'reason': 'User and/or item is unknown.'}),\n",
       " Prediction(uid=811, iid=5, r_ui=3.0, est=2.994219653179191, details={'was_impossible': True, 'reason': 'User and/or item is unknown.'}),\n",
       " Prediction(uid=4893, iid=3, r_ui=5.0, est=2.994219653179191, details={'was_impossible': True, 'reason': 'User and/or item is unknown.'}),\n",
       " Prediction(uid=3787, iid=4, r_ui=3.0, est=2.994219653179191, details={'was_impossible': True, 'reason': 'User and/or item is unknown.'}),\n",
       " Prediction(uid=1658, iid=1, r_ui=3.0, est=3.026058631921824, details={'actual_k': 0, 'was_impossible': False}),\n",
       " Prediction(uid=3465, iid=0, r_ui=1.0, est=2.994219653179191, details={'was_impossible': True, 'reason': 'User and/or item is unknown.'}),\n",
       " Prediction(uid=2650, iid=5, r_ui=4.0, est=2.994219653179191, details={'was_impossible': True, 'reason': 'User and/or item is unknown.'}),\n",
       " Prediction(uid=43, iid=0, r_ui=1.0, est=2.994219653179191, details={'was_impossible': True, 'reason': 'User and/or item is unknown.'}),\n",
       " Prediction(uid=2340, iid=3, r_ui=5.0, est=2.994219653179191, details={'was_impossible': True, 'reason': 'User and/or item is unknown.'}),\n",
       " Prediction(uid=3592, iid=2, r_ui=3.0, est=2.8813559322033897, details={'actual_k': 0, 'was_impossible': False}),\n",
       " Prediction(uid=4659, iid=5, r_ui=2.0, est=1, details={'actual_k': 1, 'was_impossible': False}),\n",
       " Prediction(uid=2686, iid=2, r_ui=5.0, est=2.994219653179191, details={'was_impossible': True, 'reason': 'User and/or item is unknown.'}),\n",
       " Prediction(uid=777, iid=3, r_ui=2.0, est=2.994219653179191, details={'was_impossible': True, 'reason': 'User and/or item is unknown.'}),\n",
       " Prediction(uid=2710, iid=4, r_ui=2.0, est=3.088560885608856, details={'actual_k': 0, 'was_impossible': False}),\n",
       " Prediction(uid=21, iid=0, r_ui=5.0, est=4.0, details={'actual_k': 1, 'was_impossible': False}),\n",
       " Prediction(uid=1868, iid=1, r_ui=4.0, est=2.994219653179191, details={'was_impossible': True, 'reason': 'User and/or item is unknown.'}),\n",
       " Prediction(uid=4500, iid=1, r_ui=5.0, est=2.994219653179191, details={'was_impossible': True, 'reason': 'User and/or item is unknown.'}),\n",
       " Prediction(uid=1725, iid=5, r_ui=5.0, est=2.994219653179191, details={'was_impossible': True, 'reason': 'User and/or item is unknown.'}),\n",
       " Prediction(uid=1169, iid=5, r_ui=3.0, est=2.994219653179191, details={'was_impossible': True, 'reason': 'User and/or item is unknown.'}),\n",
       " Prediction(uid=4283, iid=1, r_ui=3.0, est=2.994219653179191, details={'was_impossible': True, 'reason': 'User and/or item is unknown.'}),\n",
       " Prediction(uid=3859, iid=2, r_ui=5.0, est=2.994219653179191, details={'was_impossible': True, 'reason': 'User and/or item is unknown.'}),\n",
       " Prediction(uid=25, iid=4, r_ui=3.0, est=2.994219653179191, details={'was_impossible': True, 'reason': 'User and/or item is unknown.'}),\n",
       " Prediction(uid=4541, iid=5, r_ui=3.0, est=2.994219653179191, details={'was_impossible': True, 'reason': 'User and/or item is unknown.'}),\n",
       " Prediction(uid=2321, iid=2, r_ui=4.0, est=2.994219653179191, details={'was_impossible': True, 'reason': 'User and/or item is unknown.'}),\n",
       " Prediction(uid=2083, iid=0, r_ui=1.0, est=2.994219653179191, details={'was_impossible': True, 'reason': 'User and/or item is unknown.'}),\n",
       " Prediction(uid=3594, iid=1, r_ui=3.0, est=2.994219653179191, details={'was_impossible': True, 'reason': 'User and/or item is unknown.'}),\n",
       " Prediction(uid=4615, iid=0, r_ui=4.0, est=2.994219653179191, details={'was_impossible': True, 'reason': 'User and/or item is unknown.'}),\n",
       " Prediction(uid=4018, iid=1, r_ui=3.0, est=2.994219653179191, details={'was_impossible': True, 'reason': 'User and/or item is unknown.'}),\n",
       " Prediction(uid=1933, iid=3, r_ui=3.0, est=2.994219653179191, details={'was_impossible': True, 'reason': 'User and/or item is unknown.'}),\n",
       " Prediction(uid=2563, iid=3, r_ui=5.0, est=2.994219653179191, details={'was_impossible': True, 'reason': 'User and/or item is unknown.'}),\n",
       " Prediction(uid=2610, iid=1, r_ui=2.0, est=2.994219653179191, details={'was_impossible': True, 'reason': 'User and/or item is unknown.'}),\n",
       " Prediction(uid=4443, iid=0, r_ui=5.0, est=2.994219653179191, details={'was_impossible': True, 'reason': 'User and/or item is unknown.'}),\n",
       " Prediction(uid=4890, iid=4, r_ui=5.0, est=2.994219653179191, details={'was_impossible': True, 'reason': 'User and/or item is unknown.'}),\n",
       " Prediction(uid=3997, iid=0, r_ui=5.0, est=2.9292752970324907, details={'actual_k': 1, 'was_impossible': False}),\n",
       " Prediction(uid=679, iid=0, r_ui=3.0, est=1.9292752970324907, details={'actual_k': 1, 'was_impossible': False}),\n",
       " Prediction(uid=221, iid=5, r_ui=4.0, est=3.931338028169014, details={'actual_k': 1, 'was_impossible': False}),\n",
       " Prediction(uid=4568, iid=3, r_ui=2.0, est=2.994219653179191, details={'was_impossible': True, 'reason': 'User and/or item is unknown.'}),\n",
       " Prediction(uid=3472, iid=3, r_ui=2.0, est=2.994219653179191, details={'was_impossible': True, 'reason': 'User and/or item is unknown.'}),\n",
       " Prediction(uid=899, iid=5, r_ui=4.0, est=2.994219653179191, details={'was_impossible': True, 'reason': 'User and/or item is unknown.'}),\n",
       " Prediction(uid=4354, iid=5, r_ui=3.0, est=2.994219653179191, details={'was_impossible': True, 'reason': 'User and/or item is unknown.'}),\n",
       " Prediction(uid=2708, iid=1, r_ui=1.0, est=3.026058631921824, details={'actual_k': 0, 'was_impossible': False}),\n",
       " Prediction(uid=2786, iid=3, r_ui=2.0, est=2.994219653179191, details={'was_impossible': True, 'reason': 'User and/or item is unknown.'}),\n",
       " Prediction(uid=1723, iid=0, r_ui=5.0, est=2.994219653179191, details={'was_impossible': True, 'reason': 'User and/or item is unknown.'}),\n",
       " Prediction(uid=3704, iid=0, r_ui=2.0, est=2.994219653179191, details={'was_impossible': True, 'reason': 'User and/or item is unknown.'}),\n",
       " Prediction(uid=1149, iid=1, r_ui=5.0, est=3.026058631921824, details={'actual_k': 0, 'was_impossible': False}),\n",
       " Prediction(uid=2059, iid=5, r_ui=2.0, est=2.994219653179191, details={'was_impossible': True, 'reason': 'User and/or item is unknown.'}),\n",
       " Prediction(uid=164, iid=5, r_ui=5.0, est=2.994219653179191, details={'was_impossible': True, 'reason': 'User and/or item is unknown.'}),\n",
       " Prediction(uid=4446, iid=0, r_ui=3.0, est=2.994219653179191, details={'was_impossible': True, 'reason': 'User and/or item is unknown.'}),\n",
       " Prediction(uid=23, iid=4, r_ui=5.0, est=2.994219653179191, details={'was_impossible': True, 'reason': 'User and/or item is unknown.'}),\n",
       " Prediction(uid=1315, iid=4, r_ui=5.0, est=2.994219653179191, details={'was_impossible': True, 'reason': 'User and/or item is unknown.'}),\n",
       " Prediction(uid=1955, iid=2, r_ui=2.0, est=4.756355932203389, details={'actual_k': 1, 'was_impossible': False}),\n",
       " Prediction(uid=168, iid=1, r_ui=2.0, est=2.994219653179191, details={'was_impossible': True, 'reason': 'User and/or item is unknown.'}),\n",
       " Prediction(uid=1813, iid=3, r_ui=4.0, est=2.994219653179191, details={'was_impossible': True, 'reason': 'User and/or item is unknown.'}),\n",
       " Prediction(uid=626, iid=4, r_ui=1.0, est=2.994219653179191, details={'was_impossible': True, 'reason': 'User and/or item is unknown.'}),\n",
       " Prediction(uid=4349, iid=0, r_ui=1.0, est=2.994219653179191, details={'was_impossible': True, 'reason': 'User and/or item is unknown.'}),\n",
       " Prediction(uid=3024, iid=5, r_ui=3.0, est=3.056338028169014, details={'actual_k': 0, 'was_impossible': False}),\n",
       " Prediction(uid=4430, iid=3, r_ui=5.0, est=1, details={'actual_k': 1, 'was_impossible': False}),\n",
       " Prediction(uid=691, iid=5, r_ui=2.0, est=2.994219653179191, details={'was_impossible': True, 'reason': 'User and/or item is unknown.'}),\n",
       " Prediction(uid=4813, iid=2, r_ui=5.0, est=2.994219653179191, details={'was_impossible': True, 'reason': 'User and/or item is unknown.'}),\n",
       " Prediction(uid=403, iid=0, r_ui=2.0, est=2.994219653179191, details={'was_impossible': True, 'reason': 'User and/or item is unknown.'}),\n",
       " Prediction(uid=810, iid=0, r_ui=3.0, est=2.994219653179191, details={'was_impossible': True, 'reason': 'User and/or item is unknown.'}),\n",
       " Prediction(uid=1451, iid=1, r_ui=2.0, est=2.994219653179191, details={'was_impossible': True, 'reason': 'User and/or item is unknown.'}),\n",
       " Prediction(uid=3682, iid=0, r_ui=1.0, est=2.994219653179191, details={'was_impossible': True, 'reason': 'User and/or item is unknown.'}),\n",
       " Prediction(uid=4630, iid=2, r_ui=1.0, est=2.0707247029675093, details={'actual_k': 1, 'was_impossible': False}),\n",
       " Prediction(uid=574, iid=4, r_ui=2.0, est=2.994219653179191, details={'was_impossible': True, 'reason': 'User and/or item is unknown.'}),\n",
       " Prediction(uid=4891, iid=1, r_ui=4.0, est=2.994219653179191, details={'was_impossible': True, 'reason': 'User and/or item is unknown.'}),\n",
       " Prediction(uid=2363, iid=3, r_ui=2.0, est=2.994219653179191, details={'was_impossible': True, 'reason': 'User and/or item is unknown.'}),\n",
       " Prediction(uid=787, iid=1, r_ui=2.0, est=2.994219653179191, details={'was_impossible': True, 'reason': 'User and/or item is unknown.'}),\n",
       " Prediction(uid=3278, iid=0, r_ui=4.0, est=2.994219653179191, details={'was_impossible': True, 'reason': 'User and/or item is unknown.'}),\n",
       " Prediction(uid=4063, iid=2, r_ui=2.0, est=2.994219653179191, details={'was_impossible': True, 'reason': 'User and/or item is unknown.'}),\n",
       " Prediction(uid=1456, iid=0, r_ui=1.0, est=2.994219653179191, details={'was_impossible': True, 'reason': 'User and/or item is unknown.'}),\n",
       " Prediction(uid=51, iid=0, r_ui=3.0, est=2.994219653179191, details={'was_impossible': True, 'reason': 'User and/or item is unknown.'}),\n",
       " Prediction(uid=4795, iid=3, r_ui=1.0, est=3.125, details={'actual_k': 0, 'was_impossible': False}),\n",
       " Prediction(uid=1007, iid=0, r_ui=1.0, est=2.7542932010668664, details={'actual_k': 1, 'was_impossible': False}),\n",
       " Prediction(uid=2986, iid=1, r_ui=3.0, est=2.994219653179191, details={'was_impossible': True, 'reason': 'User and/or item is unknown.'}),\n",
       " Prediction(uid=2061, iid=3, r_ui=5.0, est=2.994219653179191, details={'was_impossible': True, 'reason': 'User and/or item is unknown.'}),\n",
       " Prediction(uid=2732, iid=5, r_ui=5.0, est=3.056338028169014, details={'actual_k': 0, 'was_impossible': False}),\n",
       " Prediction(uid=4997, iid=4, r_ui=4.0, est=4.277929656372976, details={'actual_k': 1, 'was_impossible': False}),\n",
       " Prediction(uid=3880, iid=1, r_ui=3.0, est=5, details={'actual_k': 1, 'was_impossible': False}),\n",
       " Prediction(uid=901, iid=5, r_ui=2.0, est=2.994219653179191, details={'was_impossible': True, 'reason': 'User and/or item is unknown.'}),\n",
       " Prediction(uid=1714, iid=3, r_ui=4.0, est=2.994219653179191, details={'was_impossible': True, 'reason': 'User and/or item is unknown.'}),\n",
       " Prediction(uid=4745, iid=4, r_ui=4.0, est=2.994219653179191, details={'was_impossible': True, 'reason': 'User and/or item is unknown.'}),\n",
       " Prediction(uid=4377, iid=0, r_ui=4.0, est=1, details={'actual_k': 1, 'was_impossible': False}),\n",
       " Prediction(uid=617, iid=0, r_ui=2.0, est=2.994219653179191, details={'was_impossible': True, 'reason': 'User and/or item is unknown.'}),\n",
       " Prediction(uid=3869, iid=5, r_ui=4.0, est=3.2457067989331336, details={'actual_k': 1, 'was_impossible': False}),\n",
       " Prediction(uid=1125, iid=4, r_ui=4.0, est=2.994219653179191, details={'was_impossible': True, 'reason': 'User and/or item is unknown.'}),\n",
       " Prediction(uid=4006, iid=1, r_ui=3.0, est=3.026058631921824, details={'actual_k': 0, 'was_impossible': False}),\n",
       " Prediction(uid=1448, iid=5, r_ui=3.0, est=3.056338028169014, details={'actual_k': 0, 'was_impossible': False}),\n",
       " Prediction(uid=570, iid=0, r_ui=1.0, est=2.994219653179191, details={'was_impossible': True, 'reason': 'User and/or item is unknown.'}),\n",
       " Prediction(uid=2659, iid=4, r_ui=4.0, est=2.994219653179191, details={'was_impossible': True, 'reason': 'User and/or item is unknown.'}),\n",
       " Prediction(uid=1160, iid=1, r_ui=3.0, est=2.994219653179191, details={'was_impossible': True, 'reason': 'User and/or item is unknown.'}),\n",
       " Prediction(uid=243, iid=2, r_ui=5.0, est=2.994219653179191, details={'was_impossible': True, 'reason': 'User and/or item is unknown.'}),\n",
       " Prediction(uid=4536, iid=0, r_ui=2.0, est=2.994219653179191, details={'was_impossible': True, 'reason': 'User and/or item is unknown.'}),\n",
       " Prediction(uid=3511, iid=5, r_ui=1.0, est=2.994219653179191, details={'was_impossible': True, 'reason': 'User and/or item is unknown.'}),\n",
       " Prediction(uid=1700, iid=0, r_ui=2.0, est=2.994219653179191, details={'was_impossible': True, 'reason': 'User and/or item is unknown.'}),\n",
       " Prediction(uid=1974, iid=0, r_ui=3.0, est=2.722070343627024, details={'actual_k': 1, 'was_impossible': False}),\n",
       " Prediction(uid=4785, iid=2, r_ui=4.0, est=2.994219653179191, details={'was_impossible': True, 'reason': 'User and/or item is unknown.'}),\n",
       " Prediction(uid=3877, iid=4, r_ui=4.0, est=2.994219653179191, details={'was_impossible': True, 'reason': 'User and/or item is unknown.'}),\n",
       " Prediction(uid=1167, iid=5, r_ui=1.0, est=2.994219653179191, details={'was_impossible': True, 'reason': 'User and/or item is unknown.'}),\n",
       " Prediction(uid=1317, iid=5, r_ui=5.0, est=2.994219653179191, details={'was_impossible': True, 'reason': 'User and/or item is unknown.'}),\n",
       " Prediction(uid=1994, iid=3, r_ui=3.0, est=2.994219653179191, details={'was_impossible': True, 'reason': 'User and/or item is unknown.'}),\n",
       " Prediction(uid=3310, iid=4, r_ui=2.0, est=2.994219653179191, details={'was_impossible': True, 'reason': 'User and/or item is unknown.'}),\n",
       " Prediction(uid=2017, iid=4, r_ui=3.0, est=2.994219653179191, details={'was_impossible': True, 'reason': 'User and/or item is unknown.'}),\n",
       " Prediction(uid=2696, iid=5, r_ui=5.0, est=2.994219653179191, details={'was_impossible': True, 'reason': 'User and/or item is unknown.'}),\n",
       " Prediction(uid=3828, iid=5, r_ui=1.0, est=2.994219653179191, details={'was_impossible': True, 'reason': 'User and/or item is unknown.'}),\n",
       " Prediction(uid=822, iid=5, r_ui=3.0, est=2.994219653179191, details={'was_impossible': True, 'reason': 'User and/or item is unknown.'}),\n",
       " Prediction(uid=3620, iid=5, r_ui=2.0, est=2.994219653179191, details={'was_impossible': True, 'reason': 'User and/or item is unknown.'}),\n",
       " Prediction(uid=1298, iid=1, r_ui=1.0, est=2.994219653179191, details={'was_impossible': True, 'reason': 'User and/or item is unknown.'}),\n",
       " Prediction(uid=2850, iid=3, r_ui=1.0, est=2.994219653179191, details={'was_impossible': True, 'reason': 'User and/or item is unknown.'}),\n",
       " Prediction(uid=1098, iid=3, r_ui=1.0, est=5, details={'actual_k': 1, 'was_impossible': False}),\n",
       " Prediction(uid=2083, iid=1, r_ui=1.0, est=2.994219653179191, details={'was_impossible': True, 'reason': 'User and/or item is unknown.'}),\n",
       " Prediction(uid=1452, iid=0, r_ui=4.0, est=2.994219653179191, details={'was_impossible': True, 'reason': 'User and/or item is unknown.'}),\n",
       " Prediction(uid=819, iid=2, r_ui=2.0, est=2.994219653179191, details={'was_impossible': True, 'reason': 'User and/or item is unknown.'}),\n",
       " Prediction(uid=728, iid=1, r_ui=1.0, est=3.1447026997184344, details={'actual_k': 1, 'was_impossible': False}),\n",
       " Prediction(uid=1668, iid=5, r_ui=1.0, est=2.994219653179191, details={'was_impossible': True, 'reason': 'User and/or item is unknown.'}),\n",
       " Prediction(uid=2435, iid=2, r_ui=3.0, est=2.994219653179191, details={'was_impossible': True, 'reason': 'User and/or item is unknown.'}),\n",
       " Prediction(uid=4628, iid=3, r_ui=1.0, est=2.994219653179191, details={'was_impossible': True, 'reason': 'User and/or item is unknown.'}),\n",
       " Prediction(uid=3583, iid=5, r_ui=3.0, est=2.994219653179191, details={'was_impossible': True, 'reason': 'User and/or item is unknown.'}),\n",
       " Prediction(uid=401, iid=1, r_ui=2.0, est=3.026058631921824, details={'actual_k': 0, 'was_impossible': False}),\n",
       " Prediction(uid=1994, iid=4, r_ui=1.0, est=2.994219653179191, details={'was_impossible': True, 'reason': 'User and/or item is unknown.'}),\n",
       " Prediction(uid=951, iid=1, r_ui=3.0, est=2.994219653179191, details={'was_impossible': True, 'reason': 'User and/or item is unknown.'}),\n",
       " Prediction(uid=1492, iid=3, r_ui=5.0, est=1, details={'actual_k': 1, 'was_impossible': False}),\n",
       " Prediction(uid=3759, iid=5, r_ui=3.0, est=2.994219653179191, details={'was_impossible': True, 'reason': 'User and/or item is unknown.'}),\n",
       " Prediction(uid=3884, iid=2, r_ui=1.0, est=2.994219653179191, details={'was_impossible': True, 'reason': 'User and/or item is unknown.'}),\n",
       " Prediction(uid=1310, iid=0, r_ui=1.0, est=2.994219653179191, details={'was_impossible': True, 'reason': 'User and/or item is unknown.'}),\n",
       " Prediction(uid=4646, iid=3, r_ui=5.0, est=2.994219653179191, details={'was_impossible': True, 'reason': 'User and/or item is unknown.'}),\n",
       " Prediction(uid=4589, iid=3, r_ui=1.0, est=3.068661971830986, details={'actual_k': 1, 'was_impossible': False}),\n",
       " Prediction(uid=2963, iid=4, r_ui=4.0, est=1, details={'actual_k': 1, 'was_impossible': False}),\n",
       " Prediction(uid=4437, iid=2, r_ui=2.0, est=2.994219653179191, details={'was_impossible': True, 'reason': 'User and/or item is unknown.'}),\n",
       " Prediction(uid=3527, iid=2, r_ui=3.0, est=5, details={'actual_k': 1, 'was_impossible': False}),\n",
       " Prediction(uid=4106, iid=0, r_ui=5.0, est=2.994219653179191, details={'was_impossible': True, 'reason': 'User and/or item is unknown.'}),\n",
       " Prediction(uid=3901, iid=4, r_ui=5.0, est=3.088560885608856, details={'actual_k': 0, 'was_impossible': False}),\n",
       " Prediction(uid=4929, iid=3, r_ui=2.0, est=2.994219653179191, details={'was_impossible': True, 'reason': 'User and/or item is unknown.'}),\n",
       " Prediction(uid=3221, iid=5, r_ui=5.0, est=2.994219653179191, details={'was_impossible': True, 'reason': 'User and/or item is unknown.'}),\n",
       " Prediction(uid=4669, iid=5, r_ui=4.0, est=2.994219653179191, details={'was_impossible': True, 'reason': 'User and/or item is unknown.'}),\n",
       " Prediction(uid=452, iid=2, r_ui=3.0, est=2.994219653179191, details={'was_impossible': True, 'reason': 'User and/or item is unknown.'}),\n",
       " Prediction(uid=3151, iid=5, r_ui=5.0, est=2.994219653179191, details={'was_impossible': True, 'reason': 'User and/or item is unknown.'}),\n",
       " Prediction(uid=4231, iid=1, r_ui=3.0, est=2.994219653179191, details={'was_impossible': True, 'reason': 'User and/or item is unknown.'}),\n",
       " Prediction(uid=4573, iid=5, r_ui=2.0, est=4.039430532940051, details={'actual_k': 2, 'was_impossible': False}),\n",
       " Prediction(uid=414, iid=0, r_ui=3.0, est=2.994219653179191, details={'was_impossible': True, 'reason': 'User and/or item is unknown.'}),\n",
       " Prediction(uid=4559, iid=0, r_ui=1.0, est=2.994219653179191, details={'was_impossible': True, 'reason': 'User and/or item is unknown.'}),\n",
       " Prediction(uid=4377, iid=0, r_ui=3.0, est=1, details={'actual_k': 1, 'was_impossible': False}),\n",
       " Prediction(uid=3223, iid=3, r_ui=3.0, est=1.2436440677966103, details={'actual_k': 1, 'was_impossible': False}),\n",
       " Prediction(uid=3632, iid=5, r_ui=2.0, est=3.056338028169014, details={'actual_k': 0, 'was_impossible': False}),\n",
       " Prediction(uid=2390, iid=5, r_ui=4.0, est=3.056338028169014, details={'actual_k': 0, 'was_impossible': False}),\n",
       " Prediction(uid=1794, iid=3, r_ui=2.0, est=1, details={'actual_k': 1, 'was_impossible': False}),\n",
       " Prediction(uid=2700, iid=3, r_ui=4.0, est=2.994219653179191, details={'was_impossible': True, 'reason': 'User and/or item is unknown.'}),\n",
       " Prediction(uid=3592, iid=5, r_ui=1.0, est=3.056338028169014, details={'actual_k': 0, 'was_impossible': False}),\n",
       " Prediction(uid=3270, iid=2, r_ui=3.0, est=2.994219653179191, details={'was_impossible': True, 'reason': 'User and/or item is unknown.'}),\n",
       " Prediction(uid=2666, iid=3, r_ui=5.0, est=1.2436440677966103, details={'actual_k': 1, 'was_impossible': False}),\n",
       " Prediction(uid=2306, iid=3, r_ui=4.0, est=3.004990790290244, details={'actual_k': 2, 'was_impossible': False}),\n",
       " Prediction(uid=4297, iid=0, r_ui=1.0, est=2.994219653179191, details={'was_impossible': True, 'reason': 'User and/or item is unknown.'}),\n",
       " Prediction(uid=2324, iid=3, r_ui=3.0, est=2.994219653179191, details={'was_impossible': True, 'reason': 'User and/or item is unknown.'}),\n",
       " Prediction(uid=2042, iid=0, r_ui=5.0, est=2.8106312292358804, details={'actual_k': 0, 'was_impossible': False}),\n",
       " Prediction(uid=1876, iid=2, r_ui=5.0, est=2.8813559322033897, details={'actual_k': 0, 'was_impossible': False}),\n",
       " Prediction(uid=2487, iid=2, r_ui=1.0, est=2.994219653179191, details={'was_impossible': True, 'reason': 'User and/or item is unknown.'}),\n",
       " Prediction(uid=618, iid=5, r_ui=4.0, est=2.994219653179191, details={'was_impossible': True, 'reason': 'User and/or item is unknown.'}),\n",
       " Prediction(uid=2145, iid=5, r_ui=5.0, est=2.994219653179191, details={'was_impossible': True, 'reason': 'User and/or item is unknown.'}),\n",
       " Prediction(uid=3122, iid=2, r_ui=2.0, est=2.8813559322033897, details={'actual_k': 0, 'was_impossible': False}),\n",
       " Prediction(uid=4873, iid=4, r_ui=4.0, est=2.994219653179191, details={'was_impossible': True, 'reason': 'User and/or item is unknown.'}),\n",
       " Prediction(uid=710, iid=0, r_ui=2.0, est=2.994219653179191, details={'was_impossible': True, 'reason': 'User and/or item is unknown.'}),\n",
       " Prediction(uid=3611, iid=4, r_ui=1.0, est=1.2779296563729758, details={'actual_k': 1, 'was_impossible': False}),\n",
       " Prediction(uid=3783, iid=4, r_ui=3.0, est=2.994219653179191, details={'was_impossible': True, 'reason': 'User and/or item is unknown.'}),\n",
       " Prediction(uid=1375, iid=4, r_ui=4.0, est=5, details={'actual_k': 1, 'was_impossible': False}),\n",
       " Prediction(uid=248, iid=4, r_ui=1.0, est=2.994219653179191, details={'was_impossible': True, 'reason': 'User and/or item is unknown.'}),\n",
       " Prediction(uid=3137, iid=3, r_ui=1.0, est=2.994219653179191, details={'was_impossible': True, 'reason': 'User and/or item is unknown.'}),\n",
       " Prediction(uid=1298, iid=0, r_ui=2.0, est=2.994219653179191, details={'was_impossible': True, 'reason': 'User and/or item is unknown.'}),\n",
       " Prediction(uid=2570, iid=0, r_ui=2.0, est=2.994219653179191, details={'was_impossible': True, 'reason': 'User and/or item is unknown.'}),\n",
       " Prediction(uid=2713, iid=1, r_ui=4.0, est=2.994219653179191, details={'was_impossible': True, 'reason': 'User and/or item is unknown.'}),\n",
       " Prediction(uid=1001, iid=1, r_ui=3.0, est=2.994219653179191, details={'was_impossible': True, 'reason': 'User and/or item is unknown.'}),\n",
       " Prediction(uid=2142, iid=5, r_ui=3.0, est=2.994219653179191, details={'was_impossible': True, 'reason': 'User and/or item is unknown.'}),\n",
       " Prediction(uid=94, iid=1, r_ui=4.0, est=2.994219653179191, details={'was_impossible': True, 'reason': 'User and/or item is unknown.'}),\n",
       " Prediction(uid=2554, iid=1, r_ui=3.0, est=2.994219653179191, details={'was_impossible': True, 'reason': 'User and/or item is unknown.'}),\n",
       " Prediction(uid=1852, iid=4, r_ui=5.0, est=2.994219653179191, details={'was_impossible': True, 'reason': 'User and/or item is unknown.'}),\n",
       " Prediction(uid=2057, iid=1, r_ui=2.0, est=2.994219653179191, details={'was_impossible': True, 'reason': 'User and/or item is unknown.'}),\n",
       " Prediction(uid=3999, iid=4, r_ui=5.0, est=4.0, details={'actual_k': 1, 'was_impossible': False}),\n",
       " Prediction(uid=2876, iid=4, r_ui=2.0, est=3.088560885608856, details={'actual_k': 0, 'was_impossible': False}),\n",
       " Prediction(uid=58, iid=5, r_ui=2.0, est=2.994219653179191, details={'was_impossible': True, 'reason': 'User and/or item is unknown.'}),\n",
       " Prediction(uid=1792, iid=4, r_ui=3.0, est=2.994219653179191, details={'was_impossible': True, 'reason': 'User and/or item is unknown.'}),\n",
       " Prediction(uid=580, iid=5, r_ui=1.0, est=2.994219653179191, details={'was_impossible': True, 'reason': 'User and/or item is unknown.'}),\n",
       " Prediction(uid=2196, iid=5, r_ui=5.0, est=2.994219653179191, details={'was_impossible': True, 'reason': 'User and/or item is unknown.'}),\n",
       " Prediction(uid=4576, iid=5, r_ui=1.0, est=2.994219653179191, details={'was_impossible': True, 'reason': 'User and/or item is unknown.'}),\n",
       " Prediction(uid=4240, iid=2, r_ui=2.0, est=2.994219653179191, details={'was_impossible': True, 'reason': 'User and/or item is unknown.'}),\n",
       " Prediction(uid=2874, iid=0, r_ui=1.0, est=2.994219653179191, details={'was_impossible': True, 'reason': 'User and/or item is unknown.'}),\n",
       " Prediction(uid=1825, iid=3, r_ui=4.0, est=2.994219653179191, details={'was_impossible': True, 'reason': 'User and/or item is unknown.'}),\n",
       " Prediction(uid=4102, iid=0, r_ui=3.0, est=2.994219653179191, details={'was_impossible': True, 'reason': 'User and/or item is unknown.'}),\n",
       " Prediction(uid=4816, iid=3, r_ui=3.0, est=3.125, details={'actual_k': 0, 'was_impossible': False}),\n",
       " Prediction(uid=3832, iid=3, r_ui=4.0, est=2.994219653179191, details={'was_impossible': True, 'reason': 'User and/or item is unknown.'}),\n",
       " Prediction(uid=1232, iid=0, r_ui=5.0, est=2.994219653179191, details={'was_impossible': True, 'reason': 'User and/or item is unknown.'}),\n",
       " Prediction(uid=3704, iid=1, r_ui=1.0, est=2.994219653179191, details={'was_impossible': True, 'reason': 'User and/or item is unknown.'}),\n",
       " Prediction(uid=944, iid=4, r_ui=1.0, est=2.994219653179191, details={'was_impossible': True, 'reason': 'User and/or item is unknown.'}),\n",
       " Prediction(uid=4879, iid=4, r_ui=2.0, est=3.088560885608856, details={'actual_k': 0, 'was_impossible': False}),\n",
       " Prediction(uid=3861, iid=1, r_ui=1.0, est=2.994219653179191, details={'was_impossible': True, 'reason': 'User and/or item is unknown.'}),\n",
       " Prediction(uid=621, iid=3, r_ui=5.0, est=2.994219653179191, details={'was_impossible': True, 'reason': 'User and/or item is unknown.'}),\n",
       " Prediction(uid=4937, iid=5, r_ui=3.0, est=3.056338028169014, details={'actual_k': 0, 'was_impossible': False}),\n",
       " Prediction(uid=3617, iid=3, r_ui=5.0, est=3.125, details={'actual_k': 0, 'was_impossible': False}),\n",
       " Prediction(uid=135, iid=0, r_ui=4.0, est=2.994219653179191, details={'was_impossible': True, 'reason': 'User and/or item is unknown.'}),\n",
       " Prediction(uid=2141, iid=4, r_ui=3.0, est=2.994219653179191, details={'was_impossible': True, 'reason': 'User and/or item is unknown.'}),\n",
       " Prediction(uid=4260, iid=2, r_ui=4.0, est=2.994219653179191, details={'was_impossible': True, 'reason': 'User and/or item is unknown.'}),\n",
       " Prediction(uid=2124, iid=5, r_ui=4.0, est=2.994219653179191, details={'was_impossible': True, 'reason': 'User and/or item is unknown.'}),\n",
       " Prediction(uid=1540, iid=4, r_ui=3.0, est=3.088560885608856, details={'actual_k': 0, 'was_impossible': False}),\n",
       " Prediction(uid=319, iid=2, r_ui=4.0, est=3.0, details={'actual_k': 1, 'was_impossible': False}),\n",
       " Prediction(uid=1541, iid=5, r_ui=5.0, est=3.2457067989331336, details={'actual_k': 1, 'was_impossible': False}),\n",
       " Prediction(uid=27, iid=5, r_ui=4.0, est=3.2457067989331336, details={'actual_k': 1, 'was_impossible': False}),\n",
       " Prediction(uid=1863, iid=2, r_ui=3.0, est=2.994219653179191, details={'was_impossible': True, 'reason': 'User and/or item is unknown.'}),\n",
       " Prediction(uid=3701, iid=2, r_ui=3.0, est=5, details={'actual_k': 1, 'was_impossible': False}),\n",
       " Prediction(uid=366, iid=5, r_ui=1.0, est=2.994219653179191, details={'was_impossible': True, 'reason': 'User and/or item is unknown.'}),\n",
       " Prediction(uid=1807, iid=5, r_ui=3.0, est=3.056338028169014, details={'actual_k': 0, 'was_impossible': False}),\n",
       " Prediction(uid=3479, iid=4, r_ui=1.0, est=2.994219653179191, details={'was_impossible': True, 'reason': 'User and/or item is unknown.'}),\n",
       " Prediction(uid=3802, iid=5, r_ui=2.0, est=3.056338028169014, details={'actual_k': 0, 'was_impossible': False}),\n",
       " Prediction(uid=3432, iid=4, r_ui=4.0, est=2.994219653179191, details={'was_impossible': True, 'reason': 'User and/or item is unknown.'}),\n",
       " Prediction(uid=3207, iid=0, r_ui=2.0, est=2.994219653179191, details={'was_impossible': True, 'reason': 'User and/or item is unknown.'}),\n",
       " Prediction(uid=4389, iid=1, r_ui=4.0, est=2.994219653179191, details={'was_impossible': True, 'reason': 'User and/or item is unknown.'}),\n",
       " Prediction(uid=2509, iid=0, r_ui=4.0, est=2.8106312292358804, details={'actual_k': 0, 'was_impossible': False}),\n",
       " Prediction(uid=2865, iid=5, r_ui=3.0, est=2.994219653179191, details={'was_impossible': True, 'reason': 'User and/or item is unknown.'}),\n",
       " Prediction(uid=2689, iid=3, r_ui=2.0, est=2.994219653179191, details={'was_impossible': True, 'reason': 'User and/or item is unknown.'}),\n",
       " Prediction(uid=1586, iid=2, r_ui=2.0, est=2.994219653179191, details={'was_impossible': True, 'reason': 'User and/or item is unknown.'}),\n",
       " Prediction(uid=3844, iid=0, r_ui=4.0, est=2.994219653179191, details={'was_impossible': True, 'reason': 'User and/or item is unknown.'}),\n",
       " Prediction(uid=3322, iid=4, r_ui=3.0, est=2.277929656372976, details={'actual_k': 1, 'was_impossible': False}),\n",
       " Prediction(uid=4693, iid=3, r_ui=3.0, est=3.068661971830986, details={'actual_k': 1, 'was_impossible': False}),\n",
       " Prediction(uid=4071, iid=1, r_ui=2.0, est=2.994219653179191, details={'was_impossible': True, 'reason': 'User and/or item is unknown.'}),\n",
       " Prediction(uid=508, iid=5, r_ui=4.0, est=4.0, details={'actual_k': 1, 'was_impossible': False}),\n",
       " Prediction(uid=3261, iid=4, r_ui=1.0, est=2.994219653179191, details={'was_impossible': True, 'reason': 'User and/or item is unknown.'}),\n",
       " Prediction(uid=654, iid=4, r_ui=1.0, est=1, details={'actual_k': 1, 'was_impossible': False}),\n",
       " Prediction(uid=1705, iid=5, r_ui=3.0, est=2.994219653179191, details={'was_impossible': True, 'reason': 'User and/or item is unknown.'}),\n",
       " Prediction(uid=2464, iid=3, r_ui=1.0, est=3.125, details={'actual_k': 0, 'was_impossible': False}),\n",
       " Prediction(uid=1940, iid=4, r_ui=3.0, est=2.994219653179191, details={'was_impossible': True, 'reason': 'User and/or item is unknown.'}),\n",
       " Prediction(uid=3392, iid=1, r_ui=1.0, est=3.026058631921824, details={'actual_k': 0, 'was_impossible': False}),\n",
       " Prediction(uid=125, iid=4, r_ui=1.0, est=3.088560885608856, details={'actual_k': 0, 'was_impossible': False}),\n",
       " Prediction(uid=456, iid=3, r_ui=4.0, est=3.125, details={'actual_k': 0, 'was_impossible': False}),\n",
       " Prediction(uid=4726, iid=1, r_ui=2.0, est=2.994219653179191, details={'was_impossible': True, 'reason': 'User and/or item is unknown.'}),\n",
       " Prediction(uid=1704, iid=2, r_ui=3.0, est=3.7563559322033897, details={'actual_k': 1, 'was_impossible': False}),\n",
       " Prediction(uid=1486, iid=4, r_ui=3.0, est=3.088560885608856, details={'actual_k': 0, 'was_impossible': False}),\n",
       " Prediction(uid=2809, iid=1, r_ui=1.0, est=2.994219653179191, details={'was_impossible': True, 'reason': 'User and/or item is unknown.'}),\n",
       " Prediction(uid=313, iid=0, r_ui=5.0, est=2.994219653179191, details={'was_impossible': True, 'reason': 'User and/or item is unknown.'}),\n",
       " Prediction(uid=3104, iid=3, r_ui=4.0, est=1.068661971830986, details={'actual_k': 1, 'was_impossible': False}),\n",
       " Prediction(uid=1112, iid=3, r_ui=4.0, est=2.994219653179191, details={'was_impossible': True, 'reason': 'User and/or item is unknown.'}),\n",
       " Prediction(uid=2866, iid=3, r_ui=2.0, est=2.994219653179191, details={'was_impossible': True, 'reason': 'User and/or item is unknown.'}),\n",
       " Prediction(uid=4416, iid=3, r_ui=3.0, est=2.994219653179191, details={'was_impossible': True, 'reason': 'User and/or item is unknown.'}),\n",
       " Prediction(uid=3987, iid=0, r_ui=5.0, est=4.0, details={'actual_k': 1, 'was_impossible': False}),\n",
       " Prediction(uid=1915, iid=2, r_ui=1.0, est=2.994219653179191, details={'was_impossible': True, 'reason': 'User and/or item is unknown.'}),\n",
       " Prediction(uid=779, iid=1, r_ui=4.0, est=2.994219653179191, details={'was_impossible': True, 'reason': 'User and/or item is unknown.'}),\n",
       " Prediction(uid=4531, iid=2, r_ui=3.0, est=3.0, details={'actual_k': 1, 'was_impossible': False}),\n",
       " Prediction(uid=814, iid=4, r_ui=4.0, est=2.994219653179191, details={'was_impossible': True, 'reason': 'User and/or item is unknown.'}),\n",
       " Prediction(uid=3190, iid=3, r_ui=5.0, est=3.125, details={'actual_k': 0, 'was_impossible': False}),\n",
       " Prediction(uid=4110, iid=0, r_ui=3.0, est=4.754293201066867, details={'actual_k': 1, 'was_impossible': False}),\n",
       " Prediction(uid=3678, iid=2, r_ui=4.0, est=2.994219653179191, details={'was_impossible': True, 'reason': 'User and/or item is unknown.'}),\n",
       " Prediction(uid=4165, iid=2, r_ui=1.0, est=2.8813559322033897, details={'actual_k': 0, 'was_impossible': False}),\n",
       " Prediction(uid=836, iid=1, r_ui=4.0, est=4.144702699718435, details={'actual_k': 1, 'was_impossible': False}),\n",
       " Prediction(uid=1457, iid=0, r_ui=3.0, est=2.994219653179191, details={'was_impossible': True, 'reason': 'User and/or item is unknown.'}),\n",
       " Prediction(uid=3098, iid=1, r_ui=1.0, est=3.026058631921824, details={'actual_k': 0, 'was_impossible': False}),\n",
       " Prediction(uid=2620, iid=2, r_ui=4.0, est=2.994219653179191, details={'was_impossible': True, 'reason': 'User and/or item is unknown.'}),\n",
       " Prediction(uid=1967, iid=4, r_ui=5.0, est=2.994219653179191, details={'was_impossible': True, 'reason': 'User and/or item is unknown.'}),\n",
       " Prediction(uid=1393, iid=4, r_ui=5.0, est=3.088560885608856, details={'actual_k': 0, 'was_impossible': False}),\n",
       " Prediction(uid=2626, iid=0, r_ui=2.0, est=3.7542932010668664, details={'actual_k': 1, 'was_impossible': False}),\n",
       " Prediction(uid=3621, iid=5, r_ui=2.0, est=3.931338028169014, details={'actual_k': 1, 'was_impossible': False}),\n",
       " Prediction(uid=3729, iid=2, r_ui=1.0, est=1, details={'actual_k': 2, 'was_impossible': False}),\n",
       " Prediction(uid=2292, iid=4, r_ui=4.0, est=2.994219653179191, details={'was_impossible': True, 'reason': 'User and/or item is unknown.'}),\n",
       " Prediction(uid=3504, iid=2, r_ui=2.0, est=2.994219653179191, details={'was_impossible': True, 'reason': 'User and/or item is unknown.'}),\n",
       " Prediction(uid=3663, iid=4, r_ui=3.0, est=2.994219653179191, details={'was_impossible': True, 'reason': 'User and/or item is unknown.'}),\n",
       " Prediction(uid=2869, iid=3, r_ui=3.0, est=2.994219653179191, details={'was_impossible': True, 'reason': 'User and/or item is unknown.'}),\n",
       " Prediction(uid=4596, iid=5, r_ui=2.0, est=2.994219653179191, details={'was_impossible': True, 'reason': 'User and/or item is unknown.'}),\n",
       " Prediction(uid=2935, iid=5, r_ui=4.0, est=2.994219653179191, details={'was_impossible': True, 'reason': 'User and/or item is unknown.'}),\n",
       " Prediction(uid=3623, iid=3, r_ui=1.0, est=2.994219653179191, details={'was_impossible': True, 'reason': 'User and/or item is unknown.'}),\n",
       " Prediction(uid=2643, iid=0, r_ui=1.0, est=2.994219653179191, details={'was_impossible': True, 'reason': 'User and/or item is unknown.'}),\n",
       " Prediction(uid=139, iid=2, r_ui=4.0, est=2.994219653179191, details={'was_impossible': True, 'reason': 'User and/or item is unknown.'}),\n",
       " Prediction(uid=2482, iid=3, r_ui=2.0, est=3.125, details={'actual_k': 0, 'was_impossible': False}),\n",
       " Prediction(uid=2876, iid=3, r_ui=5.0, est=3.125, details={'actual_k': 0, 'was_impossible': False}),\n",
       " Prediction(uid=1949, iid=0, r_ui=4.0, est=2.994219653179191, details={'was_impossible': True, 'reason': 'User and/or item is unknown.'}),\n",
       " Prediction(uid=1521, iid=5, r_ui=1.0, est=2.931338028169014, details={'actual_k': 1, 'was_impossible': False}),\n",
       " Prediction(uid=3252, iid=3, r_ui=4.0, est=3.068661971830986, details={'actual_k': 1, 'was_impossible': False}),\n",
       " Prediction(uid=1714, iid=3, r_ui=3.0, est=2.994219653179191, details={'was_impossible': True, 'reason': 'User and/or item is unknown.'}),\n",
       " Prediction(uid=1470, iid=0, r_ui=2.0, est=2.994219653179191, details={'was_impossible': True, 'reason': 'User and/or item is unknown.'}),\n",
       " Prediction(uid=2628, iid=2, r_ui=2.0, est=2.0707247029675093, details={'actual_k': 1, 'was_impossible': False}),\n",
       " Prediction(uid=508, iid=5, r_ui=5.0, est=4.0, details={'actual_k': 1, 'was_impossible': False}),\n",
       " Prediction(uid=4736, iid=0, r_ui=5.0, est=2.994219653179191, details={'was_impossible': True, 'reason': 'User and/or item is unknown.'}),\n",
       " Prediction(uid=3039, iid=3, r_ui=5.0, est=2.994219653179191, details={'was_impossible': True, 'reason': 'User and/or item is unknown.'}),\n",
       " Prediction(uid=422, iid=2, r_ui=5.0, est=2.874714695621661, details={'actual_k': 2, 'was_impossible': False}),\n",
       " Prediction(uid=1513, iid=1, r_ui=5.0, est=2.994219653179191, details={'was_impossible': True, 'reason': 'User and/or item is unknown.'}),\n",
       " Prediction(uid=2636, iid=1, r_ui=3.0, est=2.994219653179191, details={'was_impossible': True, 'reason': 'User and/or item is unknown.'}),\n",
       " Prediction(uid=1098, iid=2, r_ui=4.0, est=5, details={'actual_k': 1, 'was_impossible': False}),\n",
       " Prediction(uid=3287, iid=2, r_ui=5.0, est=2.994219653179191, details={'was_impossible': True, 'reason': 'User and/or item is unknown.'}),\n",
       " Prediction(uid=1643, iid=0, r_ui=3.0, est=4.0, details={'actual_k': 1, 'was_impossible': False}),\n",
       " Prediction(uid=1958, iid=3, r_ui=1.0, est=2.994219653179191, details={'was_impossible': True, 'reason': 'User and/or item is unknown.'}),\n",
       " Prediction(uid=4418, iid=3, r_ui=1.0, est=2.994219653179191, details={'was_impossible': True, 'reason': 'User and/or item is unknown.'}),\n",
       " Prediction(uid=992, iid=1, r_ui=4.0, est=3.026058631921824, details={'actual_k': 0, 'was_impossible': False}),\n",
       " Prediction(uid=4324, iid=4, r_ui=4.0, est=2.994219653179191, details={'was_impossible': True, 'reason': 'User and/or item is unknown.'}),\n",
       " Prediction(uid=2530, iid=2, r_ui=5.0, est=2.994219653179191, details={'was_impossible': True, 'reason': 'User and/or item is unknown.'}),\n",
       " Prediction(uid=1593, iid=5, r_ui=5.0, est=3.056338028169014, details={'actual_k': 0, 'was_impossible': False}),\n",
       " Prediction(uid=2250, iid=3, r_ui=4.0, est=2.994219653179191, details={'was_impossible': True, 'reason': 'User and/or item is unknown.'}),\n",
       " Prediction(uid=4837, iid=3, r_ui=3.0, est=2.994219653179191, details={'was_impossible': True, 'reason': 'User and/or item is unknown.'}),\n",
       " Prediction(uid=4101, iid=4, r_ui=4.0, est=2.994219653179191, details={'was_impossible': True, 'reason': 'User and/or item is unknown.'}),\n",
       " Prediction(uid=1250, iid=3, r_ui=5.0, est=2.994219653179191, details={'was_impossible': True, 'reason': 'User and/or item is unknown.'}),\n",
       " Prediction(uid=4232, iid=0, r_ui=2.0, est=2.8106312292358804, details={'actual_k': 0, 'was_impossible': False}),\n",
       " ...]"
      ]
     },
     "execution_count": 45,
     "metadata": {},
     "output_type": "execute_result"
    }
   ],
   "source": [
    "test_pred\n",
    "# uid: The user ID for which the prediction was made.\n",
    "# iid: The item ID for which the prediction was made.\n",
    "# r_ui: The true rating provided by the user.\n",
    "# est: The estimated rating predicted by the model.\n",
    "# - For example, in the first prediction, the model estimated a rating of approximately 3.52 for item 1 by user 45,\n",
    "# while the true rating was 3.0. The model used 3 actual neighbors for this prediction, and it was not considered impossible."
   ]
  },
  {
   "cell_type": "code",
   "execution_count": 46,
   "metadata": {
    "colab": {
     "base_uri": "https://localhost:8080/"
    },
    "id": "mxzNqRk9_ytE",
    "outputId": "a943bfed-5d01-40e0-80b2-fe8d9b217803"
   },
   "outputs": [
    {
     "name": "stdout",
     "output_type": "stream",
     "text": [
      "Item-based Model : Test Set\n",
      "RMSE: 1.5088\n"
     ]
    },
    {
     "data": {
      "text/plain": [
       "1.5088078126127744"
      ]
     },
     "execution_count": 46,
     "metadata": {},
     "output_type": "execute_result"
    }
   ],
   "source": [
    "# get RMSE\n",
    "print(\"Item-based Model : Test Set\")\n",
    "accuracy.rmse(test_pred, verbose=True)"
   ]
  },
  {
   "cell_type": "markdown",
   "metadata": {
    "id": "6-Z79z-G_ytE"
   },
   "source": [
    "# Model-based collaborative filtering system\n"
   ]
  },
  {
   "cell_type": "code",
   "execution_count": 47,
   "metadata": {
    "colab": {
     "base_uri": "https://localhost:8080/",
     "height": 237
    },
    "id": "wBAEjDYI_ytE",
    "outputId": "7876785b-75d0-4d4c-a3f7-094078b2485f"
   },
   "outputs": [
    {
     "data": {
      "text/html": [
       "<div>\n",
       "<style scoped>\n",
       "    .dataframe tbody tr th:only-of-type {\n",
       "        vertical-align: middle;\n",
       "    }\n",
       "\n",
       "    .dataframe tbody tr th {\n",
       "        vertical-align: top;\n",
       "    }\n",
       "\n",
       "    .dataframe thead th {\n",
       "        text-align: right;\n",
       "    }\n",
       "</style>\n",
       "<table border=\"1\" class=\"dataframe\">\n",
       "  <thead>\n",
       "    <tr style=\"text-align: right;\">\n",
       "      <th>ProductId</th>\n",
       "      <th>0</th>\n",
       "      <th>1</th>\n",
       "      <th>2</th>\n",
       "      <th>3</th>\n",
       "      <th>4</th>\n",
       "      <th>5</th>\n",
       "    </tr>\n",
       "    <tr>\n",
       "      <th>UserId</th>\n",
       "      <th></th>\n",
       "      <th></th>\n",
       "      <th></th>\n",
       "      <th></th>\n",
       "      <th></th>\n",
       "      <th></th>\n",
       "    </tr>\n",
       "  </thead>\n",
       "  <tbody>\n",
       "    <tr>\n",
       "      <th>12</th>\n",
       "      <td>0.0</td>\n",
       "      <td>0.0</td>\n",
       "      <td>5.0</td>\n",
       "      <td>0.0</td>\n",
       "      <td>0.0</td>\n",
       "      <td>0.0</td>\n",
       "    </tr>\n",
       "    <tr>\n",
       "      <th>21</th>\n",
       "      <td>5.0</td>\n",
       "      <td>0.0</td>\n",
       "      <td>0.0</td>\n",
       "      <td>0.0</td>\n",
       "      <td>0.0</td>\n",
       "      <td>0.0</td>\n",
       "    </tr>\n",
       "    <tr>\n",
       "      <th>39</th>\n",
       "      <td>0.0</td>\n",
       "      <td>0.0</td>\n",
       "      <td>0.0</td>\n",
       "      <td>0.0</td>\n",
       "      <td>5.0</td>\n",
       "      <td>2.0</td>\n",
       "    </tr>\n",
       "    <tr>\n",
       "      <th>48</th>\n",
       "      <td>0.0</td>\n",
       "      <td>2.0</td>\n",
       "      <td>0.0</td>\n",
       "      <td>0.0</td>\n",
       "      <td>0.0</td>\n",
       "      <td>0.0</td>\n",
       "    </tr>\n",
       "    <tr>\n",
       "      <th>59</th>\n",
       "      <td>2.0</td>\n",
       "      <td>0.0</td>\n",
       "      <td>1.0</td>\n",
       "      <td>0.0</td>\n",
       "      <td>0.0</td>\n",
       "      <td>0.0</td>\n",
       "    </tr>\n",
       "  </tbody>\n",
       "</table>\n",
       "</div>"
      ],
      "text/plain": [
       "ProductId    0    1    2    3    4    5\n",
       "UserId                                 \n",
       "12         0.0  0.0  5.0  0.0  0.0  0.0\n",
       "21         5.0  0.0  0.0  0.0  0.0  0.0\n",
       "39         0.0  0.0  0.0  0.0  5.0  2.0\n",
       "48         0.0  2.0  0.0  0.0  0.0  0.0\n",
       "59         2.0  0.0  1.0  0.0  0.0  0.0"
      ]
     },
     "execution_count": 47,
     "metadata": {},
     "output_type": "execute_result"
    }
   ],
   "source": [
    "\n",
    "new_df1=new_df.head(500)\n",
    "ratings_matrix = new_df1.pivot_table(values='Rating', index='UserId', columns='ProductId', fill_value=0)\n",
    "ratings_matrix.head()"
   ]
  },
  {
   "cell_type": "code",
   "execution_count": 48,
   "metadata": {},
   "outputs": [
    {
     "data": {
      "text/plain": [
       "(472, 6)"
      ]
     },
     "execution_count": 48,
     "metadata": {},
     "output_type": "execute_result"
    }
   ],
   "source": [
    "ratings_matrix.shape"
   ]
  },
  {
   "cell_type": "markdown",
   "metadata": {
    "id": "C_NKx7Te_ytE"
   },
   "source": [
    "As expected, the utility matrix obtaned above is sparce, I have filled up the unknown values wth 0.\n",
    "\n"
   ]
  },
  {
   "cell_type": "code",
   "execution_count": 49,
   "metadata": {
    "colab": {
     "base_uri": "https://localhost:8080/"
    },
    "id": "VtMNV98y_ytE",
    "outputId": "8eb53262-88f6-4b18-c843-f28dde801b57"
   },
   "outputs": [
    {
     "data": {
      "text/plain": [
       "(472, 6)"
      ]
     },
     "execution_count": 49,
     "metadata": {},
     "output_type": "execute_result"
    }
   ],
   "source": [
    "ratings_matrix.shape\n"
   ]
  },
  {
   "cell_type": "markdown",
   "metadata": {
    "id": "fq2aKMFN_ytF"
   },
   "source": [
    "Transposing the matrix"
   ]
  },
  {
   "cell_type": "code",
   "execution_count": 50,
   "metadata": {
    "colab": {
     "base_uri": "https://localhost:8080/",
     "height": 257
    },
    "id": "w2VRNS7L_ytF",
    "outputId": "fbac7594-79a0-4e2f-8414-cd190e42b512"
   },
   "outputs": [
    {
     "data": {
      "text/html": [
       "<div>\n",
       "<style scoped>\n",
       "    .dataframe tbody tr th:only-of-type {\n",
       "        vertical-align: middle;\n",
       "    }\n",
       "\n",
       "    .dataframe tbody tr th {\n",
       "        vertical-align: top;\n",
       "    }\n",
       "\n",
       "    .dataframe thead th {\n",
       "        text-align: right;\n",
       "    }\n",
       "</style>\n",
       "<table border=\"1\" class=\"dataframe\">\n",
       "  <thead>\n",
       "    <tr style=\"text-align: right;\">\n",
       "      <th>UserId</th>\n",
       "      <th>12</th>\n",
       "      <th>21</th>\n",
       "      <th>39</th>\n",
       "      <th>48</th>\n",
       "      <th>59</th>\n",
       "      <th>71</th>\n",
       "      <th>76</th>\n",
       "      <th>89</th>\n",
       "      <th>95</th>\n",
       "      <th>96</th>\n",
       "      <th>...</th>\n",
       "      <th>4904</th>\n",
       "      <th>4924</th>\n",
       "      <th>4928</th>\n",
       "      <th>4934</th>\n",
       "      <th>4937</th>\n",
       "      <th>4964</th>\n",
       "      <th>4965</th>\n",
       "      <th>4978</th>\n",
       "      <th>4986</th>\n",
       "      <th>4999</th>\n",
       "    </tr>\n",
       "    <tr>\n",
       "      <th>ProductId</th>\n",
       "      <th></th>\n",
       "      <th></th>\n",
       "      <th></th>\n",
       "      <th></th>\n",
       "      <th></th>\n",
       "      <th></th>\n",
       "      <th></th>\n",
       "      <th></th>\n",
       "      <th></th>\n",
       "      <th></th>\n",
       "      <th></th>\n",
       "      <th></th>\n",
       "      <th></th>\n",
       "      <th></th>\n",
       "      <th></th>\n",
       "      <th></th>\n",
       "      <th></th>\n",
       "      <th></th>\n",
       "      <th></th>\n",
       "      <th></th>\n",
       "      <th></th>\n",
       "    </tr>\n",
       "  </thead>\n",
       "  <tbody>\n",
       "    <tr>\n",
       "      <th>0</th>\n",
       "      <td>0.0</td>\n",
       "      <td>5.0</td>\n",
       "      <td>0.0</td>\n",
       "      <td>0.0</td>\n",
       "      <td>2.0</td>\n",
       "      <td>0.0</td>\n",
       "      <td>4.0</td>\n",
       "      <td>0.0</td>\n",
       "      <td>0.0</td>\n",
       "      <td>0.0</td>\n",
       "      <td>...</td>\n",
       "      <td>0.0</td>\n",
       "      <td>0.0</td>\n",
       "      <td>0.0</td>\n",
       "      <td>0.0</td>\n",
       "      <td>0.0</td>\n",
       "      <td>0.0</td>\n",
       "      <td>0.0</td>\n",
       "      <td>0.0</td>\n",
       "      <td>0.0</td>\n",
       "      <td>0.0</td>\n",
       "    </tr>\n",
       "    <tr>\n",
       "      <th>1</th>\n",
       "      <td>0.0</td>\n",
       "      <td>0.0</td>\n",
       "      <td>0.0</td>\n",
       "      <td>2.0</td>\n",
       "      <td>0.0</td>\n",
       "      <td>0.0</td>\n",
       "      <td>0.0</td>\n",
       "      <td>0.0</td>\n",
       "      <td>0.0</td>\n",
       "      <td>0.0</td>\n",
       "      <td>...</td>\n",
       "      <td>0.0</td>\n",
       "      <td>0.0</td>\n",
       "      <td>0.0</td>\n",
       "      <td>0.0</td>\n",
       "      <td>0.0</td>\n",
       "      <td>0.0</td>\n",
       "      <td>5.0</td>\n",
       "      <td>0.0</td>\n",
       "      <td>0.0</td>\n",
       "      <td>0.0</td>\n",
       "    </tr>\n",
       "    <tr>\n",
       "      <th>2</th>\n",
       "      <td>5.0</td>\n",
       "      <td>0.0</td>\n",
       "      <td>0.0</td>\n",
       "      <td>0.0</td>\n",
       "      <td>1.0</td>\n",
       "      <td>0.0</td>\n",
       "      <td>0.0</td>\n",
       "      <td>5.0</td>\n",
       "      <td>0.0</td>\n",
       "      <td>0.0</td>\n",
       "      <td>...</td>\n",
       "      <td>0.0</td>\n",
       "      <td>0.0</td>\n",
       "      <td>0.0</td>\n",
       "      <td>0.0</td>\n",
       "      <td>0.0</td>\n",
       "      <td>0.0</td>\n",
       "      <td>0.0</td>\n",
       "      <td>0.0</td>\n",
       "      <td>0.0</td>\n",
       "      <td>5.0</td>\n",
       "    </tr>\n",
       "    <tr>\n",
       "      <th>3</th>\n",
       "      <td>0.0</td>\n",
       "      <td>0.0</td>\n",
       "      <td>0.0</td>\n",
       "      <td>0.0</td>\n",
       "      <td>0.0</td>\n",
       "      <td>0.0</td>\n",
       "      <td>0.0</td>\n",
       "      <td>0.0</td>\n",
       "      <td>3.0</td>\n",
       "      <td>3.0</td>\n",
       "      <td>...</td>\n",
       "      <td>1.0</td>\n",
       "      <td>0.0</td>\n",
       "      <td>0.0</td>\n",
       "      <td>0.0</td>\n",
       "      <td>0.0</td>\n",
       "      <td>0.0</td>\n",
       "      <td>0.0</td>\n",
       "      <td>0.0</td>\n",
       "      <td>0.0</td>\n",
       "      <td>0.0</td>\n",
       "    </tr>\n",
       "    <tr>\n",
       "      <th>4</th>\n",
       "      <td>0.0</td>\n",
       "      <td>0.0</td>\n",
       "      <td>5.0</td>\n",
       "      <td>0.0</td>\n",
       "      <td>0.0</td>\n",
       "      <td>5.0</td>\n",
       "      <td>0.0</td>\n",
       "      <td>0.0</td>\n",
       "      <td>0.0</td>\n",
       "      <td>0.0</td>\n",
       "      <td>...</td>\n",
       "      <td>0.0</td>\n",
       "      <td>1.0</td>\n",
       "      <td>2.0</td>\n",
       "      <td>0.0</td>\n",
       "      <td>0.0</td>\n",
       "      <td>0.0</td>\n",
       "      <td>0.0</td>\n",
       "      <td>0.0</td>\n",
       "      <td>4.0</td>\n",
       "      <td>0.0</td>\n",
       "    </tr>\n",
       "  </tbody>\n",
       "</table>\n",
       "<p>5 rows × 472 columns</p>\n",
       "</div>"
      ],
      "text/plain": [
       "UserId     12    21    39    48    59    71    76    89    95    96    ...  \\\n",
       "ProductId                                                              ...   \n",
       "0           0.0   5.0   0.0   0.0   2.0   0.0   4.0   0.0   0.0   0.0  ...   \n",
       "1           0.0   0.0   0.0   2.0   0.0   0.0   0.0   0.0   0.0   0.0  ...   \n",
       "2           5.0   0.0   0.0   0.0   1.0   0.0   0.0   5.0   0.0   0.0  ...   \n",
       "3           0.0   0.0   0.0   0.0   0.0   0.0   0.0   0.0   3.0   3.0  ...   \n",
       "4           0.0   0.0   5.0   0.0   0.0   5.0   0.0   0.0   0.0   0.0  ...   \n",
       "\n",
       "UserId     4904  4924  4928  4934  4937  4964  4965  4978  4986  4999  \n",
       "ProductId                                                              \n",
       "0           0.0   0.0   0.0   0.0   0.0   0.0   0.0   0.0   0.0   0.0  \n",
       "1           0.0   0.0   0.0   0.0   0.0   0.0   5.0   0.0   0.0   0.0  \n",
       "2           0.0   0.0   0.0   0.0   0.0   0.0   0.0   0.0   0.0   5.0  \n",
       "3           1.0   0.0   0.0   0.0   0.0   0.0   0.0   0.0   0.0   0.0  \n",
       "4           0.0   1.0   2.0   0.0   0.0   0.0   0.0   0.0   4.0   0.0  \n",
       "\n",
       "[5 rows x 472 columns]"
      ]
     },
     "execution_count": 50,
     "metadata": {},
     "output_type": "execute_result"
    }
   ],
   "source": [
    "X = ratings_matrix.T\n",
    "X.head()"
   ]
  },
  {
   "cell_type": "code",
   "execution_count": 51,
   "metadata": {
    "_cell_guid": "79c7e3d0-c299-4dcb-8224-4455121ee9b0",
    "_uuid": "d629ff2d2480ee46fbb7e2d37f6b5fab8052498a",
    "colab": {
     "base_uri": "https://localhost:8080/"
    },
    "id": "o0yVmmXt_ytF",
    "outputId": "1a8f4b84-db39-45d4-825e-91a4666bf768"
   },
   "outputs": [
    {
     "data": {
      "text/plain": [
       "(6, 472)"
      ]
     },
     "execution_count": 51,
     "metadata": {},
     "output_type": "execute_result"
    }
   ],
   "source": [
    "X.shape\n"
   ]
  },
  {
   "cell_type": "markdown",
   "metadata": {
    "id": "fRBXWilH_ytF"
   },
   "source": [
    "Unique products in subset of data\n"
   ]
  },
  {
   "cell_type": "code",
   "execution_count": 52,
   "metadata": {
    "id": "cgY4wGGz_ytF"
   },
   "outputs": [],
   "source": [
    "X1 = X\n"
   ]
  },
  {
   "cell_type": "code",
   "execution_count": 53,
   "metadata": {
    "colab": {
     "base_uri": "https://localhost:8080/"
    },
    "id": "SIKjCtuO_ytF",
    "outputId": "b9851c0e-e17f-4c4f-d2b0-5eeb81548d4d"
   },
   "outputs": [
    {
     "data": {
      "text/plain": [
       "(6, 3)"
      ]
     },
     "execution_count": 53,
     "metadata": {},
     "output_type": "execute_result"
    }
   ],
   "source": [
    "#Decomposing the Matrix( Singular Value Decomposition )\n",
    "# TruncatedSVD --> dimensionality reduction\n",
    "#  n --> features\n",
    "from sklearn.decomposition import TruncatedSVD\n",
    "SVD = TruncatedSVD(n_components=3)\n",
    "decomposed_matrix = SVD.fit_transform(X)\n",
    "decomposed_matrix.shape"
   ]
  },
  {
   "cell_type": "code",
   "execution_count": 54,
   "metadata": {
    "colab": {
     "base_uri": "https://localhost:8080/"
    },
    "id": "ma0KT_wV_ytF",
    "outputId": "b45cfb5b-8155-423f-f59d-52fe2229c6cb"
   },
   "outputs": [
    {
     "data": {
      "text/plain": [
       "(6, 6)"
      ]
     },
     "execution_count": 54,
     "metadata": {},
     "output_type": "execute_result"
    }
   ],
   "source": [
    "#Correlation Matrix\n",
    "# corrcoef --> calculates the correlation coefficients between variables in an array-like object.\n",
    "correlation_matrix = np.corrcoef(decomposed_matrix)\n",
    "correlation_matrix.shape"
   ]
  },
  {
   "cell_type": "code",
   "execution_count": 55,
   "metadata": {
    "colab": {
     "base_uri": "https://localhost:8080/"
    },
    "id": "i1hPPKza_ytF",
    "outputId": "83a6047a-86d4-4df6-d34e-52014d6e297e"
   },
   "outputs": [
    {
     "data": {
      "text/plain": [
       "2"
      ]
     },
     "execution_count": 55,
     "metadata": {},
     "output_type": "execute_result"
    }
   ],
   "source": [
    "X.index[2]\n"
   ]
  },
  {
   "cell_type": "markdown",
   "metadata": {
    "id": "dQMdHNoy_ytG"
   },
   "source": [
    "Index # of product ID purchased by customer\n",
    "\n"
   ]
  },
  {
   "cell_type": "code",
   "execution_count": 56,
   "metadata": {
    "colab": {
     "base_uri": "https://localhost:8080/"
    },
    "id": "_B5LbX1b_ytG",
    "outputId": "f2a21a42-0c12-4486-a555-f4caf78e0993"
   },
   "outputs": [
    {
     "data": {
      "text/plain": [
       "5"
      ]
     },
     "execution_count": 56,
     "metadata": {},
     "output_type": "execute_result"
    }
   ],
   "source": [
    "i = int(\"5\")\n",
    "\n",
    "product_names = list(X.index)\n",
    "product_ID = product_names.index(i)\n",
    "product_ID"
   ]
  },
  {
   "cell_type": "markdown",
   "metadata": {
    "id": "FP4vbDFC_ytG"
   },
   "source": [
    "Correlation for all items with the item purchased by this customer based on items rated by other customers people who bought the same product"
   ]
  },
  {
   "cell_type": "code",
   "execution_count": 57,
   "metadata": {
    "colab": {
     "base_uri": "https://localhost:8080/"
    },
    "id": "Fp2Rrvpe_ytG",
    "outputId": "c79acfb3-d952-4667-8852-655ae7a05b0a"
   },
   "outputs": [
    {
     "data": {
      "text/plain": [
       "(6,)"
      ]
     },
     "execution_count": 57,
     "metadata": {},
     "output_type": "execute_result"
    }
   ],
   "source": [
    "correlation_product_ID = correlation_matrix[product_ID]\n",
    "correlation_product_ID.shape"
   ]
  },
  {
   "cell_type": "markdown",
   "metadata": {
    "id": "PjHbDl_Z_ytG"
   },
   "source": [
    "\n",
    "\n",
    "```\n",
    "# This is formatted as code\n",
    "```\n",
    "\n",
    "Recommending top 3 highly correlated products in sequence\n",
    "\n"
   ]
  },
  {
   "cell_type": "code",
   "execution_count": 58,
   "metadata": {
    "colab": {
     "base_uri": "https://localhost:8080/"
    },
    "id": "zrYMRQgK_ytG",
    "outputId": "fcbada35-2650-4b83-df5e-65a608053bfd"
   },
   "outputs": [
    {
     "name": "stdout",
     "output_type": "stream",
     "text": [
      "['Tea_Milk', 'Nescaffee black']\n"
     ]
    }
   ],
   "source": [
    "# Assuming you have a DataFrame or dictionary containing product IDs and their corresponding names\n",
    "product_names = {\n",
    "    1: 'Tea',\n",
    "    2: 'Tea_Milk',\n",
    "    3: 'Nescaffee black',\n",
    "    4: 'Nescaffee',\n",
    "    5: 'Cacao',\n",
    "    6:'Cacao_Milk'\n",
    "    \n",
    "}\n",
    "\n",
    "\n",
    "# Recommend contains product IDs\n",
    "recommend_product_ids = list(X.index[correlation_product_ID > 0.30])\n",
    "\n",
    "# Removes the item already bought by the customer\n",
    "recommend_product_ids.remove(i)\n",
    "\n",
    "# Create a list to store recommended product names\n",
    "recommend_product_names = []\n",
    "\n",
    "# Iterate over the recommended product IDs\n",
    "for product_id in recommend_product_ids[:4]:\n",
    "    # Check if the product ID exists in the product_names dictionary\n",
    "    if product_id in product_names:\n",
    "        # If the product ID exists, append the corresponding product name to the list\n",
    "        recommend_product_names.append(product_names[product_id])\n",
    "    else:\n",
    "        # If the product ID doesn't exist, handle it gracefully (e.g., print a message or skip)\n",
    "        print(f\"Product ID {product_id} does not have a corresponding name.\")\n",
    "\n",
    "print(recommend_product_names)\n"
   ]
  },
  {
   "cell_type": "code",
   "execution_count": 59,
   "metadata": {},
   "outputs": [
    {
     "name": "stdout",
     "output_type": "stream",
     "text": [
      "RMSE: 0.3317\n"
     ]
    },
    {
     "data": {
      "text/plain": [
       "<Figure size 800x600 with 0 Axes>"
      ]
     },
     "execution_count": 59,
     "metadata": {},
     "output_type": "execute_result"
    },
    {
     "data": {
      "text/plain": [
       "<matplotlib.collections.PathCollection at 0x203cd8be710>"
      ]
     },
     "execution_count": 59,
     "metadata": {},
     "output_type": "execute_result"
    },
    {
     "data": {
      "text/plain": [
       "[<matplotlib.lines.Line2D at 0x203ce6fffd0>]"
      ]
     },
     "execution_count": 59,
     "metadata": {},
     "output_type": "execute_result"
    },
    {
     "data": {
      "text/plain": [
       "Text(0.5, 1.0, 'Actual vs. Predicted Ratings')"
      ]
     },
     "execution_count": 59,
     "metadata": {},
     "output_type": "execute_result"
    },
    {
     "data": {
      "text/plain": [
       "Text(0.5, 0, 'Actual Ratings')"
      ]
     },
     "execution_count": 59,
     "metadata": {},
     "output_type": "execute_result"
    },
    {
     "data": {
      "text/plain": [
       "Text(0, 0.5, 'Predicted Ratings')"
      ]
     },
     "execution_count": 59,
     "metadata": {},
     "output_type": "execute_result"
    },
    {
     "data": {
      "image/png": "[encoded data removed]",
      "text/plain": [
       "<Figure size 800x600 with 1 Axes>"
      ]
     },
     "metadata": {},
     "output_type": "display_data"
    }
   ],
   "source": [
    "import numpy as np\n",
    "import matplotlib.pyplot as plt\n",
    "from surprise import accuracy\n",
    "\n",
    "# Example data (replace with your actual test_pred)\n",
    "test_pred = [\n",
    "    ('uid1', 'iid1', 5.0, 4.5, {'was_impossible': False}),  # Example tuple structure\n",
    "    ('uid2', 'iid2', 3.0, 3.2, {'was_impossible': False}),\n",
    "    ('uid3', 'iid3', 2.0, 1.8, {'was_impossible': True}),\n",
    "    # Add more tuples here as per your actual data structure\n",
    "]\n",
    "\n",
    "# Extract actual ratings (r_ui) and predicted ratings (est)\n",
    "actual_ratings = [pred[2] for pred in test_pred]  # Index 2 corresponds to r_ui\n",
    "predicted_ratings = [pred[3] for pred in test_pred]  # Index 3 corresponds to est\n",
    "\n",
    "# Calculate RMSE (Root Mean Squared Error)\n",
    "rmse = accuracy.rmse(test_pred, verbose=True)\n",
    "\n",
    "# Plotting actual vs. predicted ratings\n",
    "plt.figure(figsize=(8, 6))\n",
    "plt.scatter(actual_ratings, predicted_ratings, color='blue', alpha=0.5)\n",
    "plt.plot([min(actual_ratings), max(actual_ratings)], [min(actual_ratings), max(actual_ratings)], color='red', linestyle='--')\n",
    "plt.title('Actual vs. Predicted Ratings')\n",
    "plt.xlabel('Actual Ratings')\n",
    "plt.ylabel('Predicted Ratings')\n",
    "plt.grid(True)\n",
    "plt.tight_layout()\n",
    "plt.show()"
   ]
  },
  {
   "cell_type": "code",
   "execution_count": 60,
   "metadata": {},
   "outputs": [
    {
     "data": {
      "text/plain": [
       "<Figure size 800x600 with 0 Axes>"
      ]
     },
     "execution_count": 60,
     "metadata": {},
     "output_type": "execute_result"
    },
    {
     "data": {
      "text/plain": [
       "<matplotlib.image.AxesImage at 0x203ce6fd910>"
      ]
     },
     "execution_count": 60,
     "metadata": {},
     "output_type": "execute_result"
    },
    {
     "data": {
      "text/plain": [
       "Text(0.5, 1.0, 'Confusion Matrix for Product Recommendations')"
      ]
     },
     "execution_count": 60,
     "metadata": {},
     "output_type": "execute_result"
    },
    {
     "data": {
      "text/plain": [
       "<matplotlib.colorbar.Colorbar at 0x203d08f95d0>"
      ]
     },
     "execution_count": 60,
     "metadata": {},
     "output_type": "execute_result"
    },
    {
     "data": {
      "text/plain": [
       "([<matplotlib.axis.XTick at 0x203d088a450>,\n",
       "  <matplotlib.axis.XTick at 0x203d0890fd0>,\n",
       "  <matplotlib.axis.XTick at 0x203d0888690>,\n",
       "  <matplotlib.axis.XTick at 0x203d08e5b10>,\n",
       "  <matplotlib.axis.XTick at 0x203d0912590>,\n",
       "  <matplotlib.axis.XTick at 0x203d090c710>],\n",
       " [Text(0, 0, 'Tea'),\n",
       "  Text(1, 0, 'Tea_Milk'),\n",
       "  Text(2, 0, 'Nescaffee black'),\n",
       "  Text(3, 0, 'Nescaffee'),\n",
       "  Text(4, 0, 'Cacao'),\n",
       "  Text(5, 0, 'Cacao_Milk')])"
      ]
     },
     "execution_count": 60,
     "metadata": {},
     "output_type": "execute_result"
    },
    {
     "data": {
      "text/plain": [
       "([<matplotlib.axis.YTick at 0x203d08a9d10>,\n",
       "  <matplotlib.axis.YTick at 0x203d0875990>,\n",
       "  <matplotlib.axis.YTick at 0x203d0890390>,\n",
       "  <matplotlib.axis.YTick at 0x203d090f0d0>,\n",
       "  <matplotlib.axis.YTick at 0x203d0921390>,\n",
       "  <matplotlib.axis.YTick at 0x203d0923790>],\n",
       " [Text(0, 0, 'Tea'),\n",
       "  Text(0, 1, 'Tea_Milk'),\n",
       "  Text(0, 2, 'Nescaffee black'),\n",
       "  Text(0, 3, 'Nescaffee'),\n",
       "  Text(0, 4, 'Cacao'),\n",
       "  Text(0, 5, 'Cacao_Milk')])"
      ]
     },
     "execution_count": 60,
     "metadata": {},
     "output_type": "execute_result"
    },
    {
     "data": {
      "text/plain": [
       "Text(0, 0.5, 'Actual Purchases')"
      ]
     },
     "execution_count": 60,
     "metadata": {},
     "output_type": "execute_result"
    },
    {
     "data": {
      "text/plain": [
       "Text(0.5, 0, 'Recommended Products')"
      ]
     },
     "execution_count": 60,
     "metadata": {},
     "output_type": "execute_result"
    },
    {
     "data": {
      "text/plain": [
       "Text(0, 0, '1')"
      ]
     },
     "execution_count": 60,
     "metadata": {},
     "output_type": "execute_result"
    },
    {
     "data": {
      "text/plain": [
       "Text(1, 0, '0')"
      ]
     },
     "execution_count": 60,
     "metadata": {},
     "output_type": "execute_result"
    },
    {
     "data": {
      "text/plain": [
       "Text(2, 0, '0')"
      ]
     },
     "execution_count": 60,
     "metadata": {},
     "output_type": "execute_result"
    },
    {
     "data": {
      "text/plain": [
       "Text(3, 0, '0')"
      ]
     },
     "execution_count": 60,
     "metadata": {},
     "output_type": "execute_result"
    },
    {
     "data": {
      "text/plain": [
       "Text(4, 0, '0')"
      ]
     },
     "execution_count": 60,
     "metadata": {},
     "output_type": "execute_result"
    },
    {
     "data": {
      "text/plain": [
       "Text(5, 0, '0')"
      ]
     },
     "execution_count": 60,
     "metadata": {},
     "output_type": "execute_result"
    },
    {
     "data": {
      "text/plain": [
       "Text(0, 1, '0')"
      ]
     },
     "execution_count": 60,
     "metadata": {},
     "output_type": "execute_result"
    },
    {
     "data": {
      "text/plain": [
       "Text(1, 1, '0')"
      ]
     },
     "execution_count": 60,
     "metadata": {},
     "output_type": "execute_result"
    },
    {
     "data": {
      "text/plain": [
       "Text(2, 1, '0')"
      ]
     },
     "execution_count": 60,
     "metadata": {},
     "output_type": "execute_result"
    },
    {
     "data": {
      "text/plain": [
       "Text(3, 1, '0')"
      ]
     },
     "execution_count": 60,
     "metadata": {},
     "output_type": "execute_result"
    },
    {
     "data": {
      "text/plain": [
       "Text(4, 1, '1')"
      ]
     },
     "execution_count": 60,
     "metadata": {},
     "output_type": "execute_result"
    },
    {
     "data": {
      "text/plain": [
       "Text(5, 1, '0')"
      ]
     },
     "execution_count": 60,
     "metadata": {},
     "output_type": "execute_result"
    },
    {
     "data": {
      "text/plain": [
       "Text(0, 2, '0')"
      ]
     },
     "execution_count": 60,
     "metadata": {},
     "output_type": "execute_result"
    },
    {
     "data": {
      "text/plain": [
       "Text(1, 2, '1')"
      ]
     },
     "execution_count": 60,
     "metadata": {},
     "output_type": "execute_result"
    },
    {
     "data": {
      "text/plain": [
       "Text(2, 2, '0')"
      ]
     },
     "execution_count": 60,
     "metadata": {},
     "output_type": "execute_result"
    },
    {
     "data": {
      "text/plain": [
       "Text(3, 2, '0')"
      ]
     },
     "execution_count": 60,
     "metadata": {},
     "output_type": "execute_result"
    },
    {
     "data": {
      "text/plain": [
       "Text(4, 2, '0')"
      ]
     },
     "execution_count": 60,
     "metadata": {},
     "output_type": "execute_result"
    },
    {
     "data": {
      "text/plain": [
       "Text(5, 2, '0')"
      ]
     },
     "execution_count": 60,
     "metadata": {},
     "output_type": "execute_result"
    },
    {
     "data": {
      "text/plain": [
       "Text(0, 3, '0')"
      ]
     },
     "execution_count": 60,
     "metadata": {},
     "output_type": "execute_result"
    },
    {
     "data": {
      "text/plain": [
       "Text(1, 3, '0')"
      ]
     },
     "execution_count": 60,
     "metadata": {},
     "output_type": "execute_result"
    },
    {
     "data": {
      "text/plain": [
       "Text(2, 3, '0')"
      ]
     },
     "execution_count": 60,
     "metadata": {},
     "output_type": "execute_result"
    },
    {
     "data": {
      "text/plain": [
       "Text(3, 3, '0')"
      ]
     },
     "execution_count": 60,
     "metadata": {},
     "output_type": "execute_result"
    },
    {
     "data": {
      "text/plain": [
       "Text(4, 3, '0')"
      ]
     },
     "execution_count": 60,
     "metadata": {},
     "output_type": "execute_result"
    },
    {
     "data": {
      "text/plain": [
       "Text(5, 3, '0')"
      ]
     },
     "execution_count": 60,
     "metadata": {},
     "output_type": "execute_result"
    },
    {
     "data": {
      "text/plain": [
       "Text(0, 4, '0')"
      ]
     },
     "execution_count": 60,
     "metadata": {},
     "output_type": "execute_result"
    },
    {
     "data": {
      "text/plain": [
       "Text(1, 4, '0')"
      ]
     },
     "execution_count": 60,
     "metadata": {},
     "output_type": "execute_result"
    },
    {
     "data": {
      "text/plain": [
       "Text(2, 4, '0')"
      ]
     },
     "execution_count": 60,
     "metadata": {},
     "output_type": "execute_result"
    },
    {
     "data": {
      "text/plain": [
       "Text(3, 4, '1')"
      ]
     },
     "execution_count": 60,
     "metadata": {},
     "output_type": "execute_result"
    },
    {
     "data": {
      "text/plain": [
       "Text(4, 4, '0')"
      ]
     },
     "execution_count": 60,
     "metadata": {},
     "output_type": "execute_result"
    },
    {
     "data": {
      "text/plain": [
       "Text(5, 4, '0')"
      ]
     },
     "execution_count": 60,
     "metadata": {},
     "output_type": "execute_result"
    },
    {
     "data": {
      "text/plain": [
       "Text(0, 5, '0')"
      ]
     },
     "execution_count": 60,
     "metadata": {},
     "output_type": "execute_result"
    },
    {
     "data": {
      "text/plain": [
       "Text(1, 5, '0')"
      ]
     },
     "execution_count": 60,
     "metadata": {},
     "output_type": "execute_result"
    },
    {
     "data": {
      "text/plain": [
       "Text(2, 5, '0')"
      ]
     },
     "execution_count": 60,
     "metadata": {},
     "output_type": "execute_result"
    },
    {
     "data": {
      "text/plain": [
       "Text(3, 5, '0')"
      ]
     },
     "execution_count": 60,
     "metadata": {},
     "output_type": "execute_result"
    },
    {
     "data": {
      "text/plain": [
       "Text(4, 5, '0')"
      ]
     },
     "execution_count": 60,
     "metadata": {},
     "output_type": "execute_result"
    },
    {
     "data": {
      "text/plain": [
       "Text(5, 5, '0')"
      ]
     },
     "execution_count": 60,
     "metadata": {},
     "output_type": "execute_result"
    },
    {
     "data": {
      "image/png": "[encoded data removed]",
      "text/plain": [
       "<Figure size 800x600 with 2 Axes>"
      ]
     },
     "metadata": {},
     "output_type": "display_data"
    }
   ],
   "source": [
    "import matplotlib.pyplot as plt\n",
    "import numpy as np\n",
    "\n",
    "# Example data (simulated for illustration)\n",
    "actual_purchases = [1, 3, 5, 2]  # Example: products actually purchased by customers\n",
    "recommended_products = [1, 2, 4, 5]  # Example: products recommended by your model\n",
    "\n",
    "# Initialize product names\n",
    "product_names = {\n",
    "    1: 'Tea',\n",
    "    2: 'Tea_Milk',\n",
    "    3: 'Nescaffee black',\n",
    "    4: 'Nescaffee',\n",
    "    5: 'Cacao',\n",
    "    6: 'Cacao_Milk'\n",
    "}\n",
    "\n",
    "# Number of products\n",
    "num_products = len(product_names)\n",
    "\n",
    "# Initialize confusion matrix\n",
    "confusion_matrix = np.zeros((num_products, num_products), dtype=int)\n",
    "\n",
    "# Populate confusion matrix\n",
    "for actual, recommended in zip(actual_purchases, recommended_products):\n",
    "    # Increment corresponding cell in confusion matrix\n",
    "    confusion_matrix[actual - 1, recommended - 1] += 1  # Adjust indices for zero-based indexing\n",
    "\n",
    "# Plotting the Confusion Matrix\n",
    "plt.figure(figsize=(8, 6))\n",
    "plt.imshow(confusion_matrix, interpolation='nearest', cmap=plt.cm.Blues)\n",
    "plt.title('Confusion Matrix for Product Recommendations')\n",
    "plt.colorbar()\n",
    "\n",
    "tick_marks = np.arange(num_products)\n",
    "plt.xticks(tick_marks, list(product_names.values()), rotation=45)\n",
    "plt.yticks(tick_marks, list(product_names.values()))\n",
    "\n",
    "plt.ylabel('Actual Purchases')\n",
    "plt.xlabel('Recommended Products')\n",
    "\n",
    "# Displaying the values in the Confusion Matrix\n",
    "for i in range(num_products):\n",
    "    for j in range(num_products):\n",
    "        plt.text(j, i, format(confusion_matrix[i, j], 'd'),\n",
    "                 horizontalalignment=\"center\",\n",
    "                 color=\"white\" if confusion_matrix[i, j] > confusion_matrix.max() / 2 else \"black\")\n",
    "\n",
    "plt.tight_layout()\n",
    "plt.show()"
   ]
  },
  {
   "cell_type": "markdown",
   "metadata": {
    "id": "QIt6pqCe_ytG"
   },
   "source": [
    "Here are the top 10 products to be displayed by the recommendation system to the above customer based on the purchase history of other customers in the website.\n"
   ]
  },
  {
   "cell_type": "code",
   "execution_count": 61,
   "metadata": {},
   "outputs": [
    {
     "name": "stdout",
     "output_type": "stream",
     "text": [
      "Requirement already satisfied: fastapi in c:\\users\\hp\\appdata\\local\\programs\\python\\python311\\lib\\site-packages (0.110.3)\n",
      "Requirement already satisfied: uvicorn in c:\\users\\hp\\appdata\\local\\programs\\python\\python311\\lib\\site-packages (0.29.0)\n",
      "Requirement already satisfied: scikit-learn in c:\\users\\hp\\appdata\\local\\programs\\python\\python311\\lib\\site-packages (1.4.2)\n",
      "Requirement already satisfied: joblib in c:\\users\\hp\\appdata\\local\\programs\\python\\python311\\lib\\site-packages (1.3.2)\n",
      "Requirement already satisfied: starlette<0.38.0,>=0.37.2 in c:\\users\\hp\\appdata\\local\\programs\\python\\python311\\lib\\site-packages (from fastapi) (0.37.2)\n",
      "Requirement already satisfied: pydantic!=1.8,!=1.8.1,!=2.0.0,!=2.0.1,!=2.1.0,<3.0.0,>=1.7.4 in c:\\users\\hp\\appdata\\local\\programs\\python\\python311\\lib\\site-packages (from fastapi) (2.6.4)\n",
      "Requirement already satisfied: typing-extensions>=4.8.0 in c:\\users\\hp\\appdata\\local\\programs\\python\\python311\\lib\\site-packages (from fastapi) (4.9.0)\n",
      "Requirement already satisfied: click>=7.0 in c:\\users\\hp\\appdata\\local\\programs\\python\\python311\\lib\\site-packages (from uvicorn) (8.1.7)\n",
      "Requirement already satisfied: h11>=0.8 in c:\\users\\hp\\appdata\\local\\programs\\python\\python311\\lib\\site-packages (from uvicorn) (0.14.0)\n",
      "Requirement already satisfied: numpy>=1.19.5 in c:\\users\\hp\\appdata\\local\\programs\\python\\python311\\lib\\site-packages (from scikit-learn) (1.26.0)\n",
      "Requirement already satisfied: scipy>=1.6.0 in c:\\users\\hp\\appdata\\local\\programs\\python\\python311\\lib\\site-packages (from scikit-learn) (1.11.4)\n",
      "Requirement already satisfied: threadpoolctl>=2.0.0 in c:\\users\\hp\\appdata\\local\\programs\\python\\python311\\lib\\site-packages (from scikit-learn) (3.5.0)\n",
      "Requirement already satisfied: colorama in c:\\users\\hp\\appdata\\roaming\\python\\python311\\site-packages (from click>=7.0->uvicorn) (0.4.6)\n",
      "Requirement already satisfied: annotated-types>=0.4.0 in c:\\users\\hp\\appdata\\local\\programs\\python\\python311\\lib\\site-packages (from pydantic!=1.8,!=1.8.1,!=2.0.0,!=2.0.1,!=2.1.0,<3.0.0,>=1.7.4->fastapi) (0.6.0)\n",
      "Requirement already satisfied: pydantic-core==2.16.3 in c:\\users\\hp\\appdata\\local\\programs\\python\\python311\\lib\\site-packages (from pydantic!=1.8,!=1.8.1,!=2.0.0,!=2.0.1,!=2.1.0,<3.0.0,>=1.7.4->fastapi) (2.16.3)\n",
      "Requirement already satisfied: anyio<5,>=3.4.0 in c:\\users\\hp\\appdata\\local\\programs\\python\\python311\\lib\\site-packages (from starlette<0.38.0,>=0.37.2->fastapi) (4.3.0)\n",
      "Requirement already satisfied: idna>=2.8 in c:\\users\\hp\\appdata\\local\\programs\\python\\python311\\lib\\site-packages (from anyio<5,>=3.4.0->starlette<0.38.0,>=0.37.2->fastapi) (3.6)\n",
      "Requirement already satisfied: sniffio>=1.1 in c:\\users\\hp\\appdata\\local\\programs\\python\\python311\\lib\\site-packages (from anyio<5,>=3.4.0->starlette<0.38.0,>=0.37.2->fastapi) (1.3.1)\n",
      "Note: you may need to restart the kernel to use updated packages.\n"
     ]
    }
   ],
   "source": [
    "pip install fastapi uvicorn scikit-learn joblib"
   ]
  },
  {
   "cell_type": "code",
   "execution_count": 62,
   "metadata": {},
   "outputs": [
    {
     "data": {
      "text/plain": [
       "['algo.joblib']"
      ]
     },
     "execution_count": 62,
     "metadata": {},
     "output_type": "execute_result"
    }
   ],
   "source": [
    "import joblib\n",
    "joblib.dump(algo, 'algo.joblib')\n"
   ]
  }
 ],
 "metadata": {
  "accelerator": "GPU",
  "colab": {
   "gpuType": "T4",
   "provenance": []
  },
  "kernelspec": {
   "display_name": "Python 3 (ipykernel)",
   "language": "python",
   "name": "python3"
  },
  "language_info": {
   "codemirror_mode": {
    "name": "ipython",
    "version": 3
   },
   "file_extension": ".py",
   "mimetype": "text/x-python",
   "name": "python",
   "nbconvert_exporter": "python",
   "pygments_lexer": "ipython3",
   "version": "3.11.2"
  }
 },
 "nbformat": 4,
 "nbformat_minor": 4
}
